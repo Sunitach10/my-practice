{
 "cells": [
  {
   "cell_type": "code",
   "execution_count": 37,
   "metadata": {},
   "outputs": [],
   "source": []
  },
  {
   "cell_type": "markdown",
   "metadata": {},
   "source": [
    "Assignment-05(mandatory) sunitachoudhary103@gmail.com\n",
    "\n",
    " Objective-Amazon food reviews polarity prediction based on the given review data by applying Naive Bayes algorithm. To build generalized prediction model first step should be necessary cleaning of data as a part of data preprocessing.\n",
    "\n",
    "First clean the data ,remove duplicate entries. other Text-pre processing like.. a.Removing Stop-words b.Remove any punctuations or limited set of special characters like , or . or # etc. c.Snowball Stemming the word d.Convert the word to lowercase\n",
    "\n",
    "Once the data is cleaned to be processed we'll use below Feature generation techniques to convert text to numeric vector.\n",
    "\n",
    "* First sort the data by Time *split the top 10,0000 data into three parts-train,cv,test\n",
    "\n",
    " # 1.BOW-\n",
    "    1.1 GridSearchCV-\n",
    "        *L2-Regularization\n",
    "        *L1-Regularization\n",
    "    1.2 RandomSearchCV-\n",
    "        *L2-Regularization\n",
    "        *L1-Regularization\n",
    "# 2.TFIDF-\n",
    "    2.1 GridSearchCV-\n",
    "        *L2-Regularization\n",
    "        *L1-Regularization\n",
    "    2.2 RandomSearchCV-\n",
    "        *L2-Regularization\n",
    "        *L1-Regularization\n",
    "# 3.Word2Vec-\n",
    "    3.1 AvgW2V-\n",
    "    3.11 GridSearchCV-\n",
    "        *L2-Regularization\n",
    "        *L1-Regularization\n",
    "    3.12 RandomSearchCV-\n",
    "        *L2-Regularization\n",
    "        *L1-Regularization\n",
    "    3.2 TFIDF-W2V-\n",
    "    3.21 GridSearchCV-\n",
    "        *L2-Regularization\n",
    "        *L1-Regularization\n",
    "    3.22 RandomSearchCV-\n",
    "        *L2-Regularization\n",
    "        *L1-Regularization\n",
    "    # 4.Conclusion-\n",
    "     *  PrettyTables\n",
    "    "
   ]
  },
  {
   "cell_type": "code",
   "execution_count": 38,
   "metadata": {},
   "outputs": [],
   "source": [
    "%matplotlib inline\n",
    "import warnings\n",
    "warnings.filterwarnings(\"ignore\")\n",
    "import sqlite3\n",
    "\n",
    "import numpy as np \n",
    "import matplotlib.pyplot as plt\n",
    "import seaborn as sns\n",
    "import nltk\n",
    "import string\n",
    "from sklearn.feature_extraction.text import TfidfVectorizer\n",
    "from sklearn.feature_extraction.text import CountVectorizer\n",
    "from sklearn.preprocessing import StandardScaler\n",
    "import re\n",
    "from nltk.corpus import stopwords\n",
    "from nltk.stem.porter import PorterStemmer\n",
    "\n",
    "from sklearn import cross_validation\n",
    "from sklearn.cross_validation import train_test_split\n",
    "from sklearn.model_selection import train_test_split\n",
    "from sklearn.metrics import accuracy_score\n",
    "from sklearn.cross_validation import cross_val_score\n",
    "from sklearn.metrics import confusion_matrix\n",
    "from sklearn.metrics import classification_report"
   ]
  },
  {
   "cell_type": "code",
   "execution_count": 39,
   "metadata": {},
   "outputs": [],
   "source": [
    "data=sqlite3.connect(\"database.sqlite\")"
   ]
  },
  {
   "cell_type": "code",
   "execution_count": 40,
   "metadata": {},
   "outputs": [],
   "source": [
    "import pandas as pd\n",
    "filtered_data=pd.read_sql_query(\"\"\"\n",
    "SELECT *\n",
    "FROM Reviews\n",
    "WHERE Score !=3\n",
    "\"\"\",data)\n",
    "def partition(x):\n",
    "    if x<3:\n",
    "        return 'negative'\n",
    "    return 'positive'\n",
    "a_score=filtered_data[\"Score\"]\n",
    "positiveNegative=a_score.map(partition)\n",
    "filtered_data[\"Score\"]=positiveNegative"
   ]
  },
  {
   "cell_type": "code",
   "execution_count": 41,
   "metadata": {},
   "outputs": [
    {
     "name": "stdout",
     "output_type": "stream",
     "text": [
      "(525814, 10)\n"
     ]
    }
   ],
   "source": [
    "print(filtered_data.shape)\n"
   ]
  },
  {
   "cell_type": "code",
   "execution_count": 42,
   "metadata": {},
   "outputs": [
    {
     "data": {
      "text/html": [
       "<div>\n",
       "<style scoped>\n",
       "    .dataframe tbody tr th:only-of-type {\n",
       "        vertical-align: middle;\n",
       "    }\n",
       "\n",
       "    .dataframe tbody tr th {\n",
       "        vertical-align: top;\n",
       "    }\n",
       "\n",
       "    .dataframe thead th {\n",
       "        text-align: right;\n",
       "    }\n",
       "</style>\n",
       "<table border=\"1\" class=\"dataframe\">\n",
       "  <thead>\n",
       "    <tr style=\"text-align: right;\">\n",
       "      <th></th>\n",
       "      <th>Id</th>\n",
       "      <th>ProductId</th>\n",
       "      <th>UserId</th>\n",
       "      <th>ProfileName</th>\n",
       "      <th>HelpfulnessNumerator</th>\n",
       "      <th>HelpfulnessDenominator</th>\n",
       "      <th>Score</th>\n",
       "      <th>Time</th>\n",
       "      <th>Summary</th>\n",
       "      <th>Text</th>\n",
       "    </tr>\n",
       "  </thead>\n",
       "  <tbody>\n",
       "    <tr>\n",
       "      <th>0</th>\n",
       "      <td>1</td>\n",
       "      <td>B001E4KFG0</td>\n",
       "      <td>A3SGXH7AUHU8GW</td>\n",
       "      <td>delmartian</td>\n",
       "      <td>1</td>\n",
       "      <td>1</td>\n",
       "      <td>positive</td>\n",
       "      <td>1303862400</td>\n",
       "      <td>Good Quality Dog Food</td>\n",
       "      <td>I have bought several of the Vitality canned d...</td>\n",
       "    </tr>\n",
       "    <tr>\n",
       "      <th>1</th>\n",
       "      <td>2</td>\n",
       "      <td>B00813GRG4</td>\n",
       "      <td>A1D87F6ZCVE5NK</td>\n",
       "      <td>dll pa</td>\n",
       "      <td>0</td>\n",
       "      <td>0</td>\n",
       "      <td>negative</td>\n",
       "      <td>1346976000</td>\n",
       "      <td>Not as Advertised</td>\n",
       "      <td>Product arrived labeled as Jumbo Salted Peanut...</td>\n",
       "    </tr>\n",
       "    <tr>\n",
       "      <th>2</th>\n",
       "      <td>3</td>\n",
       "      <td>B000LQOCH0</td>\n",
       "      <td>ABXLMWJIXXAIN</td>\n",
       "      <td>Natalia Corres \"Natalia Corres\"</td>\n",
       "      <td>1</td>\n",
       "      <td>1</td>\n",
       "      <td>positive</td>\n",
       "      <td>1219017600</td>\n",
       "      <td>\"Delight\" says it all</td>\n",
       "      <td>This is a confection that has been around a fe...</td>\n",
       "    </tr>\n",
       "    <tr>\n",
       "      <th>3</th>\n",
       "      <td>4</td>\n",
       "      <td>B000UA0QIQ</td>\n",
       "      <td>A395BORC6FGVXV</td>\n",
       "      <td>Karl</td>\n",
       "      <td>3</td>\n",
       "      <td>3</td>\n",
       "      <td>negative</td>\n",
       "      <td>1307923200</td>\n",
       "      <td>Cough Medicine</td>\n",
       "      <td>If you are looking for the secret ingredient i...</td>\n",
       "    </tr>\n",
       "    <tr>\n",
       "      <th>4</th>\n",
       "      <td>5</td>\n",
       "      <td>B006K2ZZ7K</td>\n",
       "      <td>A1UQRSCLF8GW1T</td>\n",
       "      <td>Michael D. Bigham \"M. Wassir\"</td>\n",
       "      <td>0</td>\n",
       "      <td>0</td>\n",
       "      <td>positive</td>\n",
       "      <td>1350777600</td>\n",
       "      <td>Great taffy</td>\n",
       "      <td>Great taffy at a great price.  There was a wid...</td>\n",
       "    </tr>\n",
       "  </tbody>\n",
       "</table>\n",
       "</div>"
      ],
      "text/plain": [
       "   Id   ProductId          UserId                      ProfileName  \\\n",
       "0   1  B001E4KFG0  A3SGXH7AUHU8GW                       delmartian   \n",
       "1   2  B00813GRG4  A1D87F6ZCVE5NK                           dll pa   \n",
       "2   3  B000LQOCH0   ABXLMWJIXXAIN  Natalia Corres \"Natalia Corres\"   \n",
       "3   4  B000UA0QIQ  A395BORC6FGVXV                             Karl   \n",
       "4   5  B006K2ZZ7K  A1UQRSCLF8GW1T    Michael D. Bigham \"M. Wassir\"   \n",
       "\n",
       "   HelpfulnessNumerator  HelpfulnessDenominator     Score        Time  \\\n",
       "0                     1                       1  positive  1303862400   \n",
       "1                     0                       0  negative  1346976000   \n",
       "2                     1                       1  positive  1219017600   \n",
       "3                     3                       3  negative  1307923200   \n",
       "4                     0                       0  positive  1350777600   \n",
       "\n",
       "                 Summary                                               Text  \n",
       "0  Good Quality Dog Food  I have bought several of the Vitality canned d...  \n",
       "1      Not as Advertised  Product arrived labeled as Jumbo Salted Peanut...  \n",
       "2  \"Delight\" says it all  This is a confection that has been around a fe...  \n",
       "3         Cough Medicine  If you are looking for the secret ingredient i...  \n",
       "4            Great taffy  Great taffy at a great price.  There was a wid...  "
      ]
     },
     "execution_count": 42,
     "metadata": {},
     "output_type": "execute_result"
    }
   ],
   "source": [
    "filtered_data.head()"
   ]
  },
  {
   "cell_type": "code",
   "execution_count": 43,
   "metadata": {},
   "outputs": [
    {
     "data": {
      "text/plain": [
       "(364173, 10)"
      ]
     },
     "execution_count": 43,
     "metadata": {},
     "output_type": "execute_result"
    }
   ],
   "source": [
    "sorted_data=filtered_data.sort_values('ProductId',ascending=True,inplace=False,kind='quickSort',na_position='last')\n",
    "#de duplication of entries\n",
    "final=sorted_data.drop_duplicates(subset={'UserId','ProfileName','Time','Text'},keep='first',inplace=False)\n",
    "final.shape"
   ]
  },
  {
   "cell_type": "code",
   "execution_count": 44,
   "metadata": {},
   "outputs": [
    {
     "name": "stdout",
     "output_type": "stream",
     "text": [
      "(364171, 10)\n"
     ]
    },
    {
     "data": {
      "text/plain": [
       "positive    307061\n",
       "negative     57110\n",
       "Name: Score, dtype: int64"
      ]
     },
     "execution_count": 44,
     "metadata": {},
     "output_type": "execute_result"
    }
   ],
   "source": [
    "final=final[final.HelpfulnessNumerator <= final.HelpfulnessDenominator]\n",
    "print(final.shape)\n",
    "#How many positive and negative reviews are present in our dataset?\n",
    "final['Score'].value_counts()"
   ]
  },
  {
   "cell_type": "code",
   "execution_count": 45,
   "metadata": {},
   "outputs": [
    {
     "name": "stdout",
     "output_type": "stream",
     "text": [
      "{'with', 'is', 'too', 'haven', 'you', 'against', 'mightn', \"it's\", 'while', 'hadn', 'be', 'weren', 'own', 'until', 'needn', 'through', \"wasn't\", \"couldn't\", 'she', 'it', 'other', \"aren't\", 'himself', 'by', 'such', 're', 'an', 'than', \"needn't\", 'his', 've', 'were', 'some', 'then', 'has', 'down', 'when', 'herself', 'how', \"shan't\", \"you've\", 'are', 'because', 'her', \"shouldn't\", 'again', 'both', 's', \"you're\", 'not', 'o', 'had', 'at', \"she's\", 'y', \"mustn't\", 'all', 'most', 'yours', 'won', 'i', \"should've\", 'that', 'below', 'him', 'no', 'but', 'who', 'if', 'over', 'these', 'll', 'same', 'am', 'what', 'we', 'above', 'they', 'them', 'those', 'or', 'can', 'each', \"you'll\", 'aren', 'up', \"you'd\", 'of', 'don', 'to', 'there', 'have', 'being', \"hasn't\", 'why', 'my', \"that'll\", \"wouldn't\", 'before', \"doesn't\", 'and', 'theirs', 'this', \"mightn't\", 'into', 'nor', 'should', 'few', 'didn', 'hasn', \"weren't\", 'having', 'does', 'was', 'just', 'off', 'now', 'on', 'whom', 't', 'only', 'hers', \"don't\", 'our', 'a', 'as', 'ourselves', 'doing', 'shan', 'more', 'their', 'under', 'isn', 'yourselves', 'he', 'ma', \"didn't\", 'during', 'after', \"hadn't\", 'did', 'out', 'any', 'shouldn', 'its', 'about', 'me', 'further', 'here', 'd', 'itself', 'from', 'wasn', 'm', 'myself', 'wouldn', \"isn't\", 'mustn', 'very', 'your', 'doesn', 'the', 'for', 'themselves', 'in', 'so', \"haven't\", 'yourself', 'do', 'which', 'between', 'couldn', \"won't\", 'ours', 'where', 'ain', 'once', 'been', 'will'}\n",
      "tasti\n",
      "CPU times: user 1.37 ms, sys: 20 µs, total: 1.39 ms\n",
      "Wall time: 854 µs\n"
     ]
    }
   ],
   "source": [
    "%%time\n",
    "import re\n",
    "import string\n",
    "from nltk.corpus import stopwords\n",
    "from nltk.stem.porter import PorterStemmer\n",
    "from nltk.stem.wordnet import WordNetLemmatizer\n",
    "stop=set(stopwords.words('english'))\n",
    "print(stop)\n",
    "sno=nltk.stem.SnowballStemmer('english')\n",
    "print(sno.stem('tasty'))\n",
    "\n",
    "def cleanhtml(sentence):#function to clean the word of any html-tags\n",
    "    cleanr=re.compile('<.*?>')\n",
    "    cleantext=re.sub(cleanr,'',sentence)\n",
    "    return cleantext\n",
    "def cleanpunc(sentence):#function to clean the word of any punctuation or special characters\n",
    "    cleaned=re.sub(r'[!|?|<|,|/|.]',r'',sentence)\n",
    "    cleaned=re.sub(r'[;|\"|\\|)]',r'',cleaned)\n",
    "    return cleaned"
   ]
  },
  {
   "cell_type": "code",
   "execution_count": 46,
   "metadata": {},
   "outputs": [
    {
     "name": "stdout",
     "output_type": "stream",
     "text": [
      "CPU times: user 6min 13s, sys: 674 ms, total: 6min 13s\n",
      "Wall time: 6min 13s\n"
     ]
    }
   ],
   "source": [
    "%%time\n",
    "\n",
    "#Code for implementing step-by-step the checks mentioned in the pre-processing phase\n",
    "j=0\n",
    "str1=''\n",
    "sn=''\n",
    "final_string=[]\n",
    "positive_R=[]\n",
    "negative_R=[]\n",
    "for sent in final['Text'].values:\n",
    "    filtered_sentence=[]\n",
    "    #print(sent)\n",
    "    sent=cleanhtml(sent)#remove html tags\n",
    "    for w in sent.split():\n",
    "        for cleaned_words in cleanpunc(w).split():\n",
    "            if(cleaned_words.isalpha())& (len(cleaned_words)>2):\n",
    "                if(cleaned_words.lower() not in stop):\n",
    "                    sn=(sno.stem(cleaned_words.lower())).encode('utf8')\n",
    "                    filtered_sentence.append(sn)\n",
    "                    if(final['Score'].values)[j]=='positive':\n",
    "                        positive_R.append(sn)\n",
    "                    if(final['Score'].values)[j]=='negative':\n",
    "                        negative_R.append(sn)\n",
    "                        \n",
    "                else:\n",
    "                    continue\n",
    "            else:\n",
    "                continue\n",
    "       #print(filtered_sentance)\n",
    "    str1=b\" \".join(filtered_sentence) #final string of clean_words\n",
    "    #print(\"@@@@@@@@@@@@@@@@@@@@@@@@@@@@@@@@@@@@@@@@@@@@@@@@@@@@@@@@@@@@@@@@@@@@@@@@@@@@\")\n",
    "    final_string.append(str1)\n",
    "    j+=1\n"
   ]
  },
  {
   "cell_type": "code",
   "execution_count": 47,
   "metadata": {},
   "outputs": [
    {
     "name": "stdout",
     "output_type": "stream",
     "text": [
      "            Id   ProductId          UserId            ProfileName  \\\n",
      "138706  150524  0006641040   ACITT7DI6IDDL        shari zychinski   \n",
      "138688  150506  0006641040  A2IW4PEEKO2R0U                  Tracy   \n",
      "138689  150507  0006641040  A1S4A3IQ2MU7V4  sally sue \"sally sue\"   \n",
      "\n",
      "        HelpfulnessNumerator  HelpfulnessDenominator     Score        Time  \\\n",
      "138706                     0                       0  positive   939340800   \n",
      "138688                     1                       1  positive  1194739200   \n",
      "138689                     1                       1  positive  1191456000   \n",
      "\n",
      "                                           Summary  \\\n",
      "138706                   EVERY book is educational   \n",
      "138688  Love the book, miss the hard cover version   \n",
      "138689               chicken soup with rice months   \n",
      "\n",
      "                                                     Text  \\\n",
      "138706  this witty little book makes my son laugh at l...   \n",
      "138688  I grew up reading these Sendak books, and watc...   \n",
      "138689  This is a fun way for children to learn their ...   \n",
      "\n",
      "                                             cleaned_Text  \n",
      "138706  witti littl book make son laugh loud recit car...  \n",
      "138688  grew read sendak book watch realli rosi movi i...  \n",
      "138689  fun way children learn month year learn poem t...  \n",
      "Index(['Id', 'ProductId', 'UserId', 'ProfileName', 'HelpfulnessNumerator',\n",
      "       'HelpfulnessDenominator', 'Score', 'Time', 'Summary', 'Text',\n",
      "       'cleaned_Text'],\n",
      "      dtype='object')\n",
      "CPU times: user 811 ms, sys: 40 ms, total: 851 ms\n",
      "Wall time: 847 ms\n"
     ]
    }
   ],
   "source": [
    "%%time\n",
    "\n",
    "final['cleaned_Text']=final_string #adding a column of CleanedText which displays the data after pre-processing of the review\n",
    "final['cleaned_Text']=final['cleaned_Text'].str.decode('utf-8')\n",
    "print(final.head(3))\n",
    "\n",
    "\n",
    "print(final.columns)"
   ]
  },
  {
   "cell_type": "markdown",
   "metadata": {},
   "source": [
    "# time based sorting"
   ]
  },
  {
   "cell_type": "code",
   "execution_count": 48,
   "metadata": {},
   "outputs": [
    {
     "name": "stdout",
     "output_type": "stream",
     "text": [
      "CPU times: user 2.73 s, sys: 24 ms, total: 2.75 s\n",
      "Wall time: 1.07 s\n"
     ]
    }
   ],
   "source": [
    "%%time\n",
    "from datetime import timedelta\n",
    "#sorting based on time\n",
    "#final['Time']=pd.to_datetime(final['Time'])\n",
    "final['Time']=pd.to_datetime(final.Time)\n",
    "\n",
    "final=final.sort_values('Time',ascending=True,inplace=False,kind='quickSort',na_position='last')"
   ]
  },
  {
   "cell_type": "code",
   "execution_count": null,
   "metadata": {},
   "outputs": [],
   "source": []
  },
  {
   "cell_type": "code",
   "execution_count": 49,
   "metadata": {},
   "outputs": [
    {
     "data": {
      "text/html": [
       "<div>\n",
       "<style scoped>\n",
       "    .dataframe tbody tr th:only-of-type {\n",
       "        vertical-align: middle;\n",
       "    }\n",
       "\n",
       "    .dataframe tbody tr th {\n",
       "        vertical-align: top;\n",
       "    }\n",
       "\n",
       "    .dataframe thead th {\n",
       "        text-align: right;\n",
       "    }\n",
       "</style>\n",
       "<table border=\"1\" class=\"dataframe\">\n",
       "  <thead>\n",
       "    <tr style=\"text-align: right;\">\n",
       "      <th></th>\n",
       "      <th>Id</th>\n",
       "      <th>ProductId</th>\n",
       "      <th>UserId</th>\n",
       "      <th>ProfileName</th>\n",
       "      <th>HelpfulnessNumerator</th>\n",
       "      <th>HelpfulnessDenominator</th>\n",
       "      <th>Score</th>\n",
       "      <th>Time</th>\n",
       "      <th>Summary</th>\n",
       "      <th>Text</th>\n",
       "      <th>cleaned_Text</th>\n",
       "    </tr>\n",
       "  </thead>\n",
       "  <tbody>\n",
       "    <tr>\n",
       "      <th>138706</th>\n",
       "      <td>150524</td>\n",
       "      <td>0006641040</td>\n",
       "      <td>ACITT7DI6IDDL</td>\n",
       "      <td>shari zychinski</td>\n",
       "      <td>0</td>\n",
       "      <td>0</td>\n",
       "      <td>positive</td>\n",
       "      <td>1970-01-01 00:00:00.939340800</td>\n",
       "      <td>EVERY book is educational</td>\n",
       "      <td>this witty little book makes my son laugh at l...</td>\n",
       "      <td>witti littl book make son laugh loud recit car...</td>\n",
       "    </tr>\n",
       "    <tr>\n",
       "      <th>138683</th>\n",
       "      <td>150501</td>\n",
       "      <td>0006641040</td>\n",
       "      <td>AJ46FKXOVC7NR</td>\n",
       "      <td>Nicholas A Mesiano</td>\n",
       "      <td>2</td>\n",
       "      <td>2</td>\n",
       "      <td>positive</td>\n",
       "      <td>1970-01-01 00:00:00.940809600</td>\n",
       "      <td>This whole series is great way to spend time w...</td>\n",
       "      <td>I can remember seeing the show when it aired o...</td>\n",
       "      <td>rememb see show air televis year ago child sis...</td>\n",
       "    </tr>\n",
       "  </tbody>\n",
       "</table>\n",
       "</div>"
      ],
      "text/plain": [
       "            Id   ProductId         UserId         ProfileName  \\\n",
       "138706  150524  0006641040  ACITT7DI6IDDL     shari zychinski   \n",
       "138683  150501  0006641040  AJ46FKXOVC7NR  Nicholas A Mesiano   \n",
       "\n",
       "        HelpfulnessNumerator  HelpfulnessDenominator     Score  \\\n",
       "138706                     0                       0  positive   \n",
       "138683                     2                       2  positive   \n",
       "\n",
       "                                Time  \\\n",
       "138706 1970-01-01 00:00:00.939340800   \n",
       "138683 1970-01-01 00:00:00.940809600   \n",
       "\n",
       "                                                  Summary  \\\n",
       "138706                          EVERY book is educational   \n",
       "138683  This whole series is great way to spend time w...   \n",
       "\n",
       "                                                     Text  \\\n",
       "138706  this witty little book makes my son laugh at l...   \n",
       "138683  I can remember seeing the show when it aired o...   \n",
       "\n",
       "                                             cleaned_Text  \n",
       "138706  witti littl book make son laugh loud recit car...  \n",
       "138683  rememb see show air televis year ago child sis...  "
      ]
     },
     "execution_count": 49,
     "metadata": {},
     "output_type": "execute_result"
    }
   ],
   "source": [
    "final.head(2)"
   ]
  },
  {
   "cell_type": "code",
   "execution_count": 50,
   "metadata": {},
   "outputs": [],
   "source": [
    "X_train, y_train = final['cleaned_Text'].iloc[0:80000], final['Score'].iloc[0:80000]\n",
    "#X_cv, y_cv = final['cleaned_Text'].iloc[60000:80000], final['Score'].iloc[60000:80000]\n",
    "X_test, y_test = final['cleaned_Text'].iloc[80000:100000], final['Score'].iloc[80000:100000]\n"
   ]
  },
  {
   "cell_type": "markdown",
   "metadata": {},
   "source": [
    " # 1.BOW"
   ]
  },
  {
   "cell_type": "code",
   "execution_count": 51,
   "metadata": {},
   "outputs": [
    {
     "name": "stdout",
     "output_type": "stream",
     "text": [
      "(80000, 67317) (20000, 67317)\n"
     ]
    }
   ],
   "source": [
    "#BoW\n",
    "count_vect = CountVectorizer()\n",
    "count_vect.fit(X_train)\n",
    "X_train=count_vect.transform(X_train)\n",
    "#X_cv=count_vect.transform(X_cv)\n",
    "X_test=count_vect.transform(X_test)\n",
    "print(X_train.shape,X_test.shape)"
   ]
  },
  {
   "cell_type": "code",
   "execution_count": 52,
   "metadata": {},
   "outputs": [
    {
     "data": {
      "text/plain": [
       "<20000x67317 sparse matrix of type '<class 'numpy.float64'>'\n",
       "\twith 580348 stored elements in Compressed Sparse Row format>"
      ]
     },
     "execution_count": 52,
     "metadata": {},
     "output_type": "execute_result"
    }
   ],
   "source": [
    "#Standerdized the data\n",
    "scaler = StandardScaler(with_mean=False)\n",
    "scaler.fit(X_train)\n",
    "scaler.transform(X_train)\n",
    "scaler.transform(X_test)"
   ]
  },
  {
   "cell_type": "code",
   "execution_count": 53,
   "metadata": {},
   "outputs": [],
   "source": [
    "from sklearn.model_selection import TimeSeriesSplit\n",
    "tscv = TimeSeriesSplit()\n",
    "my_cv = [(X_train,X_test) for X_train, X_test in TimeSeriesSplit(n_splits=3).split(X_train)]\n"
   ]
  },
  {
   "cell_type": "markdown",
   "metadata": {},
   "source": [
    " # GridsearchCV"
   ]
  },
  {
   "cell_type": "code",
   "execution_count": 19,
   "metadata": {},
   "outputs": [
    {
     "name": "stderr",
     "output_type": "stream",
     "text": [
      "/home/sunitachoudhary103/anaconda3/lib/python3.6/site-packages/sklearn/grid_search.py:42: DeprecationWarning: This module was deprecated in version 0.18 in favor of the model_selection module into which all the refactored classes and functions are moved. This module will be removed in 0.20.\n",
      "  DeprecationWarning)\n"
     ]
    },
    {
     "name": "stdout",
     "output_type": "stream",
     "text": [
      "LogisticRegression(C=1, class_weight=None, dual=False, fit_intercept=True,\n",
      "          intercept_scaling=1, max_iter=100, multi_class='ovr', n_jobs=1,\n",
      "          penalty='l2', random_state=None, solver='liblinear', tol=0.0001,\n",
      "          verbose=0, warm_start=False)\n",
      "best_score\n",
      "0.9198529963249081\n",
      "Parameters\n",
      "{'C': 1}\n",
      "0.92095\n",
      "CPU times: user 24min 59s, sys: 23.4 s, total: 25min 22s\n",
      "Wall time: 3min 10s\n"
     ]
    }
   ],
   "source": [
    "%%time\n",
    "from sklearn.grid_search import GridSearchCV\n",
    "from sklearn.datasets import *\n",
    "from sklearn.linear_model import LogisticRegression\n",
    "from sklearn.model_selection import TimeSeriesSplit\n",
    "tscv = TimeSeriesSplit()\n",
    "my_cv = [(X_train,X_test) for X_train, X_test in TimeSeriesSplit(n_splits=5).split(X_train)]\n",
    "\n",
    "tuned_parameters = [{'C': [10**-4, 10**-2, 10**0, 10**2, 10**4]}]\n",
    "#Using GridSearchCV\n",
    "model = GridSearchCV(LogisticRegression(penalty='l2'), tuned_parameters, scoring = 'accuracy', cv=my_cv)\n",
    "model.fit(X_train, y_train)\n",
    "\n",
    "print(model.best_estimator_)\n",
    "\n",
    "\n",
    "print(\"best_score\")\n",
    "print(model.best_score_)\n",
    "\n",
    "\n",
    "print('Parameters')\n",
    "print(model.best_params_)\n",
    "\n",
    "\n",
    "#model_mean_scores = [result.mean_validation_score for result in model.grid_scores_]\n",
    "print(model.score(X_test,y_test))\n"
   ]
  },
  {
   "cell_type": "markdown",
   "metadata": {},
   "source": [
    " # Logistic regression-l2 regularization-GridSearch-BOW"
   ]
  },
  {
   "cell_type": "code",
   "execution_count": 20,
   "metadata": {},
   "outputs": [
    {
     "name": "stdout",
     "output_type": "stream",
     "text": [
      "Train score\n",
      "0.9628\n",
      "Test accuracy:\n",
      "\n",
      " ****Test accuracy for C=1.0 is 0.890\n",
      "Test score\n",
      "0.92095\n"
     ]
    }
   ],
   "source": [
    "#logistic regression-l2 regularization\n",
    "from sklearn.linear_model import LogisticRegression\n",
    "LR = LogisticRegression(penalty='l2',C=1.0,class_weight='balanced')\n",
    "LR.fit(X_train,y_train)\n",
    "pre = LR.predict(X_train)\n",
    "error= 1-(accuracy_score(pre,y_train))\n",
    "\n",
    "print(\"Train score\")\n",
    "print(model.score(X_train,y_train))\n",
    "\n",
    "pred = LR.predict(X_test)\n",
    "print(\"Test accuracy:\")\n",
    "\n",
    "acc=accuracy_score(y_test,pred)\n",
    "print('\\n ****Test accuracy for C=1.0 is %.3f' %(acc))\n",
    "\n",
    "print(\"Test score\")\n",
    "score1 = model.score(X_test,y_test)\n",
    "print(score1)\n",
    "#print('accuracy for C=%f is %f' %(acc))\n",
    "\n"
   ]
  },
  {
   "cell_type": "code",
   "execution_count": 21,
   "metadata": {},
   "outputs": [
    {
     "name": "stdout",
     "output_type": "stream",
     "text": [
      "f1: 0.89045\n"
     ]
    }
   ],
   "source": [
    "from sklearn.metrics import f1_score\n",
    "print(\"f1:\", f1_score(y_test, pred,average='micro'))#...........................run"
   ]
  },
  {
   "cell_type": "markdown",
   "metadata": {},
   "source": [
    "# Confusion Matrix"
   ]
  },
  {
   "cell_type": "code",
   "execution_count": 25,
   "metadata": {},
   "outputs": [
    {
     "data": {
      "text/plain": [
       "array([[ 2128,   550],\n",
       "       [ 1641, 15681]])"
      ]
     },
     "execution_count": 25,
     "metadata": {},
     "output_type": "execute_result"
    }
   ],
   "source": [
    "#confusion matrix\n",
    "from sklearn.metrics import confusion_matrix\n",
    "cm=confusion_matrix(y_test,pred)\n",
    "cm"
   ]
  },
  {
   "cell_type": "code",
   "execution_count": 26,
   "metadata": {},
   "outputs": [
    {
     "data": {
      "image/png": "[encoded data removed]",
      "text/plain": [
       "<Figure size 432x288 with 2 Axes>"
      ]
     },
     "metadata": {},
     "output_type": "display_data"
    }
   ],
   "source": [
    "#plot the confusion matrix to describe the performance\n",
    "import seaborn as sns\n",
    "class_label=['negative','positive']\n",
    "df_cm=pd.DataFrame(cm,index=class_label,columns=class_label)\n",
    "sns.heatmap(df_cm,annot=True,fmt='d')\n",
    "plt.title(\"Confusion matrix\")\n",
    "plt.xlabel(\"pred label\")\n",
    "plt.ylabel(\"True label\")\n",
    "plt.show()"
   ]
  },
  {
   "cell_type": "markdown",
   "metadata": {},
   "source": [
    "#MultiCollinearty check"
   ]
  },
  {
   "cell_type": "code",
   "execution_count": 54,
   "metadata": {},
   "outputs": [
    {
     "data": {
      "text/plain": [
       "LogisticRegression(C=1.0, class_weight=None, dual=False, fit_intercept=True,\n",
       "          intercept_scaling=1, max_iter=100, multi_class='ovr', n_jobs=1,\n",
       "          penalty='l2', random_state=None, solver='liblinear', tol=0.0001,\n",
       "          verbose=0, warm_start=False)"
      ]
     },
     "execution_count": 54,
     "metadata": {},
     "output_type": "execute_result"
    }
   ],
   "source": [
    "X_train, y_train = final['cleaned_Text'].iloc[0:80000], final['Score'].iloc[0:80000]\n",
    "#X_cv, y_cv = final['cleaned_Text'].iloc[60000:80000], final['Score'].iloc[60000:80000]\n",
    "X_test, y_test = final['cleaned_Text'].iloc[80000:100000], final['Score'].iloc[80000:100000]\n",
    "\n",
    "#BoW\n",
    "count_vect = CountVectorizer()\n",
    "count_vect.fit(X_train)\n",
    "X_train=count_vect.transform(X_train)\n",
    "#X_cv=count_vect.transform(X_cv)\n",
    "X_test=count_vect.transform(X_test)\n",
    "#print(X_train.shape,X_test.shape)\n",
    "\n",
    "#Standerdized the data\n",
    "scaler = StandardScaler(with_mean=False)\n",
    "scaler.fit(X_train)\n",
    "scaler.transform(X_train)\n",
    "scaler.transform(X_test)\n",
    "\n",
    "#logistic regression-l2 regularization\n",
    "from sklearn.linear_model import LogisticRegression\n",
    "LR = LogisticRegression(penalty='l2',C=1.0)\n",
    "LR.fit(X_train,y_train)\n",
    "\n"
   ]
  },
  {
   "cell_type": "code",
   "execution_count": 55,
   "metadata": {},
   "outputs": [
    {
     "data": {
      "text/plain": [
       "array([[ 1.02910381e-03,  9.29137999e-03,  7.16708496e-02, ...,\n",
       "        -1.58613403e-01,  1.22470477e-05,  7.14729687e-03]])"
      ]
     },
     "execution_count": 55,
     "metadata": {},
     "output_type": "execute_result"
    }
   ],
   "source": [
    "w = LR.coef_\n",
    "w\n"
   ]
  },
  {
   "cell_type": "code",
   "execution_count": 64,
   "metadata": {},
   "outputs": [
    {
     "data": {
      "text/plain": [
       "True"
      ]
     },
     "execution_count": 64,
     "metadata": {},
     "output_type": "execute_result"
    }
   ],
   "source": [
    "w.all()"
   ]
  },
  {
   "cell_type": "code",
   "execution_count": 65,
   "metadata": {},
   "outputs": [],
   "source": [
    "length=w.shape[1]"
   ]
  },
  {
   "cell_type": "code",
   "execution_count": 66,
   "metadata": {},
   "outputs": [],
   "source": [
    "#adding noise\n",
    "import numpy as np\n",
    "\n",
    "Noise=np.random.normal(loc=0.0,scale=0.10)\n",
    "X_train.data= X_train.data + Noise\n"
   ]
  },
  {
   "cell_type": "code",
   "execution_count": 67,
   "metadata": {},
   "outputs": [
    {
     "data": {
      "text/plain": [
       "LogisticRegression(C=1.0, class_weight=None, dual=False, fit_intercept=True,\n",
       "          intercept_scaling=1, max_iter=100, multi_class='ovr', n_jobs=1,\n",
       "          penalty='l2', random_state=None, solver='liblinear', tol=0.0001,\n",
       "          verbose=0, warm_start=False)"
      ]
     },
     "execution_count": 67,
     "metadata": {},
     "output_type": "execute_result"
    }
   ],
   "source": [
    "#logistic regression-l2 regularization\n",
    "from sklearn.linear_model import LogisticRegression\n",
    "LR = LogisticRegression(penalty='l2',C=1.0)\n",
    "LR.fit(X_train,y_train)\n",
    "\n",
    "\n"
   ]
  },
  {
   "cell_type": "code",
   "execution_count": 68,
   "metadata": {},
   "outputs": [
    {
     "data": {
      "text/plain": [
       "array([[ 1.04782015e-03,  9.86650957e-03,  6.37778491e-02, ...,\n",
       "        -1.44333763e-01,  1.82862920e-05,  5.70574318e-03]])"
      ]
     },
     "execution_count": 68,
     "metadata": {},
     "output_type": "execute_result"
    }
   ],
   "source": [
    "w1 = LR.coef_\n",
    "w1\n",
    "\n"
   ]
  },
  {
   "cell_type": "code",
   "execution_count": 69,
   "metadata": {},
   "outputs": [
    {
     "data": {
      "text/plain": [
       "True"
      ]
     },
     "execution_count": 69,
     "metadata": {},
     "output_type": "execute_result"
    }
   ],
   "source": [
    "w1.all()"
   ]
  },
  {
   "cell_type": "code",
   "execution_count": 73,
   "metadata": {},
   "outputs": [],
   "source": [
    "from scipy import spatial\n",
    "def isMultic(w,w1,length):\n",
    "    count = 0\n",
    "    d=spatial.distance.euclidean(w,w1)\n",
    "    print(f'\\n Euc.distance between w vctors after perturbation is {d}')\n",
    "    cos_d=spatial.distance.cosine(w,w1)\n",
    "    print(f'\\n cosine similarity b/w after perturbation is {cos_d}')\n",
    "    \n",
    "    for i in range(0,length-1):\n",
    "        x =(abs(w[:,i]-w1[:,i]))/w[:i]\n",
    "        x.all()\n",
    "        if (x.all() >= 0.3):\n",
    "            count+=1\n",
    "    if(count!=0):\n",
    "          print(f'\\n{count} number of features out of {length} are multicollinear as they vary by more than 30% after perturbation')\n",
    "    "
   ]
  },
  {
   "cell_type": "code",
   "execution_count": 74,
   "metadata": {},
   "outputs": [
    {
     "name": "stdout",
     "output_type": "stream",
     "text": [
      "\n",
      " Euc.distance between w vctors after perturbation is 4.65378813831177\n",
      "\n",
      " cosine similarity b/w after perturbation is 0.003030973250453317\n",
      "\n",
      "67316 number of features out of 67317 are multicollinear as they vary by more than 30% after perturbation\n"
     ]
    }
   ],
   "source": [
    "isMultic(w,w1,length)"
   ]
  },
  {
   "cell_type": "code",
   "execution_count": null,
   "metadata": {},
   "outputs": [],
   "source": []
  },
  {
   "cell_type": "markdown",
   "metadata": {},
   "source": [
    " # Logistic regression-l1 regularization"
   ]
  },
  {
   "cell_type": "code",
   "execution_count": 20,
   "metadata": {},
   "outputs": [
    {
     "name": "stdout",
     "output_type": "stream",
     "text": [
      "LogisticRegression(C=1, class_weight=None, dual=False, fit_intercept=True,\n",
      "          intercept_scaling=1, max_iter=100, multi_class='ovr', n_jobs=1,\n",
      "          penalty='l1', random_state=None, solver='liblinear', tol=0.0001,\n",
      "          verbose=0, warm_start=False)\n",
      "Test_score\n",
      "0.9213\n"
     ]
    }
   ],
   "source": [
    "\n",
    "from sklearn.grid_search import GridSearchCV\n",
    "from sklearn.datasets import *\n",
    "from sklearn.linear_model import LogisticRegression\n",
    "from sklearn.model_selection import TimeSeriesSplit\n",
    "tscv = TimeSeriesSplit()\n",
    "my_cv = [(X_train,X_test) for X_train, X_test in TimeSeriesSplit(n_splits=3).split(X_train)]\n",
    "\n",
    "tuned_parameters = [{'C': [10**-4, 10**-2, 10**0, 10**2, 10**4]}]\n",
    "#Using GridSearchCV\n",
    "model = GridSearchCV(LogisticRegression(penalty='l1'), tuned_parameters, scoring = 'accuracy', cv=my_cv)\n",
    "model.fit(X_train, y_train)\n",
    "\n",
    "print(model.best_estimator_)\n",
    "\n",
    "\n",
    "print(\"Test_score\")\n",
    "print(model.score(X_test,y_test))"
   ]
  },
  {
   "cell_type": "code",
   "execution_count": 21,
   "metadata": {},
   "outputs": [
    {
     "name": "stdout",
     "output_type": "stream",
     "text": [
      "Train_score\n",
      "0.9512625\n"
     ]
    }
   ],
   "source": [
    "print(\"Train_score\")\n",
    "print(model.score(X_train,y_train))"
   ]
  },
  {
   "cell_type": "code",
   "execution_count": 22,
   "metadata": {},
   "outputs": [
    {
     "name": "stdout",
     "output_type": "stream",
     "text": [
      "Best Parameters\n",
      "{'C': 1}\n"
     ]
    }
   ],
   "source": [
    "print('Best Parameters')\n",
    "print(model.best_params_)"
   ]
  },
  {
   "cell_type": "code",
   "execution_count": 32,
   "metadata": {},
   "outputs": [
    {
     "name": "stdout",
     "output_type": "stream",
     "text": [
      "accuracy for C=1 is 0.887\n"
     ]
    }
   ],
   "source": [
    "#logistic regression-l1 regularization\n",
    "LR = LogisticRegression(penalty='l1',C=1.0,class_weight='balanced')# lambda=1\n",
    "LR.fit(X_train,y_train)\n",
    "pred = LR.predict(X_test)\n",
    "acc=accuracy_score(y_test,pred)\n",
    "\n",
    "print('accuracy for C=1 is %0.3f' %(acc))\n"
   ]
  },
  {
   "cell_type": "code",
   "execution_count": 33,
   "metadata": {},
   "outputs": [
    {
     "name": "stdout",
     "output_type": "stream",
     "text": [
      "f1: 0.88705\n"
     ]
    }
   ],
   "source": [
    "\n",
    "\n",
    "from sklearn.metrics import f1_score\n",
    "print(\"f1:\", f1_score(y_test, pred,average='micro'))\n"
   ]
  },
  {
   "cell_type": "markdown",
   "metadata": {},
   "source": [
    " # Confusion Matrix"
   ]
  },
  {
   "cell_type": "code",
   "execution_count": 24,
   "metadata": {},
   "outputs": [
    {
     "data": {
      "text/plain": [
       "array([[ 2130,   548],\n",
       "       [ 1697, 15625]])"
      ]
     },
     "execution_count": 24,
     "metadata": {},
     "output_type": "execute_result"
    }
   ],
   "source": [
    "#confusion matrix\n",
    "from sklearn.metrics import confusion_matrix\n",
    "cm=confusion_matrix(y_test,pred)\n",
    "cm"
   ]
  },
  {
   "cell_type": "code",
   "execution_count": 25,
   "metadata": {},
   "outputs": [
    {
     "data": {
      "image/png": "[encoded data removed]",
      "text/plain": [
       "<Figure size 432x288 with 2 Axes>"
      ]
     },
     "metadata": {},
     "output_type": "display_data"
    }
   ],
   "source": [
    "#plot the confusion matrix to describe the performance\n",
    "import seaborn as sns\n",
    "class_label=['negative','positive']\n",
    "df_cm=pd.DataFrame(cm,index=class_label,columns=class_label)\n",
    "sns.heatmap(df_cm,annot=True,fmt='d')\n",
    "plt.title(\"Confusion matrix\")\n",
    "plt.xlabel(\"pred label\")\n",
    "plt.ylabel(\"True label\")\n",
    "plt.show()"
   ]
  },
  {
   "cell_type": "code",
   "execution_count": null,
   "metadata": {},
   "outputs": [],
   "source": [
    "#report -performance as lambda inc.-effect on sparcity and error..........with diffrent values of c"
   ]
  },
  {
   "cell_type": "code",
   "execution_count": 40,
   "metadata": {},
   "outputs": [
    {
     "name": "stdout",
     "output_type": "stream",
     "text": [
      "Test_accu: 0.88725\n",
      "5668\n"
     ]
    }
   ],
   "source": [
    "\n",
    "#sparcity-1\n",
    "LR1 = LogisticRegression(penalty='l1',C=1,class_weight='balanced')# put the correct c - =..........\n",
    "LR1.fit(X_train,y_train)\n",
    "pred1=LR1.predict(X_test)\n",
    "Test_acc = accuracy_score(y_test,pred1)\n",
    "print(\"Test_accu:\",Test_acc)\n",
    "w = LR1.coef_\n",
    "print(np.count_nonzero(w))\n",
    "\n"
   ]
  },
  {
   "cell_type": "code",
   "execution_count": 98,
   "metadata": {},
   "outputs": [
    {
     "name": "stdout",
     "output_type": "stream",
     "text": [
      "Test_accu: 0.9159\n",
      "840\n"
     ]
    }
   ],
   "source": [
    "#sparcity-2\n",
    "LR1 = LogisticRegression(penalty='l1',C=0.1,class_weight='balanced')# put the correct c - =..........\n",
    "LR1.fit(X_train,y_train)\n",
    "pred1=LR1.predict(X_test)\n",
    "Test_acc = accuracy_score(y_test,pred1)\n",
    "print(\"Test_accu:\",Test_acc)\n",
    "w = LR1.coef_\n",
    "print(np.count_nonzero(w))\n"
   ]
  },
  {
   "cell_type": "code",
   "execution_count": 41,
   "metadata": {},
   "outputs": [
    {
     "name": "stdout",
     "output_type": "stream",
     "text": [
      "Test_accu: 0.82295\n",
      "244\n"
     ]
    }
   ],
   "source": [
    "#sparcity-3\n",
    "LR1 = LogisticRegression(penalty='l1',C=0.01,class_weight='balanced')# put the correct c - =..........\n",
    "LR1.fit(X_train,y_train)\n",
    "pred1=LR1.predict(X_test)\n",
    "Test_acc = accuracy_score(y_test,pred1)\n",
    "print(\"Test_accu:\",Test_acc)\n",
    "w = LR1.coef_\n",
    "print(np.count_nonzero(w))\n"
   ]
  },
  {
   "cell_type": "code",
   "execution_count": 42,
   "metadata": {},
   "outputs": [
    {
     "name": "stdout",
     "output_type": "stream",
     "text": [
      "Test_accu: 0.6755\n",
      "19\n"
     ]
    }
   ],
   "source": [
    "#sparcity-4\n",
    "LR1 = LogisticRegression(penalty='l1',C=0.001,class_weight='balanced')# put the correct c - =..........\n",
    "LR1.fit(X_train,y_train)\n",
    "pred1=LR1.predict(X_test)\n",
    "Test_acc = accuracy_score(y_test,pred1)\n",
    "print(\"Test_accu:\",Test_acc)\n",
    "w = LR1.coef_\n",
    "print(np.count_nonzero(w))\n"
   ]
  },
  {
   "cell_type": "markdown",
   "metadata": {},
   "source": [
    " # Random Search CV-BoW"
   ]
  },
  {
   "cell_type": "markdown",
   "metadata": {},
   "source": [
    "#L2 regularization"
   ]
  },
  {
   "cell_type": "code",
   "execution_count": 130,
   "metadata": {},
   "outputs": [
    {
     "name": "stdout",
     "output_type": "stream",
     "text": [
      "LogisticRegression(C=0.394831538887219, class_weight=None, dual=False,\n",
      "          fit_intercept=True, intercept_scaling=1, max_iter=100,\n",
      "          multi_class='ovr', n_jobs=1, penalty='l2', random_state=None,\n",
      "          solver='liblinear', tol=0.0001, verbose=0, warm_start=False)\n"
     ]
    }
   ],
   "source": [
    "from sklearn.model_selection import RandomizedSearchCV\n",
    "from scipy.stats import uniform\n",
    "#tuned_parameter = [{'C': [10**-3, 10**-2, 10**0, 10**2, 10**3]}]\n",
    "tuned_parameter = {'C':uniform()}\n",
    "model1 = RandomizedSearchCV(LogisticRegression(penalty='l2'),tuned_parameters, scoring = 'accuracy', cv=5)\n",
    "model1.fit(X_train,y_train)\n",
    "print(model1.best_estimator_)\n"
   ]
  },
  {
   "cell_type": "code",
   "execution_count": 131,
   "metadata": {},
   "outputs": [
    {
     "name": "stdout",
     "output_type": "stream",
     "text": [
      "{'C': 0.394831538887219}\n"
     ]
    }
   ],
   "source": [
    "print(model1.best_params_)"
   ]
  },
  {
   "cell_type": "code",
   "execution_count": 132,
   "metadata": {},
   "outputs": [
    {
     "name": "stdout",
     "output_type": "stream",
     "text": [
      "0.9228\n"
     ]
    }
   ],
   "source": [
    "print(model1.score(X_test,y_test))"
   ]
  },
  {
   "cell_type": "code",
   "execution_count": 133,
   "metadata": {},
   "outputs": [
    {
     "name": "stdout",
     "output_type": "stream",
     "text": [
      "0.952875\n"
     ]
    }
   ],
   "source": [
    "print(model1.score(X_train,y_train))"
   ]
  },
  {
   "cell_type": "code",
   "execution_count": 34,
   "metadata": {},
   "outputs": [
    {
     "name": "stdout",
     "output_type": "stream",
     "text": [
      "accuracy for C=0.394831538887219 is 0.888\n"
     ]
    }
   ],
   "source": [
    "#logistic regression-l2 regularization\n",
    "LR = LogisticRegression(penalty='l2',C=0.394831538887219,class_weight='balanced')# put the correct c - =..........\n",
    "LR.fit(X_train,y_train)\n",
    "pred = LR.predict(X_test)\n",
    "acc=accuracy_score(y_test,pred)\n",
    "#clf.score(X,y)\n",
    "print('accuracy for C=0.394831538887219 is %0.3f' %(acc))\n"
   ]
  },
  {
   "cell_type": "code",
   "execution_count": 35,
   "metadata": {},
   "outputs": [
    {
     "name": "stdout",
     "output_type": "stream",
     "text": [
      "f1: 0.8878499999999999\n"
     ]
    }
   ],
   "source": [
    "from sklearn.metrics import f1_score\n",
    "print(\"f1:\", f1_score(y_test, pred,average='micro'))"
   ]
  },
  {
   "cell_type": "code",
   "execution_count": 36,
   "metadata": {},
   "outputs": [
    {
     "data": {
      "text/plain": [
       "array([[ 2201,   477],\n",
       "       [ 1766, 15556]])"
      ]
     },
     "execution_count": 36,
     "metadata": {},
     "output_type": "execute_result"
    }
   ],
   "source": [
    "#confusion matrix\n",
    "from sklearn.metrics import confusion_matrix\n",
    "cm=confusion_matrix(y_test,pred)\n",
    "cm"
   ]
  },
  {
   "cell_type": "code",
   "execution_count": null,
   "metadata": {},
   "outputs": [],
   "source": []
  },
  {
   "cell_type": "code",
   "execution_count": 37,
   "metadata": {},
   "outputs": [
    {
     "data": {
      "image/png": "[encoded data removed]",
      "text/plain": [
       "<Figure size 432x288 with 2 Axes>"
      ]
     },
     "metadata": {},
     "output_type": "display_data"
    }
   ],
   "source": [
    "#plot the confusion matrix to describe the performance\n",
    "import seaborn as sns\n",
    "class_label=['negative','positive']\n",
    "df_cm=pd.DataFrame(cm,index=class_label,columns=class_label)\n",
    "sns.heatmap(df_cm,annot=True,fmt='d')\n",
    "plt.title(\"Confusion matrix\")\n",
    "plt.xlabel(\"pred label\")\n",
    "plt.ylabel(\"True label\")\n",
    "plt.show()"
   ]
  },
  {
   "cell_type": "markdown",
   "metadata": {},
   "source": [
    " # logistic regression-l1 regularization-RandomSearchCV"
   ]
  },
  {
   "cell_type": "code",
   "execution_count": 138,
   "metadata": {},
   "outputs": [
    {
     "name": "stdout",
     "output_type": "stream",
     "text": [
      "LogisticRegression(C=0.3486568554875855, class_weight=None, dual=False,\n",
      "          fit_intercept=True, intercept_scaling=1, max_iter=100,\n",
      "          multi_class='ovr', n_jobs=1, penalty='l1', random_state=None,\n",
      "          solver='liblinear', tol=0.0001, verbose=0, warm_start=False)\n"
     ]
    }
   ],
   "source": [
    "from sklearn.model_selection import RandomizedSearchCV\n",
    "#tuned_parameter = [{'C': [10**-3, 10**-2, 10**0, 10**2, 10**3]}]\n",
    "from scipy.stats import uniform\n",
    "tuned_parameter = {'C':uniform()}\n",
    "model1 = RandomizedSearchCV(LogisticRegression(penalty='l1'),tuned_parameters, scoring = 'accuracy', cv=5)\n",
    "model1.fit(X_train,y_train)\n",
    "print(model1.best_estimator_)\n"
   ]
  },
  {
   "cell_type": "code",
   "execution_count": 139,
   "metadata": {},
   "outputs": [
    {
     "name": "stdout",
     "output_type": "stream",
     "text": [
      "0.92115\n"
     ]
    }
   ],
   "source": [
    "print(model1.score(X_test,y_test))"
   ]
  },
  {
   "cell_type": "code",
   "execution_count": 140,
   "metadata": {},
   "outputs": [
    {
     "name": "stdout",
     "output_type": "stream",
     "text": [
      "0.9377125\n"
     ]
    }
   ],
   "source": [
    "print(model1.score(X_train,y_train))"
   ]
  },
  {
   "cell_type": "code",
   "execution_count": 38,
   "metadata": {},
   "outputs": [
    {
     "name": "stdout",
     "output_type": "stream",
     "text": [
      "accuracy for C=0.3486568554875855 is 0.879\n"
     ]
    }
   ],
   "source": [
    "#logistic regression-l1 regularization\n",
    "LR = LogisticRegression(penalty='l1',C=0.3486568554875855,class_weight='balanced')# put the correct c - =..........\n",
    "LR.fit(X_train,y_train)\n",
    "pred = LR.predict(X_test)\n",
    "acc=accuracy_score(y_test,pred)\n",
    "#clf.score(X,y)\n",
    "print('accuracy for C=0.3486568554875855 is %0.3f' %(acc))"
   ]
  },
  {
   "cell_type": "code",
   "execution_count": 39,
   "metadata": {},
   "outputs": [
    {
     "name": "stdout",
     "output_type": "stream",
     "text": [
      "f1: 0.8785999999999999\n"
     ]
    }
   ],
   "source": [
    "from sklearn.metrics import f1_score\n",
    "print(\"f1:\", f1_score(y_test, pred,average='micro'))\n"
   ]
  },
  {
   "cell_type": "code",
   "execution_count": 109,
   "metadata": {},
   "outputs": [],
   "source": [
    "#report-"
   ]
  },
  {
   "cell_type": "code",
   "execution_count": 142,
   "metadata": {},
   "outputs": [
    {
     "name": "stdout",
     "output_type": "stream",
     "text": [
      "Test_accu: 0.9213\n",
      "4141\n"
     ]
    }
   ],
   "source": [
    "#sparcity-1\n",
    "LR1 = LogisticRegression(penalty='l1',C=1.0)# lambda=1\n",
    "LR1.fit(X_train,y_train)\n",
    "pred1=LR1.predict(X_test)\n",
    "Test_acc = accuracy_score(y_test,pred1)\n",
    "print(\"Test_accu:\",Test_acc)\n",
    "w = LR1.coef_\n",
    "print(np.count_nonzero(w))\n",
    "\n"
   ]
  },
  {
   "cell_type": "code",
   "execution_count": 143,
   "metadata": {},
   "outputs": [
    {
     "name": "stdout",
     "output_type": "stream",
     "text": [
      "Test_accu: 0.9159\n",
      "840\n"
     ]
    }
   ],
   "source": [
    "#sparcity-2\n",
    "LR1 = LogisticRegression(penalty='l1',C=0.1)# lambda = 10\n",
    "LR1.fit(X_train,y_train)\n",
    "pred1=LR1.predict(X_test)\n",
    "Test_acc = accuracy_score(y_test,pred1)\n",
    "print(\"Test_accu:\",Test_acc)\n",
    "w = LR1.coef_\n",
    "print(np.count_nonzero(w))"
   ]
  },
  {
   "cell_type": "code",
   "execution_count": 144,
   "metadata": {},
   "outputs": [
    {
     "name": "stdout",
     "output_type": "stream",
     "text": [
      "Test accu: 0.88695\n",
      "132\n"
     ]
    }
   ],
   "source": [
    "#sparcity-3\n",
    "LR1 = LogisticRegression(penalty='l1',C=0.01)# lambda = 100\n",
    "LR1.fit(X_train,y_train)\n",
    "pred1=LR1.predict(X_test)\n",
    "Test_acc = accuracy_score(y_test,pred1)\n",
    "print(\"Test accu:\",Test_acc)\n",
    "w = LR1.coef_\n",
    "print(np.count_nonzero(w))"
   ]
  },
  {
   "cell_type": "code",
   "execution_count": 145,
   "metadata": {},
   "outputs": [
    {
     "name": "stdout",
     "output_type": "stream",
     "text": [
      "Test_accu: 0.8661\n",
      "7\n"
     ]
    }
   ],
   "source": [
    "#sparcity-4\n",
    "LR1 = LogisticRegression(penalty='l1',C=0.001)# lambda = 1000\n",
    "LR1.fit(X_train,y_train)\n",
    "pred1=LR1.predict(X_test)\n",
    "Test_acc = accuracy_score(y_test,pred1)\n",
    "print(\"Test_accu:\",Test_acc)\n",
    "w = LR1.coef_\n",
    "print(np.count_nonzero(w))"
   ]
  },
  {
   "cell_type": "code",
   "execution_count": null,
   "metadata": {},
   "outputs": [],
   "source": []
  },
  {
   "cell_type": "markdown",
   "metadata": {},
   "source": [
    "   # 2.TFIDF-"
   ]
  },
  {
   "cell_type": "code",
   "execution_count": 96,
   "metadata": {},
   "outputs": [
    {
     "data": {
      "text/plain": [
       "((80000, 67317), (80000,))"
      ]
     },
     "execution_count": 96,
     "metadata": {},
     "output_type": "execute_result"
    }
   ],
   "source": [
    "\n",
    "X_train, y_train = final['cleaned_Text'].iloc[0:80000], final['Score'].iloc[0:80000]\n",
    "#X_cv, y_cv = final['cleaned_Text'].iloc[60000:80000], final['Score'].iloc[60000:80000]\n",
    "X_test, y_test = final['cleaned_Text'].iloc[80000:100000], final['Score'].iloc[80000:100000]\n",
    "\n",
    "\n",
    "\n",
    "#Initializing tfidf vectorizer\n",
    "tfidf_vect = TfidfVectorizer()\n",
    "\n",
    "#Fitting for tfidf vectorization\n",
    "tfidf_vect.fit(X_train)\n",
    "X_train= tfidf_vect.transform(X_train)\n",
    "X_test = tfidf_vect.transform(X_test)\n",
    "#X_cv = tfidf_vect.transform(X_cv)\n",
    "X_train.shape,y_train.shape"
   ]
  },
  {
   "cell_type": "code",
   "execution_count": 97,
   "metadata": {},
   "outputs": [
    {
     "data": {
      "text/plain": [
       "<20000x67317 sparse matrix of type '<class 'numpy.float64'>'\n",
       "\twith 580348 stored elements in Compressed Sparse Row format>"
      ]
     },
     "execution_count": 97,
     "metadata": {},
     "output_type": "execute_result"
    }
   ],
   "source": [
    "#Standerdized the data\n",
    "scaler = StandardScaler(with_mean=False)\n",
    "scaler.fit(X_train)\n",
    "scaler.transform(X_train)\n",
    "scaler.transform(X_test)"
   ]
  },
  {
   "cell_type": "markdown",
   "metadata": {},
   "source": [
    " # GridSearchCV-TFIDF"
   ]
  },
  {
   "cell_type": "code",
   "execution_count": 148,
   "metadata": {},
   "outputs": [
    {
     "name": "stdout",
     "output_type": "stream",
     "text": [
      "best estimator:\n",
      "LogisticRegression(C=1, class_weight=None, dual=False, fit_intercept=True,\n",
      "          intercept_scaling=1, max_iter=100, multi_class='ovr', n_jobs=1,\n",
      "          penalty='l2', random_state=None, solver='liblinear', tol=0.0001,\n",
      "          verbose=0, warm_start=False)\n",
      "CPU times: user 9min 49s, sys: 8.95 s, total: 9min 58s\n",
      "Wall time: 1min 15s\n"
     ]
    }
   ],
   "source": [
    "%%time\n",
    "from sklearn.grid_search import GridSearchCV\n",
    "from sklearn.datasets import *\n",
    "from sklearn.linear_model import LogisticRegression\n",
    "from sklearn.model_selection import TimeSeriesSplit\n",
    "tscv = TimeSeriesSplit()\n",
    "my_cv = [(X_train,X_test) for X_train, X_test in TimeSeriesSplit(n_splits=5).split(X_train)]\n",
    "\n",
    "tuned_parameters = [{'C': [10**-3, 10**-2, 10**0, 10**2, 10**3]}]\n",
    "#Using GridSearchCV\n",
    "model = GridSearchCV(LogisticRegression(penalty='l2'), tuned_parameters, scoring = 'accuracy', cv=my_cv)\n",
    "model.fit(X_train, y_train)\n",
    "\n",
    "\n",
    "\n",
    "print(\"best estimator:\")\n",
    "print(model.best_estimator_)\n",
    "\n",
    "\n",
    "\n"
   ]
  },
  {
   "cell_type": "code",
   "execution_count": 63,
   "metadata": {},
   "outputs": [
    {
     "name": "stdout",
     "output_type": "stream",
     "text": [
      "best parameter\n",
      "{'C': 1}\n"
     ]
    }
   ],
   "source": [
    "print(\"best parameter\")\n",
    "print(model.best_params_)"
   ]
  },
  {
   "cell_type": "code",
   "execution_count": 64,
   "metadata": {},
   "outputs": [
    {
     "name": "stdout",
     "output_type": "stream",
     "text": [
      "0.9363\n"
     ]
    }
   ],
   "source": [
    "print(model.score(X_train,y_train))"
   ]
  },
  {
   "cell_type": "code",
   "execution_count": 65,
   "metadata": {},
   "outputs": [
    {
     "name": "stdout",
     "output_type": "stream",
     "text": [
      "0.91925\n"
     ]
    }
   ],
   "source": [
    "print(model.score(X_test,y_test))"
   ]
  },
  {
   "cell_type": "code",
   "execution_count": 42,
   "metadata": {},
   "outputs": [
    {
     "name": "stdout",
     "output_type": "stream",
     "text": [
      "Test accuracy:\n",
      "\n",
      " ****Test accuracy for C=1.0 is 0.880\n"
     ]
    }
   ],
   "source": [
    "#logistic regression-l2 regularization\n",
    "from sklearn.linear_model import LogisticRegression\n",
    "LR = LogisticRegression(penalty='l2',C=1.0,class_weight='balanced')\n",
    "LR.fit(X_train,y_train)\n",
    "\n",
    "#print('\\n ****Test accuracy for C=1.0 is %.3f' %(acc))\n",
    "\n",
    "pre = LR.predict(X_train)\n",
    "error= 1-(accuracy_score(pre,y_train))\n",
    "\n",
    "\n",
    "pred = LR.predict(X_test)\n",
    "print(\"Test accuracy:\")\n",
    "acc=accuracy_score(y_test,pred)\n",
    "print('\\n ****Test accuracy for C=1.0 is %.3f' %(acc))\n"
   ]
  },
  {
   "cell_type": "code",
   "execution_count": 43,
   "metadata": {},
   "outputs": [
    {
     "name": "stdout",
     "output_type": "stream",
     "text": [
      "f1: 0.87955\n"
     ]
    }
   ],
   "source": [
    "from sklearn.metrics import f1_score\n",
    "print(\"f1:\", f1_score(y_test, pred,average='micro'))"
   ]
  },
  {
   "cell_type": "code",
   "execution_count": null,
   "metadata": {},
   "outputs": [],
   "source": []
  },
  {
   "cell_type": "code",
   "execution_count": 69,
   "metadata": {},
   "outputs": [
    {
     "data": {
      "text/plain": [
       "array([[ 2322,   356],\n",
       "       [ 2053, 15269]])"
      ]
     },
     "execution_count": 69,
     "metadata": {},
     "output_type": "execute_result"
    }
   ],
   "source": [
    "#confusion matrix\n",
    "from sklearn.metrics import confusion_matrix\n",
    "cm=confusion_matrix(y_test,pred)\n",
    "cm"
   ]
  },
  {
   "cell_type": "code",
   "execution_count": 70,
   "metadata": {},
   "outputs": [
    {
     "data": {
      "image/png": "[encoded data removed]",
      "text/plain": [
       "<Figure size 432x288 with 2 Axes>"
      ]
     },
     "metadata": {},
     "output_type": "display_data"
    }
   ],
   "source": [
    "#plot the confusion matrix to describe the performance\n",
    "import seaborn as sns\n",
    "class_label=['negative','positive']\n",
    "df_cm = pd.DataFrame(cm,index=class_label,columns=class_label)\n",
    "sns.heatmap(df_cm,annot=True,fmt='d')\n",
    "plt.title(\"Confusion matrix\")\n",
    "plt.xlabel(\"pred label\")\n",
    "plt.ylabel(\"True label\")\n",
    "plt.show()"
   ]
  },
  {
   "cell_type": "markdown",
   "metadata": {},
   "source": [
    "# GridSearch-Logistic Reg.-L1 regularization-TFIDF"
   ]
  },
  {
   "cell_type": "code",
   "execution_count": 71,
   "metadata": {},
   "outputs": [
    {
     "name": "stdout",
     "output_type": "stream",
     "text": [
      "LogisticRegression(C=1, class_weight=None, dual=False, fit_intercept=True,\n",
      "          intercept_scaling=1, max_iter=100, multi_class='ovr', n_jobs=1,\n",
      "          penalty='l1', random_state=None, solver='liblinear', tol=0.0001,\n",
      "          verbose=0, warm_start=False)\n"
     ]
    }
   ],
   "source": [
    "from sklearn.grid_search import GridSearchCV\n",
    "from sklearn.datasets import *\n",
    "from sklearn.linear_model import LogisticRegression\n",
    "from sklearn.model_selection import TimeSeriesSplit\n",
    "tscv = TimeSeriesSplit()\n",
    "my_cv = [(X_train,X_test) for X_train, X_test in TimeSeriesSplit(n_splits=5).split(X_train)]\n",
    "\n",
    "tuned_parameters = [{'C': [10**-3, 10**-2, 10**0, 10**2, 10**3]}]\n",
    "#Using GridSearchCV\n",
    "model = GridSearchCV(LogisticRegression(penalty='l1'), tuned_parameters, scoring = 'accuracy', cv=my_cv)\n",
    "model.fit(X_train, y_train)\n",
    "print(model.best_estimator_)\n",
    "\n"
   ]
  },
  {
   "cell_type": "code",
   "execution_count": 72,
   "metadata": {},
   "outputs": [
    {
     "name": "stdout",
     "output_type": "stream",
     "text": [
      "0.9344875\n"
     ]
    }
   ],
   "source": [
    "print(model.score(X_train,y_train))"
   ]
  },
  {
   "cell_type": "code",
   "execution_count": 73,
   "metadata": {},
   "outputs": [
    {
     "name": "stdout",
     "output_type": "stream",
     "text": [
      "0.92155\n"
     ]
    }
   ],
   "source": [
    "print(model.score(X_test,y_test))"
   ]
  },
  {
   "cell_type": "code",
   "execution_count": 74,
   "metadata": {},
   "outputs": [
    {
     "name": "stdout",
     "output_type": "stream",
     "text": [
      "accuracy for C=1 is 0.874\n"
     ]
    }
   ],
   "source": [
    "#logistic regression-l1 regularization\n",
    "LR = LogisticRegression(penalty='l1',C=1.0,class_weight='balanced')# put the correct c - =..........\n",
    "LR.fit(X_train,y_train)\n",
    "pred = LR.predict(X_test)\n",
    "acc=accuracy_score(y_test,pred)\n",
    "#clf.score(X,y)\n",
    "print('accuracy for C=1 is %0.3f' %(acc))"
   ]
  },
  {
   "cell_type": "code",
   "execution_count": 125,
   "metadata": {},
   "outputs": [
    {
     "name": "stdout",
     "output_type": "stream",
     "text": [
      "accuracy: 0.92155\n",
      "pre: 0.92155\n",
      "rec: 0.92155\n",
      "f1: 0.92155\n"
     ]
    }
   ],
   "source": [
    "from sklearn.metrics import f1_score\n",
    "print(\"f1:\", f1_score(y_test, pred,average='micro'))"
   ]
  },
  {
   "cell_type": "code",
   "execution_count": null,
   "metadata": {},
   "outputs": [],
   "source": [
    "#Confusion Matrix"
   ]
  },
  {
   "cell_type": "code",
   "execution_count": 75,
   "metadata": {},
   "outputs": [
    {
     "data": {
      "text/plain": [
       "array([[ 2319,   359],\n",
       "       [ 2169, 15153]])"
      ]
     },
     "execution_count": 75,
     "metadata": {},
     "output_type": "execute_result"
    }
   ],
   "source": [
    "#confusion matrix\n",
    "from sklearn.metrics import confusion_matrix\n",
    "cm=confusion_matrix(y_test,pred)\n",
    "cm"
   ]
  },
  {
   "cell_type": "code",
   "execution_count": 76,
   "metadata": {},
   "outputs": [
    {
     "data": {
      "image/png": "[encoded data removed]",
      "text/plain": [
       "<Figure size 432x288 with 2 Axes>"
      ]
     },
     "metadata": {},
     "output_type": "display_data"
    }
   ],
   "source": [
    "#plot the confusion matrix to describe the performance\n",
    "import seaborn as sns\n",
    "class_label=['negative','positive']\n",
    "df_cm = pd.DataFrame(cm,index=class_label,columns=class_label)\n",
    "sns.heatmap(df_cm,annot=True,fmt='d')\n",
    "plt.title(\"Confusion matrix\")\n",
    "plt.xlabel(\"pred label\")\n",
    "plt.ylabel(\"True label\")\n",
    "plt.show()"
   ]
  },
  {
   "cell_type": "code",
   "execution_count": 77,
   "metadata": {},
   "outputs": [
    {
     "name": "stdout",
     "output_type": "stream",
     "text": [
      "Test_accu: 0.8736\n",
      "2546\n"
     ]
    }
   ],
   "source": [
    "#sparcity-1\n",
    "LR1 = LogisticRegression(penalty='l1',C=1,class_weight='balanced')# put the correct c - =..........\n",
    "LR1.fit(X_train,y_train)\n",
    "pred1=LR1.predict(X_test)\n",
    "Test_acc = accuracy_score(y_test,pred1)\n",
    "print(\"Test_accu:\",Test_acc)\n",
    "w = LR1.coef_\n",
    "print(np.count_nonzero(w))\n",
    "\n"
   ]
  },
  {
   "cell_type": "code",
   "execution_count": 78,
   "metadata": {},
   "outputs": [
    {
     "name": "stdout",
     "output_type": "stream",
     "text": [
      "Test_accu: 0.8364\n",
      "366\n"
     ]
    }
   ],
   "source": [
    "#sparcity-2\n",
    "LR1 = LogisticRegression(penalty='l1',C=0.1,class_weight='balanced')# put the correct c - =..........\n",
    "LR1.fit(X_train,y_train)\n",
    "pred1=LR1.predict(X_test)\n",
    "Test_acc = accuracy_score(y_test,pred1)\n",
    "print(\"Test_accu:\",Test_acc)\n",
    "w = LR1.coef_\n",
    "print(np.count_nonzero(w))\n",
    "\n"
   ]
  },
  {
   "cell_type": "code",
   "execution_count": 79,
   "metadata": {},
   "outputs": [
    {
     "name": "stdout",
     "output_type": "stream",
     "text": [
      "Test_accu: 0.67665\n",
      "25\n"
     ]
    }
   ],
   "source": [
    "#sparcity-3\n",
    "LR1 = LogisticRegression(penalty='l1',C=0.01,class_weight='balanced')# put the correct c - =..........\n",
    "LR1.fit(X_train,y_train)\n",
    "pred1=LR1.predict(X_test)\n",
    "Test_acc = accuracy_score(y_test,pred1)\n",
    "print(\"Test_accu:\",Test_acc)\n",
    "w = LR1.coef_\n",
    "print(np.count_nonzero(w))\n",
    "\n"
   ]
  },
  {
   "cell_type": "markdown",
   "metadata": {},
   "source": [
    "# observation- as lambda increases  the sparcity also increased."
   ]
  },
  {
   "cell_type": "markdown",
   "metadata": {},
   "source": [
    "#MultiCollinearty Check"
   ]
  },
  {
   "cell_type": "code",
   "execution_count": 124,
   "metadata": {},
   "outputs": [
    {
     "data": {
      "text/plain": [
       "LogisticRegression(C=1.0, class_weight=None, dual=False, fit_intercept=True,\n",
       "          intercept_scaling=1, max_iter=100, multi_class='ovr', n_jobs=1,\n",
       "          penalty='l2', random_state=None, solver='liblinear', tol=0.0001,\n",
       "          verbose=0, warm_start=False)"
      ]
     },
     "execution_count": 124,
     "metadata": {},
     "output_type": "execute_result"
    }
   ],
   "source": [
    "X_train, y_train = final['cleaned_Text'].iloc[0:80000], final['Score'].iloc[0:80000]\n",
    "#X_cv, y_cv = final['cleaned_Text'].iloc[60000:80000], final['Score'].iloc[60000:80000]\n",
    "X_test, y_test = final['cleaned_Text'].iloc[80000:100000], final['Score'].iloc[80000:100000]\n",
    "\n",
    "\n",
    "\n",
    "#Initializing tfidf vectorizer\n",
    "tfidf_vect = TfidfVectorizer()\n",
    "\n",
    "#Fitting for tfidf vectorization\n",
    "tfidf_vect.fit(X_train)\n",
    "X_train= tfidf_vect.transform(X_train)\n",
    "X_test = tfidf_vect.transform(X_test)\n",
    "\n",
    "\n",
    "\n",
    "#Standerdized the data\n",
    "scaler = StandardScaler(with_mean=False)\n",
    "scaler.fit(X_train)\n",
    "scaler.transform(X_train)\n",
    "scaler.transform(X_test)\n",
    "\n",
    "#logistic regression-l2 regularization\n",
    "from sklearn.linear_model import LogisticRegression\n",
    "LR22 = LogisticRegression(penalty='l2',C=1.0)\n",
    "LR22.fit(X_train,y_train)\n",
    "\n",
    "\n"
   ]
  },
  {
   "cell_type": "code",
   "execution_count": null,
   "metadata": {},
   "outputs": [],
   "source": []
  },
  {
   "cell_type": "code",
   "execution_count": 125,
   "metadata": {},
   "outputs": [
    {
     "data": {
      "text/plain": [
       "array([[ 0.01537182,  0.01250393,  0.04710226, ..., -0.19692034,\n",
       "         0.00292042,  0.01000527]])"
      ]
     },
     "execution_count": 125,
     "metadata": {},
     "output_type": "execute_result"
    }
   ],
   "source": [
    "w = LR22.coef_\n",
    "w"
   ]
  },
  {
   "cell_type": "code",
   "execution_count": 126,
   "metadata": {},
   "outputs": [
    {
     "data": {
      "text/plain": [
       "True"
      ]
     },
     "execution_count": 126,
     "metadata": {},
     "output_type": "execute_result"
    }
   ],
   "source": [
    "w.all()"
   ]
  },
  {
   "cell_type": "code",
   "execution_count": 127,
   "metadata": {},
   "outputs": [],
   "source": [
    "length=w.shape[1]"
   ]
  },
  {
   "cell_type": "code",
   "execution_count": 128,
   "metadata": {},
   "outputs": [],
   "source": [
    "#adding noise\n",
    "import numpy as np\n",
    "\n",
    "Noise=np.random.normal(loc=0.0,scale=0.10)\n",
    "X_train.data= X_train.data + Noise\n"
   ]
  },
  {
   "cell_type": "code",
   "execution_count": 129,
   "metadata": {},
   "outputs": [
    {
     "data": {
      "text/plain": [
       "LogisticRegression(C=1.0, class_weight=None, dual=False, fit_intercept=True,\n",
       "          intercept_scaling=1, max_iter=100, multi_class='ovr', n_jobs=1,\n",
       "          penalty='l2', random_state=None, solver='liblinear', tol=0.0001,\n",
       "          verbose=0, warm_start=False)"
      ]
     },
     "execution_count": 129,
     "metadata": {},
     "output_type": "execute_result"
    }
   ],
   "source": [
    "#logistic regression-l2 regularization\n",
    "from sklearn.linear_model import LogisticRegression\n",
    "LR33 = LogisticRegression(penalty='l2',C=1.0)\n",
    "LR33.fit(X_train,y_train)\n",
    "\n",
    "\n"
   ]
  },
  {
   "cell_type": "code",
   "execution_count": 131,
   "metadata": {},
   "outputs": [
    {
     "data": {
      "text/plain": [
       "array([[ 0.01067377,  0.01228999,  0.06060293, ..., -0.18549989,\n",
       "         0.00064414,  0.00880867]])"
      ]
     },
     "execution_count": 131,
     "metadata": {},
     "output_type": "execute_result"
    }
   ],
   "source": [
    "w_new = LR33.coef_\n",
    "w_new"
   ]
  },
  {
   "cell_type": "code",
   "execution_count": 132,
   "metadata": {},
   "outputs": [
    {
     "data": {
      "text/plain": [
       "True"
      ]
     },
     "execution_count": 132,
     "metadata": {},
     "output_type": "execute_result"
    }
   ],
   "source": [
    "w_new.all()"
   ]
  },
  {
   "cell_type": "code",
   "execution_count": 121,
   "metadata": {},
   "outputs": [],
   "source": []
  },
  {
   "cell_type": "code",
   "execution_count": 133,
   "metadata": {},
   "outputs": [],
   "source": [
    "from scipy import spatial\n",
    "def isMultic(w,w_new,length):\n",
    "    count = 0\n",
    "    d=spatial.distance.euclidean(w,w_new)\n",
    "    print(f'\\n Euc.distance between w vctors after perturbation is {d}')\n",
    "    cos_d=spatial.distance.cosine(w,w_new)\n",
    "    print(f'\\n cosine similarity b/w after perturbation is {cos_d}')\n",
    "    \n",
    "    for i in range(0,length-1):\n",
    "        x =(abs(w[:,i]-w_new[:,i]))/w[:i]\n",
    "        x.all()\n",
    "        if (x.all() >= 0.3):\n",
    "            count+=1\n",
    "    if(count!=0):\n",
    "          print(f'\\n{count} number of features out of {length} are multicollinear as they vary by more than 30% after perturbation')\n",
    "    "
   ]
  },
  {
   "cell_type": "code",
   "execution_count": 134,
   "metadata": {},
   "outputs": [
    {
     "name": "stdout",
     "output_type": "stream",
     "text": [
      "\n",
      " Euc.distance between w vctors after perturbation is 17.746218415753244\n",
      "\n",
      " cosine similarity b/w after perturbation is 0.0323265483942744\n",
      "\n",
      "67316 number of features out of 67317 are multicollinear as they vary by more than 30% after perturbation\n"
     ]
    }
   ],
   "source": [
    "isMultic(w,w_new,length)"
   ]
  },
  {
   "cell_type": "code",
   "execution_count": null,
   "metadata": {},
   "outputs": [],
   "source": []
  },
  {
   "cell_type": "markdown",
   "metadata": {},
   "source": [
    "# RandomSearch-l2 regu,TFIDF"
   ]
  },
  {
   "cell_type": "code",
   "execution_count": 61,
   "metadata": {},
   "outputs": [
    {
     "name": "stdout",
     "output_type": "stream",
     "text": [
      "LogisticRegression(C=0.9236509189606253, class_weight=None, dual=False,\n",
      "          fit_intercept=True, intercept_scaling=1, max_iter=100,\n",
      "          multi_class='ovr', n_jobs=1, penalty='l2', random_state=None,\n",
      "          solver='liblinear', tol=0.0001, verbose=0, warm_start=False)\n",
      "0.9059\n"
     ]
    }
   ],
   "source": [
    "from sklearn.model_selection import RandomizedSearchCV\n",
    "#tuned_parameter = [{'C': [10**-3, 10**-2, 10**0, 10**2, 10**3]}]\n",
    "from scipy.stats import uniform\n",
    "tuned_parameters = {'C':uniform()}\n",
    "model1 = RandomizedSearchCV(LogisticRegression(penalty='l2'),tuned_parameters, scoring = 'accuracy', cv=5)\n",
    "model1.fit(X_train,y_train)\n",
    "print(model1.best_estimator_)\n",
    "print(model1.score(X_test,y_test))"
   ]
  },
  {
   "cell_type": "code",
   "execution_count": 62,
   "metadata": {},
   "outputs": [
    {
     "name": "stdout",
     "output_type": "stream",
     "text": [
      "0.9477\n"
     ]
    }
   ],
   "source": [
    "print(model1.score(X_train,y_train))"
   ]
  },
  {
   "cell_type": "code",
   "execution_count": 64,
   "metadata": {},
   "outputs": [
    {
     "name": "stdout",
     "output_type": "stream",
     "text": [
      "accuracy for C=0.9236509189606253 is 0.853\n"
     ]
    }
   ],
   "source": [
    "#logistic regression-l2 regularization\n",
    "LR = LogisticRegression(penalty='l2',C=0.9236509189606253,class_weight='balanced')\n",
    "LR.fit(X_train,y_train)\n",
    "pred = LR.predict(X_test)\n",
    "acc=accuracy_score(y_test,pred)\n",
    "#clf.score(X,y)\n",
    "print('accuracy for C=0.9236509189606253 is %0.3f' %(acc))\n"
   ]
  },
  {
   "cell_type": "code",
   "execution_count": 65,
   "metadata": {},
   "outputs": [
    {
     "name": "stdout",
     "output_type": "stream",
     "text": [
      "f1: 0.8533\n"
     ]
    }
   ],
   "source": [
    "from sklearn.metrics import f1_score\n",
    "print(\"f1:\", f1_score(y_test, pred,average='micro'))"
   ]
  },
  {
   "cell_type": "code",
   "execution_count": 66,
   "metadata": {},
   "outputs": [
    {
     "data": {
      "text/plain": [
       "array([[ 2377,   301],\n",
       "       [ 2633, 14689]])"
      ]
     },
     "execution_count": 66,
     "metadata": {},
     "output_type": "execute_result"
    }
   ],
   "source": [
    "#confusion matrix\n",
    "from sklearn.metrics import confusion_matrix\n",
    "cm=confusion_matrix(y_test,pred)\n",
    "cm"
   ]
  },
  {
   "cell_type": "code",
   "execution_count": 67,
   "metadata": {},
   "outputs": [
    {
     "data": {
      "image/png": "[encoded data removed]",
      "text/plain": [
       "<Figure size 432x288 with 2 Axes>"
      ]
     },
     "metadata": {},
     "output_type": "display_data"
    }
   ],
   "source": [
    "#plot the confusion matrix to describe the performance\n",
    "import seaborn as sns\n",
    "class_label=['negative','positive']\n",
    "df_cm = pd.DataFrame(cm,index=class_label,columns=class_label)\n",
    "sns.heatmap(df_cm,annot=True,fmt='d')\n",
    "plt.title(\"Confusion matrix\")\n",
    "plt.xlabel(\"pred label\")\n",
    "plt.ylabel(\"True label\")\n",
    "plt.show()"
   ]
  },
  {
   "cell_type": "markdown",
   "metadata": {},
   "source": [
    "# RanndomSearch-L1-TFIDF"
   ]
  },
  {
   "cell_type": "code",
   "execution_count": 68,
   "metadata": {},
   "outputs": [
    {
     "name": "stdout",
     "output_type": "stream",
     "text": [
      "LogisticRegression(C=0.8543294440114568, class_weight=None, dual=False,\n",
      "          fit_intercept=True, intercept_scaling=1, max_iter=100,\n",
      "          multi_class='ovr', n_jobs=1, penalty='l1', random_state=None,\n",
      "          solver='liblinear', tol=0.0001, verbose=0, warm_start=False)\n",
      "0.9073\n"
     ]
    }
   ],
   "source": [
    "from sklearn.model_selection import RandomizedSearchCV\n",
    "#tuned_parameter = [{'C': [10**-3, 10**-2, 10**0, 10**2, 10**3]}]\n",
    "from scipy.stats import uniform\n",
    "tuned_parameters = {'C':uniform()}\n",
    "model1 = RandomizedSearchCV(LogisticRegression(penalty='l1'),tuned_parameters, scoring = 'accuracy', cv=5)\n",
    "model1.fit(X_train,y_train)\n",
    "print(model1.best_estimator_)\n",
    "print(model1.score(X_test,y_test))"
   ]
  },
  {
   "cell_type": "code",
   "execution_count": 69,
   "metadata": {},
   "outputs": [
    {
     "name": "stdout",
     "output_type": "stream",
     "text": [
      "0.9389\n"
     ]
    }
   ],
   "source": [
    "print(model1.score(X_train,y_train))"
   ]
  },
  {
   "cell_type": "code",
   "execution_count": 70,
   "metadata": {},
   "outputs": [
    {
     "name": "stdout",
     "output_type": "stream",
     "text": [
      "accuracy for C=0.8543294440114568 is 0.843\n"
     ]
    }
   ],
   "source": [
    "#logistic regression-l1 regularization\n",
    "LR = LogisticRegression(penalty='l1',C=0.8543294440114568,class_weight='balanced')# put the correct c - =..........\n",
    "LR.fit(X_train,y_train)\n",
    "pred = LR.predict(X_test)\n",
    "acc=accuracy_score(y_test,pred)\n",
    "#clf.score(X,y)\n",
    "print('accuracy for C=0.8543294440114568 is %0.3f' %(acc))"
   ]
  },
  {
   "cell_type": "code",
   "execution_count": null,
   "metadata": {},
   "outputs": [],
   "source": []
  },
  {
   "cell_type": "code",
   "execution_count": 71,
   "metadata": {},
   "outputs": [
    {
     "name": "stdout",
     "output_type": "stream",
     "text": [
      "f1: 0.84315\n"
     ]
    }
   ],
   "source": [
    "from sklearn.metrics import f1_score\n",
    "print(\"f1:\", f1_score(y_test, pred,average='micro'))"
   ]
  },
  {
   "cell_type": "code",
   "execution_count": 141,
   "metadata": {},
   "outputs": [
    {
     "name": "stdout",
     "output_type": "stream",
     "text": [
      "Test_accu: 0.9215\n",
      "1380\n"
     ]
    }
   ],
   "source": [
    "#sparcity-1\n",
    "LR1 = LogisticRegression(penalty='l1',C=1.0)# put the correct c - =..........\n",
    "LR1.fit(X_train,y_train)\n",
    "pred1=LR1.predict(X_test)\n",
    "Test_acc = accuracy_score(y_test,pred1)\n",
    "print(\"Test_accu:\",Test_acc)\n",
    "w = LR1.coef_\n",
    "print(np.count_nonzero(w))"
   ]
  },
  {
   "cell_type": "code",
   "execution_count": 143,
   "metadata": {},
   "outputs": [
    {
     "name": "stdout",
     "output_type": "stream",
     "text": [
      "Test_accu: 0.8954\n",
      "208\n"
     ]
    }
   ],
   "source": [
    "#sparcity-2\n",
    "LR1 = LogisticRegression(penalty='l1',C=0.1)# put the correct c - =..........\n",
    "LR1.fit(X_train,y_train)\n",
    "pred1=LR1.predict(X_test)\n",
    "Test_acc = accuracy_score(y_test,pred1)\n",
    "print(\"Test_accu:\",Test_acc)\n",
    "w = LR1.coef_\n",
    "print(np.count_nonzero(w))"
   ]
  },
  {
   "cell_type": "code",
   "execution_count": 144,
   "metadata": {},
   "outputs": [
    {
     "name": "stdout",
     "output_type": "stream",
     "text": [
      "Test_accu: 0.8661\n",
      "5\n"
     ]
    }
   ],
   "source": [
    "#sparcity-3\n",
    "LR1 = LogisticRegression(penalty='l1',C=0.01)# put the correct c - =..........\n",
    "LR1.fit(X_train,y_train)\n",
    "pred1=LR1.predict(X_test)\n",
    "Test_acc = accuracy_score(y_test,pred1)\n",
    "print(\"Test_accu:\",Test_acc)\n",
    "w = LR1.coef_\n",
    "print(np.count_nonzero(w))"
   ]
  },
  {
   "cell_type": "code",
   "execution_count": null,
   "metadata": {},
   "outputs": [],
   "source": []
  },
  {
   "cell_type": "markdown",
   "metadata": {},
   "source": [
    " # 3. Word2Vec"
   ]
  },
  {
   "cell_type": "code",
   "execution_count": 136,
   "metadata": {},
   "outputs": [],
   "source": [
    "import re\n",
    "\n",
    "def cleanhtml(sentence): #function to clean the word of any html-tags\n",
    "    cleanr = re.compile('<.*?>')\n",
    "    cleantext = re.sub(cleanr, ' ', sentence)\n",
    "    return cleantext\n",
    "def cleanpunc(sentence): #function to clean the word of any punctuation or special characters\n",
    "    cleaned = re.sub(r'[?|!|\\'|\"|#]',r'',sentence)\n",
    "    cleaned = re.sub(r'[.|,|)|(|\\|/]',r' ',cleaned)\n",
    "    return  cleaned"
   ]
  },
  {
   "cell_type": "code",
   "execution_count": 137,
   "metadata": {},
   "outputs": [
    {
     "name": "stdout",
     "output_type": "stream",
     "text": [
      "(80000,) (80000,) (20000,) (20000,)\n"
     ]
    }
   ],
   "source": [
    "#Train your own Word2Vec model using your own train text corpus\n",
    "#spliting the data\n",
    "X_train, y_train = final['cleaned_Text'].iloc[0:80000],final['Score'].iloc[0:80000]\n",
    "X_test, y_test = final['cleaned_Text'].iloc[80000:100000],final['Score'].iloc[80000:100000]\n",
    "print(X_train.shape,y_train.shape,X_test.shape,y_test.shape)\n",
    "    "
   ]
  },
  {
   "cell_type": "code",
   "execution_count": 138,
   "metadata": {},
   "outputs": [
    {
     "name": "stdout",
     "output_type": "stream",
     "text": [
      "80000\n"
     ]
    }
   ],
   "source": [
    "import gensim\n",
    "from gensim import utils\n",
    "from gensim.models import Word2Vec\n",
    "from gensim.models import KeyedVectors\n",
    "import pickle\n",
    "from gensim import parsing, corpora, matutils, interfaces, models, similarities, summarization, utils\n",
    "\n",
    "\n",
    "train_sent=[]\n",
    "\n",
    "for sent in X_train:\n",
    "    filtered_sentence=[]\n",
    "    sent=cleanhtml(sent)\n",
    "    for w in sent.split():\n",
    "        for cleaned_words in cleanpunc(w).split():\n",
    "            if(cleaned_words.isalpha()):    \n",
    "                filtered_sentence.append(cleaned_words.lower())\n",
    "            else:\n",
    "                continue \n",
    "    train_sent.append(filtered_sentence)\n",
    "print(len(train_sent))"
   ]
  },
  {
   "cell_type": "code",
   "execution_count": null,
   "metadata": {},
   "outputs": [],
   "source": []
  },
  {
   "cell_type": "code",
   "execution_count": 139,
   "metadata": {},
   "outputs": [
    {
     "name": "stdout",
     "output_type": "stream",
     "text": [
      "20000\n"
     ]
    }
   ],
   "source": [
    "test_sent=[]\n",
    "\n",
    "for sent in X_test:\n",
    "    filtered_sentence=[]\n",
    "    sent=cleanhtml(sent)\n",
    "    for w in sent.split():\n",
    "        for cleaned_words in cleanpunc(w).split():\n",
    "            if(cleaned_words.isalpha()):    \n",
    "                filtered_sentence.append(cleaned_words.lower())\n",
    "            else:\n",
    "                continue \n",
    "    test_sent.append(filtered_sentence)\n",
    "print(len(test_sent))"
   ]
  },
  {
   "cell_type": "code",
   "execution_count": 140,
   "metadata": {},
   "outputs": [
    {
     "name": "stdout",
     "output_type": "stream",
     "text": [
      "11901\n"
     ]
    }
   ],
   "source": [
    "train_w2v_model = gensim.models.Word2Vec(train_sent,min_count=5,size=50,workers=4)\n",
    "train_words = list(train_w2v_model.wv.vocab)\n",
    "print(len(train_words))"
   ]
  },
  {
   "cell_type": "markdown",
   "metadata": {},
   "source": [
    "3.1 Avg-W2v"
   ]
  },
  {
   "cell_type": "code",
   "execution_count": 141,
   "metadata": {},
   "outputs": [
    {
     "name": "stderr",
     "output_type": "stream",
     "text": [
      "100%|██████████| 80000/80000 [00:12<00:00, 6455.64it/s]"
     ]
    },
    {
     "name": "stdout",
     "output_type": "stream",
     "text": [
      "80000\n",
      "50\n"
     ]
    },
    {
     "name": "stderr",
     "output_type": "stream",
     "text": [
      "\n"
     ]
    }
   ],
   "source": [
    "#avg w2v\n",
    "#Avg-w2v for train data\n",
    "from tqdm import tqdm\n",
    "import os\n",
    "train_vectors = []\n",
    "for sent in tqdm(train_sent):\n",
    "    train_vec = np.zeros(50)\n",
    "    cnt_words = 0\n",
    "    for word in sent:\n",
    "        try:\n",
    "            vec=train_w2v_model.wv[word]\n",
    "            train_vec+=vec\n",
    "            cnt_words+=1\n",
    "        except:\n",
    "            pass\n",
    "    train_vec/=cnt_words\n",
    "    train_vectors.append(train_vec)\n",
    "print(len(train_vectors))\n",
    "print(len(train_vectors[0]))\n"
   ]
  },
  {
   "cell_type": "code",
   "execution_count": null,
   "metadata": {},
   "outputs": [],
   "source": []
  },
  {
   "cell_type": "code",
   "execution_count": 142,
   "metadata": {},
   "outputs": [
    {
     "name": "stderr",
     "output_type": "stream",
     "text": [
      "100%|██████████| 20000/20000 [00:03<00:00, 6123.34it/s]"
     ]
    },
    {
     "name": "stdout",
     "output_type": "stream",
     "text": [
      "20000\n",
      "50\n",
      "CPU times: user 3.27 s, sys: 40.5 ms, total: 3.31 s\n",
      "Wall time: 3.27 s\n"
     ]
    },
    {
     "name": "stderr",
     "output_type": "stream",
     "text": [
      "\n"
     ]
    }
   ],
   "source": [
    "%%time\n",
    "#Avg-w2v for test data\n",
    "test_vectors = []\n",
    "for sent in tqdm(test_sent):\n",
    "    test_vec = np.zeros(50)\n",
    "    cnt_words = 0\n",
    "    for word in sent:\n",
    "        try:\n",
    "            vec=train_w2v_model.wv[word]\n",
    "            test_vec+=vec\n",
    "            cnt_words+=1\n",
    "        except:\n",
    "            pass\n",
    "    test_vec/=cnt_words\n",
    "    test_vectors.append(test_vec)\n",
    "print(len(test_vectors))\n",
    "print(len(test_vectors[0]))\n"
   ]
  },
  {
   "cell_type": "code",
   "execution_count": 143,
   "metadata": {},
   "outputs": [
    {
     "data": {
      "text/plain": [
       "80000"
      ]
     },
     "execution_count": 143,
     "metadata": {},
     "output_type": "execute_result"
    }
   ],
   "source": [
    "X_train = train_vectors\n",
    "\n",
    "X_test = test_vectors\n",
    "len(X_train)\n",
    "len(y_train)"
   ]
  },
  {
   "cell_type": "code",
   "execution_count": 144,
   "metadata": {},
   "outputs": [
    {
     "data": {
      "text/plain": [
       "array([[ 1.63180629,  0.39932045,  1.02807267, ..., -0.0922089 ,\n",
       "        -1.13215294,  3.04350469],\n",
       "       [ 1.1692753 ,  1.49175344,  0.5941506 , ..., -1.10295868,\n",
       "        -0.87434337, -0.3549451 ],\n",
       "       [ 0.18447295,  2.25891544, -1.84507277, ..., -0.13048696,\n",
       "         2.77109614, -2.06858988],\n",
       "       ...,\n",
       "       [ 0.58170098,  0.72735712,  0.9696042 , ...,  1.0074779 ,\n",
       "         0.73944126, -1.59095292],\n",
       "       [ 1.11519122,  1.41023525,  0.26501797, ..., -0.60545048,\n",
       "         0.9296049 ,  1.52944836],\n",
       "       [ 0.52294205,  0.54464731, -0.48675631, ...,  0.18748582,\n",
       "         0.59550014, -0.33342192]])"
      ]
     },
     "execution_count": 144,
     "metadata": {},
     "output_type": "execute_result"
    }
   ],
   "source": [
    "#Standerdized the data\n",
    "scaler = StandardScaler(with_mean=False)\n",
    "scaler.fit(X_train)\n",
    "scaler.transform(X_train)\n",
    "scaler.transform(X_test)"
   ]
  },
  {
   "cell_type": "markdown",
   "metadata": {},
   "source": [
    "  # GridSearch -L2-AvgW2V"
   ]
  },
  {
   "cell_type": "code",
   "execution_count": 82,
   "metadata": {},
   "outputs": [
    {
     "name": "stdout",
     "output_type": "stream",
     "text": [
      "LogisticRegression(C=100, class_weight=None, dual=False, fit_intercept=True,\n",
      "          intercept_scaling=1, max_iter=100, multi_class='ovr', n_jobs=1,\n",
      "          penalty='l2', random_state=None, solver='liblinear', tol=0.0001,\n",
      "          verbose=0, warm_start=False)\n",
      "Best parameter\n",
      "{'C': 100}\n",
      "score\n",
      "0.89345\n"
     ]
    }
   ],
   "source": [
    "from sklearn.grid_search import GridSearchCV\n",
    "from sklearn.datasets import *\n",
    "from sklearn.linear_model import LogisticRegression\n",
    "from sklearn.model_selection import TimeSeriesSplit\n",
    "tscv = TimeSeriesSplit()\n",
    "my_cv = [(X_train,X_test) for X_train, X_test in TimeSeriesSplit(n_splits=5).split(X_train)]\n",
    "\n",
    "tuned_parameters = [{'C': [10**-3, 10**-2, 10**0, 10**2, 10**3]}]\n",
    "#Using GridSearchCV\n",
    "model = GridSearchCV(LogisticRegression(penalty='l2'), tuned_parameters, scoring = 'accuracy', cv=my_cv)\n",
    "model.fit(X_train, y_train)\n",
    "\n",
    "print(model.best_estimator_)\n",
    "print(\"Best parameter\")\n",
    "print(model.best_params_)\n",
    "\n",
    "print(\"score\")\n",
    "print(model.score(X_test,y_test))"
   ]
  },
  {
   "cell_type": "code",
   "execution_count": 83,
   "metadata": {},
   "outputs": [
    {
     "name": "stdout",
     "output_type": "stream",
     "text": [
      "0.9048375\n"
     ]
    }
   ],
   "source": [
    "print(model.score(X_train,y_train))"
   ]
  },
  {
   "cell_type": "code",
   "execution_count": 84,
   "metadata": {},
   "outputs": [
    {
     "name": "stdout",
     "output_type": "stream",
     "text": [
      "\n",
      " ****Test accuracy for C=100 is 0.796\n"
     ]
    }
   ],
   "source": [
    "#logistic regression-l2 regularization\n",
    "from sklearn.linear_model import LogisticRegression\n",
    "LR = LogisticRegression(penalty='l2',C=100,class_weight='balanced')# put the correct c - =..........\n",
    "LR.fit(X_train,y_train)\n",
    "pre = LR.predict(X_train)\n",
    "error= 1-(accuracy_score(pre,y_train))\n",
    "#Train score\n",
    "score=model.score(X_train,y_train)\n",
    "\n",
    "\n",
    "#Test score\n",
    "\n",
    "pred = LR.predict(X_test)\n",
    "#Test score\n",
    "score1 = model.score(X_test,y_test)\n",
    "acc=accuracy_score(y_test,pred)\n",
    "#clf.score(X,y)\n",
    "print('\\n ****Test accuracy for C=100 is %.3f' %(acc))\n",
    "#print('accuracy for C=%f is %f' %(acc))"
   ]
  },
  {
   "cell_type": "code",
   "execution_count": null,
   "metadata": {},
   "outputs": [],
   "source": []
  },
  {
   "cell_type": "code",
   "execution_count": null,
   "metadata": {},
   "outputs": [],
   "source": []
  },
  {
   "cell_type": "code",
   "execution_count": 85,
   "metadata": {},
   "outputs": [
    {
     "name": "stdout",
     "output_type": "stream",
     "text": [
      "f1: 0.7962\n"
     ]
    }
   ],
   "source": [
    "from sklearn.metrics import f1_score\n",
    "print(\"f1:\", f1_score(y_test, pred,average='micro'))"
   ]
  },
  {
   "cell_type": "code",
   "execution_count": 92,
   "metadata": {},
   "outputs": [
    {
     "data": {
      "text/plain": [
       "array([[ 2287,   391],\n",
       "       [ 3617, 13705]])"
      ]
     },
     "execution_count": 92,
     "metadata": {},
     "output_type": "execute_result"
    }
   ],
   "source": [
    "#confusion matrix\n",
    "from sklearn.metrics import confusion_matrix\n",
    "cm=confusion_matrix(y_test,pred)\n",
    "cm"
   ]
  },
  {
   "cell_type": "code",
   "execution_count": 93,
   "metadata": {},
   "outputs": [
    {
     "data": {
      "image/png": "[encoded data removed]",
      "text/plain": [
       "<Figure size 432x288 with 2 Axes>"
      ]
     },
     "metadata": {},
     "output_type": "display_data"
    }
   ],
   "source": [
    "#plot the confusion matrix to describe the performance\n",
    "import seaborn as sns\n",
    "class_label=['negative','positive']\n",
    "df_cm = pd.DataFrame(cm,index=class_label,columns=class_label)\n",
    "sns.heatmap(df_cm,annot=True,fmt='d')\n",
    "plt.title(\"Confusion matrix\")\n",
    "plt.xlabel(\"pred label\")\n",
    "plt.ylabel(\"True label\")\n",
    "plt.show()"
   ]
  },
  {
   "cell_type": "markdown",
   "metadata": {},
   "source": [
    "# Gridsearch-l1 regu-Avgw2v"
   ]
  },
  {
   "cell_type": "code",
   "execution_count": 86,
   "metadata": {},
   "outputs": [
    {
     "name": "stdout",
     "output_type": "stream",
     "text": [
      "LogisticRegression(C=1000, class_weight=None, dual=False, fit_intercept=True,\n",
      "          intercept_scaling=1, max_iter=100, multi_class='ovr', n_jobs=1,\n",
      "          penalty='l1', random_state=None, solver='liblinear', tol=0.0001,\n",
      "          verbose=0, warm_start=False)\n",
      "0.8934\n"
     ]
    }
   ],
   "source": [
    "from sklearn.grid_search import GridSearchCV\n",
    "from sklearn.datasets import *\n",
    "from sklearn.linear_model import LogisticRegression\n",
    "from sklearn.model_selection import TimeSeriesSplit\n",
    "tscv = TimeSeriesSplit()\n",
    "my_cv = [(X_train,X_test) for X_train, X_test in TimeSeriesSplit(n_splits=3).split(X_train)]\n",
    "\n",
    "tuned_parameters = [{'C': [10**-3, 10**-2, 10**0, 10**2, 10**3]}]\n",
    "#Using GridSearchCV\n",
    "model = GridSearchCV(LogisticRegression(penalty='l1'), tuned_parameters, scoring = 'accuracy', cv=my_cv)\n",
    "model.fit(X_train, y_train)\n",
    "print(model.best_estimator_)\n",
    "#Using GridSearchCV\n",
    "print(model.score(X_test,y_test))"
   ]
  },
  {
   "cell_type": "code",
   "execution_count": 87,
   "metadata": {},
   "outputs": [
    {
     "name": "stdout",
     "output_type": "stream",
     "text": [
      "0.9048375\n"
     ]
    }
   ],
   "source": [
    "print(model.score(X_train,y_train))"
   ]
  },
  {
   "cell_type": "code",
   "execution_count": 88,
   "metadata": {},
   "outputs": [
    {
     "name": "stdout",
     "output_type": "stream",
     "text": [
      "accuracy for C=1000 is 0.796\n"
     ]
    }
   ],
   "source": [
    "#logistic regression-l1 regularization\n",
    "LR = LogisticRegression(penalty='l1',C=1000,class_weight='balanced')\n",
    "LR.fit(X_train,y_train)\n",
    "pred = LR.predict(X_test)\n",
    "acc=accuracy_score(y_test,pred)\n",
    "#clf.score(X,y)\n",
    "print('accuracy for C=1000 is %0.3f' %(acc))"
   ]
  },
  {
   "cell_type": "code",
   "execution_count": 89,
   "metadata": {},
   "outputs": [
    {
     "name": "stdout",
     "output_type": "stream",
     "text": [
      "f1: 0.79625\n"
     ]
    }
   ],
   "source": [
    "\n",
    "from sklearn.metrics import f1_score\n",
    "print(\"f1:\", f1_score(y_test, pred,average='micro'))"
   ]
  },
  {
   "cell_type": "code",
   "execution_count": null,
   "metadata": {},
   "outputs": [],
   "source": []
  },
  {
   "cell_type": "code",
   "execution_count": 90,
   "metadata": {},
   "outputs": [
    {
     "data": {
      "text/plain": [
       "array([[ 2280,   398],\n",
       "       [ 3677, 13645]])"
      ]
     },
     "execution_count": 90,
     "metadata": {},
     "output_type": "execute_result"
    }
   ],
   "source": [
    "#confusion matrix\n",
    "from sklearn.metrics import confusion_matrix\n",
    "cm=confusion_matrix(y_test,pred)\n",
    "cm"
   ]
  },
  {
   "cell_type": "code",
   "execution_count": 91,
   "metadata": {},
   "outputs": [
    {
     "data": {
      "image/png": "[encoded data removed]",
      "text/plain": [
       "<Figure size 432x288 with 2 Axes>"
      ]
     },
     "metadata": {},
     "output_type": "display_data"
    }
   ],
   "source": [
    "#plot the confusion matrix to describe the performance\n",
    "import seaborn as sns\n",
    "class_label=['negative','positive']\n",
    "df_cm = pd.DataFrame(cm,index=class_label,columns=class_label)\n",
    "sns.heatmap(df_cm,annot=True,fmt='d')\n",
    "plt.title(\"Confusion matrix\")\n",
    "plt.xlabel(\"pred label\")\n",
    "plt.ylabel(\"True label\")\n",
    "plt.show()"
   ]
  },
  {
   "cell_type": "code",
   "execution_count": 100,
   "metadata": {},
   "outputs": [
    {
     "name": "stdout",
     "output_type": "stream",
     "text": [
      "Test_accu: 0.89485\n",
      "50\n"
     ]
    }
   ],
   "source": [
    "#sparcity-1\n",
    "import numpy as np\n",
    "LR1 = LogisticRegression(penalty='l1',C=1.0)# lambda = 1\n",
    "LR1.fit(X_train,y_train)\n",
    "pred1=LR1.predict(X_test)\n",
    "Test_acc = accuracy_score(y_test,pred1)\n",
    "print(\"Test_accu:\",Test_acc)\n",
    "w = LR1.coef_\n",
    "print(np.count_nonzero(w))"
   ]
  },
  {
   "cell_type": "code",
   "execution_count": 101,
   "metadata": {},
   "outputs": [
    {
     "name": "stdout",
     "output_type": "stream",
     "text": [
      "[[ 0.29146099  0.12218821  0.08940939 -0.65411473 -0.72212911 -0.099033\n",
      "   1.08594798 -0.44602102  0.22066904 -0.15438553 -0.05980652  1.03540926\n",
      "   0.12007903  0.31495175 -0.16407808 -0.39830847 -0.11143905 -1.6456916\n",
      "   0.3447787   0.40050946  0.21582881  0.65087015  0.88402148  0.93974455\n",
      "  -0.58336997  1.36095739 -0.28562453  0.33810518  0.03013348  0.25517082\n",
      "   0.60638862  0.22475938 -0.09656852  0.35908045 -0.51211332 -1.24940464\n",
      "   0.7993659   0.65124688  1.05145569  0.09085519  0.51992926  0.12944027\n",
      "   0.00337069  1.38830844  1.12466781  0.89547834  0.25578875  0.75175384\n",
      "  -1.09858766  0.43062325]]\n"
     ]
    }
   ],
   "source": [
    "print(w)"
   ]
  },
  {
   "cell_type": "code",
   "execution_count": 102,
   "metadata": {},
   "outputs": [
    {
     "name": "stdout",
     "output_type": "stream",
     "text": [
      "Test_accu: 0.8947\n",
      "48\n"
     ]
    }
   ],
   "source": [
    "#sparcity-2\n",
    "LR2 = LogisticRegression(penalty='l1',C=0.1)# lambda = 10\n",
    "LR2.fit(X_train,y_train)\n",
    "pred1=LR2.predict(X_test)\n",
    "Test_acc = accuracy_score(y_test,pred1)\n",
    "print(\"Test_accu:\",Test_acc)\n",
    "w = LR2.coef_\n",
    "print(np.count_nonzero(w))"
   ]
  },
  {
   "cell_type": "code",
   "execution_count": null,
   "metadata": {},
   "outputs": [],
   "source": []
  },
  {
   "cell_type": "code",
   "execution_count": 59,
   "metadata": {},
   "outputs": [
    {
     "name": "stdout",
     "output_type": "stream",
     "text": [
      "Test_accu: 0.8915\n",
      "36\n"
     ]
    }
   ],
   "source": [
    "#sparcity-3\n",
    "LR1 = LogisticRegression(penalty='l1',C=.01)# lambda = 100\n",
    "LR1.fit(X_train,y_train)\n",
    "pred1=LR1.predict(X_test)\n",
    "Test_acc = accuracy_score(y_test,pred1)\n",
    "print(\"Test_accu:\",Test_acc)\n",
    "w = LR1.coef_\n",
    "print(np.count_nonzero(w))"
   ]
  },
  {
   "cell_type": "code",
   "execution_count": 60,
   "metadata": {},
   "outputs": [
    {
     "name": "stdout",
     "output_type": "stream",
     "text": [
      "Test accu: 0.86785\n",
      "14\n"
     ]
    }
   ],
   "source": [
    "#sparcity-4\n",
    "LR1 = LogisticRegression(penalty='l1',C=.001)# lambda = 1000\n",
    "LR1.fit(X_train,y_train)\n",
    "pred1=LR1.predict(X_test)\n",
    "Test_acc = accuracy_score(y_test,pred1)\n",
    "print(\"Test accu:\",Test_acc)\n",
    "w = LR1.coef_\n",
    "print(np.count_nonzero(w))"
   ]
  },
  {
   "cell_type": "markdown",
   "metadata": {},
   "source": [
    "# RandomSearch-l2-AvgW2V"
   ]
  },
  {
   "cell_type": "code",
   "execution_count": 92,
   "metadata": {},
   "outputs": [
    {
     "data": {
      "text/plain": [
       "RandomizedSearchCV(cv=5, error_score='raise',\n",
       "          estimator=LogisticRegression(C=1.0, class_weight=None, dual=False, fit_intercept=True,\n",
       "          intercept_scaling=1, max_iter=100, multi_class='ovr', n_jobs=1,\n",
       "          penalty='l2', random_state=None, solver='liblinear', tol=0.0001,\n",
       "          verbose=0, warm_start=False),\n",
       "          fit_params=None, iid=True, n_iter=10, n_jobs=1,\n",
       "          param_distributions={'C': <scipy.stats._distn_infrastructure.rv_frozen object at 0x7fc0e0729c18>},\n",
       "          pre_dispatch='2*n_jobs', random_state=None, refit=True,\n",
       "          return_train_score='warn', scoring='accuracy', verbose=0)"
      ]
     },
     "execution_count": 92,
     "metadata": {},
     "output_type": "execute_result"
    }
   ],
   "source": [
    "from sklearn.linear_model import LogisticRegression\n",
    "from sklearn.model_selection import RandomizedSearchCV\n",
    "#tuned_parameter = [{'C': [10**-3, 10**-2, 10**0, 10**2, 10**3]}]\n",
    "from scipy.stats import uniform\n",
    "tuned_parameters = {'C':uniform()}\n",
    "model1 = RandomizedSearchCV(LogisticRegression(penalty='l2'),tuned_parameters, scoring = 'accuracy', cv=5)\n",
    "model1.fit(X_train,y_train)\n",
    "\n",
    "\n"
   ]
  },
  {
   "cell_type": "code",
   "execution_count": 93,
   "metadata": {},
   "outputs": [
    {
     "name": "stdout",
     "output_type": "stream",
     "text": [
      "0.89385\n"
     ]
    }
   ],
   "source": [
    "print(model1.score(X_test,y_test))"
   ]
  },
  {
   "cell_type": "code",
   "execution_count": 94,
   "metadata": {},
   "outputs": [
    {
     "name": "stdout",
     "output_type": "stream",
     "text": [
      "0.904775\n"
     ]
    }
   ],
   "source": [
    "print(model1.score(X_train,y_train))"
   ]
  },
  {
   "cell_type": "code",
   "execution_count": null,
   "metadata": {},
   "outputs": [],
   "source": []
  },
  {
   "cell_type": "code",
   "execution_count": 95,
   "metadata": {},
   "outputs": [
    {
     "name": "stdout",
     "output_type": "stream",
     "text": [
      "{'C': 0.21175748685407292}\n"
     ]
    }
   ],
   "source": [
    "print(model1.best_params_)"
   ]
  },
  {
   "cell_type": "code",
   "execution_count": 96,
   "metadata": {},
   "outputs": [
    {
     "name": "stdout",
     "output_type": "stream",
     "text": [
      "accuracy for C=0.21175748685407292 is 0.796\n"
     ]
    }
   ],
   "source": [
    "#logistic regression-l2 regularization\n",
    "LR = LogisticRegression(penalty='l2',C=0.21175748685407292,class_weight='balanced')# put the correct c - =..........\n",
    "LR.fit(X_train,y_train)\n",
    "pred = LR.predict(X_test)\n",
    "acc=accuracy_score(y_test,pred)\n",
    "#clf.score(X,y)\n",
    "print('accuracy for C=0.21175748685407292 is %0.3f' %(acc))\n"
   ]
  },
  {
   "cell_type": "code",
   "execution_count": 97,
   "metadata": {},
   "outputs": [
    {
     "name": "stdout",
     "output_type": "stream",
     "text": [
      "f1: 0.7956999999999999\n"
     ]
    }
   ],
   "source": [
    "from sklearn.metrics import f1_score\n",
    "print(\"f1:\", f1_score(y_test, pred,average='micro'))"
   ]
  },
  {
   "cell_type": "code",
   "execution_count": 98,
   "metadata": {},
   "outputs": [
    {
     "data": {
      "text/plain": [
       "array([[ 2276,   402],\n",
       "       [ 3684, 13638]])"
      ]
     },
     "execution_count": 98,
     "metadata": {},
     "output_type": "execute_result"
    }
   ],
   "source": [
    "#confusion matrix\n",
    "from sklearn.metrics import confusion_matrix\n",
    "cm=confusion_matrix(y_test,pred)\n",
    "cm"
   ]
  },
  {
   "cell_type": "code",
   "execution_count": 99,
   "metadata": {},
   "outputs": [
    {
     "data": {
      "image/png": "[encoded data removed]",
      "text/plain": [
       "<Figure size 432x288 with 2 Axes>"
      ]
     },
     "metadata": {},
     "output_type": "display_data"
    }
   ],
   "source": [
    "#plot the confusion matrix to describe the performance\n",
    "import seaborn as sns\n",
    "class_label=['negative','positive']\n",
    "df_cm = pd.DataFrame(cm,index=class_label,columns=class_label)\n",
    "sns.heatmap(df_cm,annot=True,fmt='d')\n",
    "plt.title(\"Confusion matrix\")\n",
    "plt.xlabel(\"pred label\")\n",
    "plt.ylabel(\"True label\")\n",
    "plt.show()"
   ]
  },
  {
   "cell_type": "markdown",
   "metadata": {},
   "source": [
    "# RandomSearch-L1-AvgW2V"
   ]
  },
  {
   "cell_type": "code",
   "execution_count": 145,
   "metadata": {},
   "outputs": [
    {
     "name": "stdout",
     "output_type": "stream",
     "text": [
      "LogisticRegression(C=0.33650973319443533, class_weight=None, dual=False,\n",
      "          fit_intercept=True, intercept_scaling=1, max_iter=100,\n",
      "          multi_class='ovr', n_jobs=1, penalty='l1', random_state=None,\n",
      "          solver='liblinear', tol=0.0001, verbose=0, warm_start=False)\n",
      "0.89395\n"
     ]
    }
   ],
   "source": [
    "from sklearn.model_selection import RandomizedSearchCV\n",
    "#tuned_parameter = [{'C': [10**-3, 10**-2, 10**0, 10**2, 10**3]}]\n",
    "from scipy.stats import uniform\n",
    "tuned_parameters = {'C':uniform()}\n",
    "model1 = RandomizedSearchCV(LogisticRegression(penalty='l1'),tuned_parameters, scoring = 'accuracy', cv=5)\n",
    "model1.fit(X_train,y_train)\n",
    "print(model1.best_estimator_)\n",
    "print(model1.score(X_test,y_test))"
   ]
  },
  {
   "cell_type": "code",
   "execution_count": 146,
   "metadata": {},
   "outputs": [
    {
     "name": "stdout",
     "output_type": "stream",
     "text": [
      "{'C': 0.33650973319443533}\n"
     ]
    }
   ],
   "source": [
    "print(model1.best_params_)"
   ]
  },
  {
   "cell_type": "code",
   "execution_count": null,
   "metadata": {},
   "outputs": [],
   "source": []
  },
  {
   "cell_type": "code",
   "execution_count": 148,
   "metadata": {},
   "outputs": [
    {
     "name": "stdout",
     "output_type": "stream",
     "text": [
      "0.9042875\n"
     ]
    }
   ],
   "source": [
    "print(model1.score(X_train,y_train))"
   ]
  },
  {
   "cell_type": "code",
   "execution_count": 149,
   "metadata": {},
   "outputs": [
    {
     "name": "stdout",
     "output_type": "stream",
     "text": [
      "0.89395\n"
     ]
    }
   ],
   "source": [
    "print(model1.score(X_test,y_test))"
   ]
  },
  {
   "cell_type": "code",
   "execution_count": 150,
   "metadata": {},
   "outputs": [
    {
     "name": "stdout",
     "output_type": "stream",
     "text": [
      "accuracy for C=0.33650973319443533 is 0.797\n"
     ]
    }
   ],
   "source": [
    "#logistic regression-l1 regularization\n",
    "LR = LogisticRegression(penalty='l1',C=0.33650973319443533,class_weight='balanced')\n",
    "LR.fit(X_train,y_train)\n",
    "pred = LR.predict(X_test)\n",
    "acc=accuracy_score(y_test,pred)\n",
    "#clf.score(X,y)\n",
    "print('accuracy for C=0.33650973319443533 is %0.3f' %(acc))\n"
   ]
  },
  {
   "cell_type": "code",
   "execution_count": 151,
   "metadata": {},
   "outputs": [
    {
     "name": "stdout",
     "output_type": "stream",
     "text": [
      "f1: 0.7967\n"
     ]
    }
   ],
   "source": [
    "\n",
    "from sklearn.metrics import f1_score\n",
    "\n",
    "print(\"f1:\", f1_score(y_test, pred,average='micro'))"
   ]
  },
  {
   "cell_type": "code",
   "execution_count": 152,
   "metadata": {},
   "outputs": [
    {
     "name": "stdout",
     "output_type": "stream",
     "text": [
      "Test_accu: 0.89395\n",
      "50\n"
     ]
    }
   ],
   "source": [
    "#sparcity-1\n",
    "LR1 = LogisticRegression(penalty='l1',C=1)# put the correct c - =..........\n",
    "LR1.fit(X_train,y_train)\n",
    "pred1=LR1.predict(X_test)\n",
    "Test_acc = accuracy_score(y_test,pred1)\n",
    "print(\"Test_accu:\",Test_acc)\n",
    "w = LR1.coef_\n",
    "print(np.count_nonzero(w))"
   ]
  },
  {
   "cell_type": "code",
   "execution_count": 153,
   "metadata": {},
   "outputs": [
    {
     "name": "stdout",
     "output_type": "stream",
     "text": [
      "Test_accu: 0.89385\n",
      "48\n"
     ]
    }
   ],
   "source": [
    "#sparcity-2\n",
    "LR1 = LogisticRegression(penalty='l1',C=.1)# put the correct c - =..........\n",
    "LR1.fit(X_train,y_train)\n",
    "pred1=LR1.predict(X_test)\n",
    "Test_acc = accuracy_score(y_test,pred1)\n",
    "print(\"Test_accu:\",Test_acc)\n",
    "w = LR1.coef_\n",
    "print(np.count_nonzero(w))"
   ]
  },
  {
   "cell_type": "code",
   "execution_count": 154,
   "metadata": {},
   "outputs": [
    {
     "name": "stdout",
     "output_type": "stream",
     "text": [
      "Test_accu: 0.89045\n",
      "37\n"
     ]
    }
   ],
   "source": [
    "#sparcity-3\n",
    "LR1 = LogisticRegression(penalty='l1',C=.01)# put the correct c - =..........\n",
    "LR1.fit(X_train,y_train)\n",
    "pred1=LR1.predict(X_test)\n",
    "Test_acc = accuracy_score(y_test,pred1)\n",
    "print(\"Test_accu:\",Test_acc)\n",
    "w = LR1.coef_\n",
    "print(np.count_nonzero(w))"
   ]
  },
  {
   "cell_type": "code",
   "execution_count": 155,
   "metadata": {},
   "outputs": [
    {
     "name": "stdout",
     "output_type": "stream",
     "text": [
      "Test_accu: 0.8686\n",
      "12\n"
     ]
    }
   ],
   "source": [
    "#sparcity-4\n",
    "LR1 = LogisticRegression(penalty='l1',C=.001)# put the correct c - =..........\n",
    "LR1.fit(X_train,y_train)\n",
    "pred1=LR1.predict(X_test)\n",
    "Test_acc = accuracy_score(y_test,pred1)\n",
    "print(\"Test_accu:\",Test_acc)\n",
    "w = LR1.coef_\n",
    "print(np.count_nonzero(w))"
   ]
  },
  {
   "cell_type": "code",
   "execution_count": null,
   "metadata": {},
   "outputs": [],
   "source": []
  },
  {
   "cell_type": "markdown",
   "metadata": {},
   "source": [
    " # 3.2 TFIDF-W2V-GridSearchCV"
   ]
  },
  {
   "cell_type": "code",
   "execution_count": 156,
   "metadata": {},
   "outputs": [
    {
     "name": "stdout",
     "output_type": "stream",
     "text": [
      "(80000, 67317) (80000,)\n"
     ]
    }
   ],
   "source": [
    "X_train, y_train = final['cleaned_Text'].iloc[0:80000], final['Score'].iloc[0:80000]\n",
    "X_test, y_test = final['cleaned_Text'].iloc[80000:100000], final['Score'].iloc[80000:100000]\n",
    "\n",
    "# Initializing tfidf vectorizer\n",
    "tfidf_vect = TfidfVectorizer(ngram_range=(1, 1))\n",
    "\n",
    "# Fitting for tfidf vectorization\n",
    "tfidf_vect.fit(X_train)\n",
    "X_train = tfidf_vect.transform(X_train)\n",
    "X_test = tfidf_vect.transform(X_test)\n",
    "\n",
    "#we are converting dictionary with word as key and idf as value\n",
    "dictionary = dict(zip(tfidf_vect.get_feature_names(),list(tfidf_vect.idf_)))\n",
    "print(X_train.shape,y_train.shape)"
   ]
  },
  {
   "cell_type": "code",
   "execution_count": 157,
   "metadata": {},
   "outputs": [
    {
     "name": "stderr",
     "output_type": "stream",
     "text": [
      "100%|██████████| 80000/80000 [00:26<00:00, 3026.48it/s]"
     ]
    },
    {
     "name": "stdout",
     "output_type": "stream",
     "text": [
      "CPU times: user 27.4 s, sys: 1.78 s, total: 29.2 s\n",
      "Wall time: 26.5 s\n"
     ]
    },
    {
     "name": "stderr",
     "output_type": "stream",
     "text": [
      "\n"
     ]
    }
   ],
   "source": [
    "%%time\n",
    "tfidf_feat = tfidf_vect.get_feature_names()\n",
    "tfidf_train_vectors = []\n",
    "row = 0\n",
    "for sent in tqdm(train_sent):\n",
    "    sent_vec = np.zeros(50)\n",
    "    weight_sum = 0\n",
    "    for word in sent:\n",
    "        try:\n",
    "            vec = train_w2v_model.wv[word]\n",
    "            #tf_idf = X_train[row, tfidf_feat.index(word)](prev.............)\n",
    "            # to reduce the computation we are \n",
    "            # dictionary[word] = idf value of word in whole courpus\n",
    "            # sent.count(word) = tf valeus of word in this review\n",
    "            tf_idf = dictionary[word]*(sent.count(word)/len(sent))\n",
    "            sent_vec += (vec * tf_idf)\n",
    "            weight_sum += tf_idf\n",
    "        except:\n",
    "            pass\n",
    "    if weight_sum != 0:\n",
    "        sent_vec /= weight_sum\n",
    "    tfidf_train_vectors.append(sent_vec)\n",
    "    row += 1"
   ]
  },
  {
   "cell_type": "code",
   "execution_count": 158,
   "metadata": {},
   "outputs": [
    {
     "data": {
      "text/plain": [
       "80000"
      ]
     },
     "execution_count": 158,
     "metadata": {},
     "output_type": "execute_result"
    }
   ],
   "source": [
    "len(tfidf_train_vectors)"
   ]
  },
  {
   "cell_type": "code",
   "execution_count": 160,
   "metadata": {},
   "outputs": [
    {
     "data": {
      "text/plain": [
       "20000"
      ]
     },
     "execution_count": 160,
     "metadata": {},
     "output_type": "execute_result"
    }
   ],
   "source": [
    "#tfidf w2v for test data\n",
    "\n",
    "tfidf_test_vectors = []; # the tfidf-w2v for each sentence/review is stored in this list\n",
    "row=0;\n",
    "for sent in test_sent: # for each review/sentence\n",
    "    test_vec = np.zeros(50) # as word vectors are of zero length\n",
    "    weight_sum =0; # num of words with a valid vector in the sentence/review\n",
    "    for word in sent: # for each word in a review/sentence\n",
    "        try:\n",
    "            vec = train_w2v_model.wv[word]\n",
    "            # obtain the tf_idf of a word in a sentence/review\n",
    "            #tf_idf = X_test[row, tfidf_feat.index(word)]\n",
    "            tf_idf = dictionary[word]*(sent.count(word)/len(sent))\n",
    "            test_vec += (vec * tf_idf)\n",
    "            weight_sum += tf_idf\n",
    "        except:\n",
    "            pass\n",
    "    test_vec /= weight_sum\n",
    "    tfidf_test_vectors.append(test_vec)\n",
    "    row += 1\n",
    "len(tfidf_test_vectors)"
   ]
  },
  {
   "cell_type": "code",
   "execution_count": 161,
   "metadata": {},
   "outputs": [
    {
     "data": {
      "text/plain": [
       "80000"
      ]
     },
     "execution_count": 161,
     "metadata": {},
     "output_type": "execute_result"
    }
   ],
   "source": [
    "X_train = tfidf_train_vectors\n",
    "X_test = tfidf_test_vectors \n",
    "len(X_train)\n"
   ]
  },
  {
   "cell_type": "code",
   "execution_count": 162,
   "metadata": {},
   "outputs": [
    {
     "data": {
      "text/plain": [
       "array([[ 1.55229409,  0.09916706,  0.88940091, ..., -0.07003348,\n",
       "        -0.80218799,  2.24317512],\n",
       "       [ 1.52570008,  1.26890618,  0.59305125, ..., -0.37149939,\n",
       "        -0.44498053,  0.21146913],\n",
       "       [ 0.16732122,  1.34952216, -1.2159911 , ..., -0.13748329,\n",
       "         1.76522872, -1.36214961],\n",
       "       ...,\n",
       "       [ 0.15175289,  1.1483961 ,  1.97744671, ...,  1.60645729,\n",
       "         1.30597261, -2.32972197],\n",
       "       [ 1.35267827,  1.18015889,  0.1211857 , ..., -0.36018084,\n",
       "         1.19428448,  1.0550643 ],\n",
       "       [ 0.58834828,  1.0098456 , -0.37140392, ...,  0.12622902,\n",
       "         0.44553564, -0.6915908 ]])"
      ]
     },
     "execution_count": 162,
     "metadata": {},
     "output_type": "execute_result"
    }
   ],
   "source": [
    "#Standerdized the data\n",
    "scaler = StandardScaler(with_mean=False)\n",
    "scaler.fit(X_train)\n",
    "scaler.transform(X_train)\n",
    "scaler.transform(X_test)"
   ]
  },
  {
   "cell_type": "markdown",
   "metadata": {},
   "source": [
    "# GridSearch L2-TFIDF-W2V"
   ]
  },
  {
   "cell_type": "code",
   "execution_count": 163,
   "metadata": {},
   "outputs": [
    {
     "name": "stdout",
     "output_type": "stream",
     "text": [
      "LogisticRegression(C=100, class_weight=None, dual=False, fit_intercept=True,\n",
      "          intercept_scaling=1, max_iter=100, multi_class='ovr', n_jobs=1,\n",
      "          penalty='l2', random_state=None, solver='liblinear', tol=0.0001,\n",
      "          verbose=0, warm_start=False)\n",
      "best parameter\n",
      "{'C': 100}\n",
      "Test score\n",
      "0.8851\n"
     ]
    }
   ],
   "source": [
    "from sklearn.grid_search import GridSearchCV\n",
    "from sklearn.datasets import *\n",
    "from sklearn.linear_model import LogisticRegression\n",
    "from sklearn.model_selection import TimeSeriesSplit\n",
    "tscv = TimeSeriesSplit()\n",
    "my_cv = [(X_train,X_test) for X_train, X_test in TimeSeriesSplit(n_splits=5).split(X_train)]\n",
    "\n",
    "tuned_parameters = [{'C': [10**-3, 10**-2, 10**0, 10**2, 10**3]}]\n",
    "#Using GridSearchCV\n",
    "model = GridSearchCV(LogisticRegression(penalty='l2'), tuned_parameters, scoring = 'accuracy', cv=my_cv)\n",
    "model.fit(X_train, y_train)\n",
    "print(model.best_estimator_)\n",
    "\n",
    "print(\"best parameter\")\n",
    "print(model.best_params_)\n",
    "\n",
    "print(\"Test score\")\n",
    "print(model.score(X_test,y_test)) "
   ]
  },
  {
   "cell_type": "code",
   "execution_count": 164,
   "metadata": {},
   "outputs": [
    {
     "name": "stdout",
     "output_type": "stream",
     "text": [
      "0.8959875\n"
     ]
    }
   ],
   "source": [
    "print(model.score(X_train,y_train))"
   ]
  },
  {
   "cell_type": "code",
   "execution_count": 165,
   "metadata": {},
   "outputs": [
    {
     "name": "stdout",
     "output_type": "stream",
     "text": [
      "\n",
      " ****Test accuracy for C=100 is 0.773\n"
     ]
    }
   ],
   "source": [
    "#logistic regression-l2 regularization\n",
    "from sklearn.linear_model import LogisticRegression\n",
    "LR = LogisticRegression(penalty='l2',C=100,class_weight='balanced')# put the correct c - =..........\n",
    "LR.fit(X_train,y_train)\n",
    "p=LR.predict(X_train)\n",
    "error = 1-accuracy_score(p,y_train)\n",
    "#train score\n",
    "score = model.score(X_train,y_train)\n",
    "\n",
    "pred = LR.predict(X_test)\n",
    "acc=accuracy_score(y_test,pred)\n",
    "#Test score\n",
    "score1= model.score(X_test,y_test)\n",
    "#clf.score(X,y)\n",
    "print('\\n ****Test accuracy for C=100 is %.3f' %(acc))\n",
    "#print('accuracy for C=%f is %f' %(acc))"
   ]
  },
  {
   "cell_type": "code",
   "execution_count": 166,
   "metadata": {},
   "outputs": [
    {
     "name": "stdout",
     "output_type": "stream",
     "text": [
      "f1: 0.7728500000000001\n"
     ]
    }
   ],
   "source": [
    "from sklearn.metrics import f1_score\n",
    "print(\"f1:\", f1_score(y_test, pred,average='micro'))"
   ]
  },
  {
   "cell_type": "code",
   "execution_count": null,
   "metadata": {},
   "outputs": [],
   "source": []
  },
  {
   "cell_type": "code",
   "execution_count": 110,
   "metadata": {},
   "outputs": [
    {
     "data": {
      "text/plain": [
       "array([[ 2196,   482],\n",
       "       [ 4028, 13294]])"
      ]
     },
     "execution_count": 110,
     "metadata": {},
     "output_type": "execute_result"
    }
   ],
   "source": [
    "#confusion matrix\n",
    "from sklearn.metrics import confusion_matrix\n",
    "cm=confusion_matrix(y_test,pred)\n",
    "cm"
   ]
  },
  {
   "cell_type": "code",
   "execution_count": 111,
   "metadata": {},
   "outputs": [
    {
     "data": {
      "image/png": "[encoded data removed]",
      "text/plain": [
       "<Figure size 432x288 with 2 Axes>"
      ]
     },
     "metadata": {},
     "output_type": "display_data"
    }
   ],
   "source": [
    "#plot the confusion matrix to describe the performance\n",
    "import seaborn as sns\n",
    "class_label=['negative','positive']\n",
    "df_cm = pd.DataFrame(cm,index=class_label,columns=class_label)\n",
    "sns.heatmap(df_cm,annot=True,fmt='d')\n",
    "plt.title(\"Confusion matrix\")\n",
    "plt.xlabel(\"pred label\")\n",
    "plt.ylabel(\"True label\")\n",
    "plt.show()"
   ]
  },
  {
   "cell_type": "code",
   "execution_count": null,
   "metadata": {},
   "outputs": [],
   "source": []
  },
  {
   "cell_type": "code",
   "execution_count": null,
   "metadata": {},
   "outputs": [],
   "source": []
  },
  {
   "cell_type": "markdown",
   "metadata": {},
   "source": [
    "# GridSearch L1-TFIDFW2V"
   ]
  },
  {
   "cell_type": "code",
   "execution_count": 189,
   "metadata": {},
   "outputs": [
    {
     "name": "stdout",
     "output_type": "stream",
     "text": [
      "LogisticRegression(C=1000, class_weight=None, dual=False, fit_intercept=True,\n",
      "          intercept_scaling=1, max_iter=100, multi_class='ovr', n_jobs=1,\n",
      "          penalty='l1', random_state=None, solver='liblinear', tol=0.0001,\n",
      "          verbose=0, warm_start=False)\n",
      "0.885\n"
     ]
    }
   ],
   "source": [
    "from sklearn.grid_search import GridSearchCV\n",
    "from sklearn.datasets import *\n",
    "from sklearn.linear_model import LogisticRegression\n",
    "from sklearn.model_selection import TimeSeriesSplit\n",
    "tscv = TimeSeriesSplit()\n",
    "my_cv = [(X_train,X_test) for X_train, X_test in TimeSeriesSplit(n_splits=5).split(X_train)]\n",
    "\n",
    "tuned_parameters = [{'C': [10**-3, 10**-2, 10**0, 10**2, 10**3]}]\n",
    "#Using GridSearchCV\n",
    "model = GridSearchCV(LogisticRegression(penalty='l1'), tuned_parameters, scoring = 'accuracy', cv = my_cv)\n",
    "model.fit(X_train, y_train)\n",
    "print(model.best_estimator_)\n",
    "\n",
    "print(model.score(X_test,y_test))"
   ]
  },
  {
   "cell_type": "code",
   "execution_count": 191,
   "metadata": {},
   "outputs": [
    {
     "name": "stdout",
     "output_type": "stream",
     "text": [
      "0.895975\n"
     ]
    }
   ],
   "source": [
    "print(model.score(X_train,y_train))"
   ]
  },
  {
   "cell_type": "code",
   "execution_count": 192,
   "metadata": {},
   "outputs": [
    {
     "name": "stdout",
     "output_type": "stream",
     "text": [
      "accuracy for C=1000 is 0.773\n"
     ]
    }
   ],
   "source": [
    "#logistic regression-l1 regularization\n",
    "LR = LogisticRegression(penalty='l1',C=1000,class_weight='balanced')\n",
    "LR.fit(X_train,y_train)\n",
    "pred = LR.predict(X_test)\n",
    "acc=accuracy_score(y_test,pred)\n",
    "#clf.score(X,y)\n",
    "print('accuracy for C=1000 is %0.3f' %(acc))"
   ]
  },
  {
   "cell_type": "code",
   "execution_count": 193,
   "metadata": {},
   "outputs": [
    {
     "name": "stdout",
     "output_type": "stream",
     "text": [
      "f1: 0.7728\n"
     ]
    }
   ],
   "source": [
    "from sklearn.metrics import f1_score\n",
    "print(\"f1:\", f1_score(y_test, pred,average='micro'))"
   ]
  },
  {
   "cell_type": "code",
   "execution_count": 194,
   "metadata": {},
   "outputs": [
    {
     "data": {
      "text/plain": [
       "array([[ 2185,   493],\n",
       "       [ 4051, 13271]])"
      ]
     },
     "execution_count": 194,
     "metadata": {},
     "output_type": "execute_result"
    }
   ],
   "source": [
    "#confusion matrix\n",
    "from sklearn.metrics import confusion_matrix\n",
    "cm=confusion_matrix(y_test,pred)\n",
    "cm"
   ]
  },
  {
   "cell_type": "code",
   "execution_count": 195,
   "metadata": {},
   "outputs": [
    {
     "data": {
      "image/png": "[encoded data removed]",
      "text/plain": [
       "<Figure size 432x288 with 2 Axes>"
      ]
     },
     "metadata": {},
     "output_type": "display_data"
    }
   ],
   "source": [
    "#plot the confusion matrix to describe the performance\n",
    "import seaborn as sns\n",
    "class_label=['negative','positive']\n",
    "df_cm = pd.DataFrame(cm,index=class_label,columns=class_label)\n",
    "sns.heatmap(df_cm,annot=True,fmt='d')\n",
    "plt.title(\"Confusion matrix\")\n",
    "plt.xlabel(\"pred label\")\n",
    "plt.ylabel(\"True label\")\n",
    "plt.show()"
   ]
  },
  {
   "cell_type": "code",
   "execution_count": 196,
   "metadata": {},
   "outputs": [
    {
     "name": "stdout",
     "output_type": "stream",
     "text": [
      "Test_accu: 0.8852\n",
      "50\n"
     ]
    }
   ],
   "source": [
    "#sparcity-1\n",
    "LR1 = LogisticRegression(penalty='l1',C=1)# put the correct c - =..........\n",
    "LR1.fit(X_train,y_train)\n",
    "pred1=LR1.predict(X_test)\n",
    "Test_acc = accuracy_score(y_test,pred1)\n",
    "print(\"Test_accu:\",Test_acc)\n",
    "w = LR1.coef_\n",
    "print(np.count_nonzero(w))"
   ]
  },
  {
   "cell_type": "code",
   "execution_count": 197,
   "metadata": {},
   "outputs": [
    {
     "name": "stdout",
     "output_type": "stream",
     "text": [
      "Test_accu: 0.8847\n",
      "49\n"
     ]
    }
   ],
   "source": [
    "#sparcity-2\n",
    "LR1 = LogisticRegression(penalty='l1',C=0.1)# put the correct c - =..........\n",
    "LR1.fit(X_train,y_train)\n",
    "pred1=LR1.predict(X_test)\n",
    "Test_acc = accuracy_score(y_test,pred1)\n",
    "print(\"Test_accu:\",Test_acc)\n",
    "w = LR1.coef_\n",
    "print(np.count_nonzero(w))"
   ]
  },
  {
   "cell_type": "code",
   "execution_count": 198,
   "metadata": {},
   "outputs": [
    {
     "name": "stdout",
     "output_type": "stream",
     "text": [
      "Test_accu: 0.8817\n",
      "39\n"
     ]
    }
   ],
   "source": [
    "#sparcity-3\n",
    "LR1 = LogisticRegression(penalty='l1',C=0.01)# put the correct c - =..........\n",
    "LR1.fit(X_train,y_train)\n",
    "pred1=LR1.predict(X_test)\n",
    "Test_acc = accuracy_score(y_test,pred1)\n",
    "print(\"Test_accu:\",Test_acc)\n",
    "w = LR1.coef_\n",
    "print(np.count_nonzero(w))"
   ]
  },
  {
   "cell_type": "code",
   "execution_count": 199,
   "metadata": {},
   "outputs": [
    {
     "name": "stdout",
     "output_type": "stream",
     "text": [
      "Test_accu: 0.86675\n",
      "16\n"
     ]
    }
   ],
   "source": [
    "#sparcity-4\n",
    "LR1 = LogisticRegression(penalty='l1',C=0.001)# put the correct c - =..........\n",
    "LR1.fit(X_train,y_train)\n",
    "pred1=LR1.predict(X_test)\n",
    "Test_acc = accuracy_score(y_test,pred1)\n",
    "print(\"Test_accu:\",Test_acc)\n",
    "w = LR1.coef_\n",
    "print(np.count_nonzero(w))"
   ]
  },
  {
   "cell_type": "markdown",
   "metadata": {},
   "source": [
    "# RandomSearch-L2-TFIDF-W2V"
   ]
  },
  {
   "cell_type": "code",
   "execution_count": 169,
   "metadata": {},
   "outputs": [
    {
     "name": "stdout",
     "output_type": "stream",
     "text": [
      "LogisticRegression(C=0.8899734763979731, class_weight=None, dual=False,\n",
      "          fit_intercept=True, intercept_scaling=1, max_iter=100,\n",
      "          multi_class='ovr', n_jobs=1, penalty='l2', random_state=None,\n",
      "          solver='liblinear', tol=0.0001, verbose=0, warm_start=False)\n",
      "0.885\n"
     ]
    }
   ],
   "source": [
    "\n",
    "from sklearn.model_selection import RandomizedSearchCV\n",
    "from scipy.stats import uniform\n",
    "#tuned_parameter = [{'C': [10**-3, 10**-2, 10**0, 10**2, 10**3]}]\n",
    "tuned_parameters = {'C':uniform()}\n",
    "model1 = RandomizedSearchCV(LogisticRegression(penalty='l2'),tuned_parameters, scoring = 'accuracy', cv=5)\n",
    "model1.fit(X_train,y_train)\n",
    "print(model1.best_estimator_)\n",
    "print(model1.score(X_test,y_test))"
   ]
  },
  {
   "cell_type": "code",
   "execution_count": 170,
   "metadata": {},
   "outputs": [
    {
     "name": "stdout",
     "output_type": "stream",
     "text": [
      "0.8959875\n"
     ]
    }
   ],
   "source": [
    "print(model.score(X_train,y_train))"
   ]
  },
  {
   "cell_type": "code",
   "execution_count": 171,
   "metadata": {},
   "outputs": [
    {
     "name": "stdout",
     "output_type": "stream",
     "text": [
      "0.8959875\n"
     ]
    }
   ],
   "source": [
    "print(model.score(X_train,y_train))"
   ]
  },
  {
   "cell_type": "code",
   "execution_count": 173,
   "metadata": {},
   "outputs": [
    {
     "name": "stdout",
     "output_type": "stream",
     "text": [
      "accuracy for C=0.8899734763979731 is 0.773\n"
     ]
    }
   ],
   "source": [
    "#logistic regression-l2 regularization\n",
    "LR = LogisticRegression(penalty='l2',C=0.8899734763979731,class_weight='balanced')\n",
    "LR.fit(X_train,y_train)\n",
    "pred = LR.predict(X_test)\n",
    "acc=accuracy_score(y_test,pred)\n",
    "#clf.score(X,y)\n",
    "print('accuracy for C=0.8899734763979731 is %0.3f' %(acc))\n"
   ]
  },
  {
   "cell_type": "code",
   "execution_count": 174,
   "metadata": {},
   "outputs": [
    {
     "name": "stdout",
     "output_type": "stream",
     "text": [
      "f1: 0.77315\n"
     ]
    }
   ],
   "source": [
    "from sklearn.metrics import f1_score\n",
    "print(\"f1:\", f1_score(y_test, pred,average='micro'))"
   ]
  },
  {
   "cell_type": "code",
   "execution_count": 175,
   "metadata": {},
   "outputs": [
    {
     "data": {
      "text/plain": [
       "array([[ 2186,   492],\n",
       "       [ 4045, 13277]])"
      ]
     },
     "execution_count": 175,
     "metadata": {},
     "output_type": "execute_result"
    }
   ],
   "source": [
    "#confusion matrix\n",
    "from sklearn.metrics import confusion_matrix\n",
    "cm=confusion_matrix(y_test,pred)\n",
    "cm"
   ]
  },
  {
   "cell_type": "code",
   "execution_count": 176,
   "metadata": {},
   "outputs": [
    {
     "data": {
      "image/png": "[encoded data removed]",
      "text/plain": [
       "<Figure size 432x288 with 2 Axes>"
      ]
     },
     "metadata": {},
     "output_type": "display_data"
    }
   ],
   "source": [
    "#plot the confusion matrix to describe the performance\n",
    "import seaborn as sns\n",
    "class_label=['negative','positive']\n",
    "df_cm = pd.DataFrame(cm,index=class_label,columns=class_label)\n",
    "sns.heatmap(df_cm,annot=True,fmt='d')\n",
    "plt.title(\"Confusion matrix\")\n",
    "plt.xlabel(\"pred label\")\n",
    "plt.ylabel(\"True label\")\n",
    "plt.show()"
   ]
  },
  {
   "cell_type": "markdown",
   "metadata": {},
   "source": [
    " # RandomSearch-L1-Tfidf-W2V"
   ]
  },
  {
   "cell_type": "code",
   "execution_count": 177,
   "metadata": {},
   "outputs": [
    {
     "name": "stdout",
     "output_type": "stream",
     "text": [
      "LogisticRegression(C=0.5804536923497893, class_weight=None, dual=False,\n",
      "          fit_intercept=True, intercept_scaling=1, max_iter=100,\n",
      "          multi_class='ovr', n_jobs=1, penalty='l1', random_state=None,\n",
      "          solver='liblinear', tol=0.0001, verbose=0, warm_start=False)\n",
      "0.88495\n"
     ]
    }
   ],
   "source": [
    "\n",
    "\n",
    "from sklearn.model_selection import RandomizedSearchCV\n",
    "from scipy.stats import uniform\n",
    "#tuned_parameter = [{'C': [10**-3, 10**-2, 10**0, 10**2, 10**3]}]\n",
    "tuned_parameters = {'C':uniform()}\n",
    "model1 = RandomizedSearchCV(LogisticRegression(penalty='l1'),tuned_parameters, scoring = 'accuracy', cv=5)\n",
    "model1.fit(X_train,y_train)\n",
    "print(model1.best_estimator_)\n"
   ]
  },
  {
   "cell_type": "code",
   "execution_count": 179,
   "metadata": {},
   "outputs": [
    {
     "name": "stdout",
     "output_type": "stream",
     "text": [
      "0.88495\n"
     ]
    }
   ],
   "source": [
    "print(model1.score(X_test,y_test))"
   ]
  },
  {
   "cell_type": "code",
   "execution_count": 178,
   "metadata": {},
   "outputs": [
    {
     "name": "stdout",
     "output_type": "stream",
     "text": [
      "0.8959875\n"
     ]
    }
   ],
   "source": [
    "print(model.score(X_train,y_train))"
   ]
  },
  {
   "cell_type": "code",
   "execution_count": null,
   "metadata": {},
   "outputs": [],
   "source": []
  },
  {
   "cell_type": "code",
   "execution_count": 183,
   "metadata": {},
   "outputs": [
    {
     "name": "stdout",
     "output_type": "stream",
     "text": [
      "accuracy for C=0.5804536923497893 is 0.773\n"
     ]
    }
   ],
   "source": [
    "#logistic regression-l1 regularization\n",
    "LR = LogisticRegression(penalty='l1',C=0.5804536923497893,class_weight='balanced')\n",
    "LR.fit(X_train,y_train)\n",
    "pred = LR.predict(X_test)\n",
    "acc=accuracy_score(y_test,pred)\n",
    "#clf.score(X,y)\n",
    "print('accuracy for C=0.5804536923497893 is %0.3f' %(acc))\n"
   ]
  },
  {
   "cell_type": "code",
   "execution_count": 184,
   "metadata": {},
   "outputs": [
    {
     "name": "stdout",
     "output_type": "stream",
     "text": [
      "f1: 0.77275\n"
     ]
    }
   ],
   "source": [
    "from sklearn.metrics import f1_score\n",
    "print(\"f1:\", f1_score(y_test, pred,average='micro'))"
   ]
  },
  {
   "cell_type": "code",
   "execution_count": 185,
   "metadata": {},
   "outputs": [
    {
     "name": "stdout",
     "output_type": "stream",
     "text": [
      "Test_accu: 0.8852\n",
      "50\n"
     ]
    }
   ],
   "source": [
    "#sparcity-1\n",
    "LR1 = LogisticRegression(penalty='l1',C=1.0)# put the correct c - =..........\n",
    "LR1.fit(X_train,y_train)\n",
    "pred1=LR1.predict(X_test)\n",
    "Test_acc = accuracy_score(y_test,pred1)\n",
    "print(\"Test_accu:\",Test_acc)\n",
    "w = LR1.coef_\n",
    "print(np.count_nonzero(w))"
   ]
  },
  {
   "cell_type": "code",
   "execution_count": 186,
   "metadata": {},
   "outputs": [
    {
     "name": "stdout",
     "output_type": "stream",
     "text": [
      "Test_accu: 0.8847\n",
      "49\n"
     ]
    }
   ],
   "source": [
    "#sparcity-2\n",
    "LR1 = LogisticRegression(penalty='l1',C=0.1)# put the correct c - =..........\n",
    "LR1.fit(X_train,y_train)\n",
    "pred1=LR1.predict(X_test)\n",
    "Test_acc = accuracy_score(y_test,pred1)\n",
    "print(\"Test_accu:\",Test_acc)\n",
    "w = LR1.coef_\n",
    "print(np.count_nonzero(w))"
   ]
  },
  {
   "cell_type": "code",
   "execution_count": 187,
   "metadata": {},
   "outputs": [
    {
     "name": "stdout",
     "output_type": "stream",
     "text": [
      "Test_accu: 0.88165\n",
      "39\n"
     ]
    }
   ],
   "source": [
    "#sparcity-3\n",
    "LR1 = LogisticRegression(penalty='l1',C=0.01)# put the correct c - =..........\n",
    "LR1.fit(X_train,y_train)\n",
    "pred1=LR1.predict(X_test)\n",
    "Test_acc = accuracy_score(y_test,pred1)\n",
    "print(\"Test_accu:\",Test_acc)\n",
    "w = LR1.coef_\n",
    "print(np.count_nonzero(w))"
   ]
  },
  {
   "cell_type": "code",
   "execution_count": 188,
   "metadata": {},
   "outputs": [
    {
     "name": "stdout",
     "output_type": "stream",
     "text": [
      "Test_accu: 0.86675\n",
      "16\n"
     ]
    }
   ],
   "source": [
    "#sparcity-4\n",
    "LR1 = LogisticRegression(penalty='l1',C=0.001)# put the correct c - =..........\n",
    "LR1.fit(X_train,y_train)\n",
    "pred1=LR1.predict(X_test)\n",
    "Test_acc = accuracy_score(y_test,pred1)\n",
    "print(\"Test_accu:\",Test_acc)\n",
    "w = LR1.coef_\n",
    "print(np.count_nonzero(w))"
   ]
  },
  {
   "cell_type": "markdown",
   "metadata": {},
   "source": [
    " # Conclusion-"
   ]
  },
  {
   "cell_type": "markdown",
   "metadata": {},
   "source": [
    "\n",
    "  1.as lambda increases ,Model will be underfit But with L1-regularization, we get more sparcity.\n",
    "\n"
   ]
  },
  {
   "cell_type": "code",
   "execution_count": null,
   "metadata": {},
   "outputs": [],
   "source": []
  },
  {
   "cell_type": "code",
   "execution_count": 200,
   "metadata": {},
   "outputs": [
    {
     "name": "stdout",
     "output_type": "stream",
     "text": [
      "+------------+------------+-------------+--------------+---------------+------------+-------------+------------+----------+\n",
      "|   Model    | Vectorizor | Regularizor |   Techniqe   | Test_accuracy | Test_score | Train_score | Best_param | f1_score |\n",
      "+------------+------------+-------------+--------------+---------------+------------+-------------+------------+----------+\n",
      "| LOgistic R |    BOW     |      L2     |  GridSearh   |      0.89     |   0.9205   |    0.9628   |     1      |  0.8904  |\n",
      "| Logistic R |    BOW     |      L1     |  GridSearch  |     0.898     |   0.9213   |    0.9512   |     1      |  0.8871  |\n",
      "| Logistic R |    BOW     |      L2     | RandomSearch |     0.885     |   0.9218   |    0.9528   |   0.3948   |  0.8878  |\n",
      "| Logistic R |    BOW     |      L1     | RandomSearch |     0.878     |  0.92125   |    0.9377   |   0.3486   |  0.8785  |\n",
      "+------------+------------+-------------+--------------+---------------+------------+-------------+------------+----------+\n"
     ]
    }
   ],
   "source": [
    "#from prettytable import prettyTable\n",
    "\n",
    "from prettytable import PrettyTable\n",
    "Table1=PrettyTable()\n",
    "Table1.field_names=['Model','Vectorizor','Regularizor','Techniqe','Test_accuracy','Test_score','Train_score','Best_param','f1_score']\n",
    "Table1.add_row(['LOgistic R','BOW',       'L2' ,'GridSearh', .890, 0.9205 , 0.9628,  1  , 0.8904])\n",
    "Table1.add_row(['Logistic R','BOW',        'L1' ,'GridSearch',.898, 0.9213, 0.9512,  1  , 0.8871])\n",
    "Table1.add_row(['Logistic R','BOW',       'L2', 'RandomSearch',.885,0.9218, 0.9528, 0.3948, 0.8878])\n",
    "Table1.add_row(['Logistic R','BOW',      'L1','RandomSearch',.878, 0.92125, 0.9377, 0.34860, 0.8785])\n",
    "\n",
    "print(Table1)"
   ]
  },
  {
   "cell_type": "code",
   "execution_count": 181,
   "metadata": {},
   "outputs": [
    {
     "name": "stdout",
     "output_type": "stream",
     "text": [
      "+-------------+------------+-------------+--------------+---------------+------------+-------------+------------+----------+\n",
      "|    Model    | Vectorizor | Regularizor |   Techniqe   | Test_accuracy | Test_score | Train_score | Best_param | f1_score |\n",
      "+-------------+------------+-------------+--------------+---------------+------------+-------------+------------+----------+\n",
      "| LOgistic R. |   TFIDF    |      L2     |  GridSearh   |      0.88     |    9193    |    0.9363   |     1      |  0.8795  |\n",
      "|  Logistic R |   TFIDF    |      L1     |  GridSearch  |     0.874     |   0.9213   |    0.9345   |     1      | 0.92155  |\n",
      "|  Logistic R |   TFIDF    |      L2     | RandomSearch |     0.853     |   0.9059   |    0.9477   |   0.9236   |  0.8533  |\n",
      "|  Logistic R |   TFIDF    |      L1     | RandomSearch |     0.843     |   0.9073   |    0.9389   |  0.85432   |  0.8432  |\n",
      "+-------------+------------+-------------+--------------+---------------+------------+-------------+------------+----------+\n"
     ]
    }
   ],
   "source": [
    "#from prettytable import prettyTable\n",
    "\n",
    "from prettytable import PrettyTable\n",
    "Table2=PrettyTable()\n",
    "Table2.field_names=['Model','Vectorizor','Regularizor','Techniqe','Test_accuracy','Test_score','Train_score','Best_param','f1_score']\n",
    "\n",
    "Table2.add_row(['LOgistic R.','TFIDF',       'L2' ,'GridSearh',0.880,9193,0.9363,1,0.8795])\n",
    "Table2.add_row(['Logistic R','TFIDF',       'L1' ,'GridSearch',0.874,0.9213,0.9345,1,0.92155])\n",
    "Table2.add_row(['Logistic R','TFIDF',   'L2', 'RandomSearch',0.853,0.9059,0.9477,0.9236,0.8533])\n",
    "Table2.add_row(['Logistic R','TFIDF','L1','RandomSearch',0.843,0.9073,0.9389,0.85432,0.8432])\n",
    "print(Table2)"
   ]
  },
  {
   "cell_type": "code",
   "execution_count": 201,
   "metadata": {},
   "outputs": [
    {
     "name": "stdout",
     "output_type": "stream",
     "text": [
      "+-------------+------------+-------------+--------------+---------------+------------+-------------+------------+----------+\n",
      "|    Model    | Vectorizor | Regularizor |   Techniqe   | Test_accuracy | Test_score | Train_score | Best_param | f1_score |\n",
      "+-------------+------------+-------------+--------------+---------------+------------+-------------+------------+----------+\n",
      "| LOgistic R. |  Avg-W2V   |      L2     |  GridSearh   |      0.8      |   0.8934   |    0.9078   |    100     |  0.7962  |\n",
      "|  Logistic R |  Avg-W2V   |      L1     |  GridSearch  |      0.79     |   0.8934   |   0.90483   |    1000    |  0.7963  |\n",
      "|  Logistic R |  Avg-W2V   |      L2     | RandomSearch |     0.796     |   0.8935   |    0.9047   |   0.2117   |  0.7956  |\n",
      "|  Logistic R |  Avg-W2V   |      L1     | RandomSearch |     0.797     |   0.8939   |   0.90426   |   0.3365   |  0.7967  |\n",
      "+-------------+------------+-------------+--------------+---------------+------------+-------------+------------+----------+\n"
     ]
    }
   ],
   "source": [
    "#from prettytable import prettyTable\n",
    "\n",
    "from prettytable import PrettyTable\n",
    "Table3=PrettyTable()\n",
    "Table3.field_names=['Model','Vectorizor','Regularizor','Techniqe','Test_accuracy','Test_score','Train_score','Best_param','f1_score']\n",
    "\n",
    "Table3.add_row(['LOgistic R.','Avg-W2V',       'L2' ,'GridSearh',0.800,0.8934,0.9078,100,0.7962])\n",
    "Table3.add_row(['Logistic R','Avg-W2V',       'L1' ,'GridSearch',0.790,0.8934,0.90483,1000,0.7963])\n",
    "Table3.add_row(['Logistic R','Avg-W2V',   'L2', 'RandomSearch',0.796,0.8935,0.9047,0.2117,0.7956])\n",
    "Table3.add_row(['Logistic R','Avg-W2V','L1','RandomSearch',0.797,0.8939,0.90426,0.3365,0.7967])\n",
    "print(Table3)"
   ]
  },
  {
   "cell_type": "code",
   "execution_count": 204,
   "metadata": {},
   "outputs": [
    {
     "name": "stdout",
     "output_type": "stream",
     "text": [
      "+-------------+------------+-------------+--------------+---------------+------------+-------------+------------+----------+\n",
      "|    Model    | Vectorizor | Regularizor |   Techniqe   | Test_accuracy | Test_score | Train_score | Best_param | f1_score |\n",
      "+-------------+------------+-------------+--------------+---------------+------------+-------------+------------+----------+\n",
      "| LOgistic R. | TFIDF-W2V  |      L2     |  GridSearh   |     0.773     |   0.8855   |    0.8959   |    100     |  0.7785  |\n",
      "|  Logistic R | TFIDF-W2V  |      L1     |  GridSearch  |     0.773     |   0.885    |    0.8959   |    1000    |  0.7728  |\n",
      "|  Logistic R | TFIDF-W2V  |      L2     | RandomSearch |     0.773     |   0.885    |    0.8959   |   0.8899   | 0.77315  |\n",
      "|  Logistic R | TFIDF-W2V  |      L1     | RandomSearch |     0.773     |   0.8849   |    0.8959   |   0.5804   | 0.77275  |\n",
      "+-------------+------------+-------------+--------------+---------------+------------+-------------+------------+----------+\n"
     ]
    }
   ],
   "source": [
    "#from prettytable import prettyTable\n",
    "\n",
    "from prettytable import PrettyTable\n",
    "Table4=PrettyTable()\n",
    "Table4.field_names=['Model','Vectorizor','Regularizor','Techniqe','Test_accuracy','Test_score','Train_score','Best_param','f1_score']\n",
    "\n",
    "Table4.add_row(['LOgistic R.','TFIDF-W2V',       'L2' ,'GridSearh',0.773,0.8855,0.8959,100,0.7785])\n",
    "Table4.add_row(['Logistic R','TFIDF-W2V',       'L1' ,'GridSearch',0.773,0.885,0.8959,1000,0.7728])\n",
    "Table4.add_row(['Logistic R','TFIDF-W2V',   'L2', 'RandomSearch',0.773,0.885,0.8959,0.8899,0.77315])\n",
    "Table4.add_row(['Logistic R','TFIDF-W2V','L1','RandomSearch',0.773,0.8849,0.8959,0.5804,0.77275])\n",
    "print(Table4)"
   ]
  },
  {
   "cell_type": "markdown",
   "metadata": {},
   "source": [
    "2. as lambda increases ,Model will be underfit But with L1-regularization, we get more sparcity."
   ]
  },
  {
   "cell_type": "code",
   "execution_count": null,
   "metadata": {},
   "outputs": [],
   "source": []
  },
  {
   "cell_type": "code",
   "execution_count": null,
   "metadata": {},
   "outputs": [],
   "source": []
  }
 ],
 "metadata": {
  "kernelspec": {
   "display_name": "Python 3",
   "language": "python",
   "name": "python3"
  },
  "language_info": {
   "codemirror_mode": {
    "name": "ipython",
    "version": 3
   },
   "file_extension": ".py",
   "mimetype": "text/x-python",
   "name": "python",
   "nbconvert_exporter": "python",
   "pygments_lexer": "ipython3",
   "version": "3.6.5"
  }
 },
 "nbformat": 4,
 "nbformat_minor": 2
}
