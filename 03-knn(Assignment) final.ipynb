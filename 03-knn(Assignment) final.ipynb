{
 "cells": [
  {
   "cell_type": "markdown",
   "metadata": {},
   "source": [
    "Assignment-03(mandatory) sunitachoudhary103@gmail.com\n",
    "\n",
    "Objective -Amazon food reviews polarity prediction based on the given review data by applying K Nearest Neighbors (KNN) algorithm. To build generalized prediction model first step should be necessary cleaning of data as a part of data preprocessing.\n",
    "\n",
    "    First clean the data ,remove duplicate entries. other Text-pre processing like.. a.Removing Stop-words b.Remove any punctuations or limited set of special characters like , or . or # etc. c.Snowball Stemming the word d.Convert the word to lowercase\n",
    "\n",
    "        Once we the data is cleaned to be processed we'll use below Feature generation techniques to convert text to numeric vector.\n",
    "\n",
    "        First sort the data by Time *split the top 10,0000 data into three parts-train,cv,test\n",
    "\n",
    "    1.Bag Of Words (BoW)- *Apply K-NN with BoW\n",
    "\n",
    "    ----1.1 Brute force algorithm with BoW\n",
    "\n",
    "     * Classification report\n",
    "     * Confusion-matrix\n",
    "\n",
    "    ----1.2 Kd-tree algorithm with BoW\n",
    "\n",
    "     * Classification report\n",
    "     * Confusion-matrix\n",
    "\n",
    "2.Term Frequency - inverse document frequency (tf-idf)\n",
    "\n",
    "    Apply K-NN with tf-idf\n",
    "\n",
    "    ----2.1 Brute force algorithm with tf-idf\n",
    "\n",
    "    * Classification report\n",
    "    * Confusion-matrix\n",
    "\n",
    "    ----2.2 Kd-tree algorithm with tf-idf\n",
    "\n",
    "    * Classification report\n",
    "    * Confusion-matrix\n",
    "\n",
    "3.Word2Vec- 3.1*Avg-W2v\n",
    "\n",
    "*Apply K-NN with Average-w2v\n",
    "\n",
    "----3.11 Brute force algorithm with Avg-W2v \n",
    "     * Classification report\n",
    "     * Confusion-matrix\n",
    "\n",
    "----3.12 Kd-tree algorithm with Avg-W2v\n",
    "     * Classification report\n",
    "     * Confusion-matrix\n",
    "\n",
    "3.2*tf-idf weighted Word2Vec\n",
    "\n",
    "*Apply K-NN with tf-idf w2v\n",
    "\n",
    " ---3.21 Brute force algorithm with Avg-W2v \n",
    "     * Classification report\n",
    "     * Confusion-matrix\n",
    "\n",
    "----3.22 Kd-tree algorithm with Avg-W2v\n",
    "     * Classification report\n",
    "     * Confusion-matrix\n",
    "     \n",
    "     \n",
    "     Prettytable-\n"
   ]
  },
  {
   "cell_type": "code",
   "execution_count": 1,
   "metadata": {},
   "outputs": [
    {
     "name": "stdout",
     "output_type": "stream",
     "text": [
      "Requirement already satisfied: tqdm in /home/sunitachoudhary103/anaconda3/lib/python3.6/site-packages (4.28.1)\n",
      "\u001b[31mdistributed 1.21.8 requires msgpack, which is not installed.\u001b[0m\n",
      "\u001b[33mYou are using pip version 10.0.1, however version 18.1 is available.\n",
      "You should consider upgrading via the 'pip install --upgrade pip' command.\u001b[0m\n"
     ]
    }
   ],
   "source": [
    "!pip install tqdm\n"
   ]
  },
  {
   "cell_type": "code",
   "execution_count": 2,
   "metadata": {},
   "outputs": [
    {
     "name": "stdout",
     "output_type": "stream",
     "text": [
      "Requirement already satisfied: PrettyTable in /home/sunitachoudhary103/anaconda3/lib/python3.6/site-packages (0.7.2)\n",
      "\u001b[31mdistributed 1.21.8 requires msgpack, which is not installed.\u001b[0m\n",
      "\u001b[33mYou are using pip version 10.0.1, however version 18.1 is available.\n",
      "You should consider upgrading via the 'pip install --upgrade pip' command.\u001b[0m\n"
     ]
    }
   ],
   "source": [
    "!pip install PrettyTable"
   ]
  },
  {
   "cell_type": "code",
   "execution_count": 3,
   "metadata": {},
   "outputs": [
    {
     "name": "stderr",
     "output_type": "stream",
     "text": [
      "/home/sunitachoudhary103/anaconda3/lib/python3.6/site-packages/sklearn/cross_validation.py:41: DeprecationWarning: This module was deprecated in version 0.18 in favor of the model_selection module into which all the refactored classes and functions are moved. Also note that the interface of the new CV iterators are different from that of this module. This module will be removed in 0.20.\n",
      "  \"This module will be removed in 0.20.\", DeprecationWarning)\n"
     ]
    }
   ],
   "source": [
    "%matplotlib inline\n",
    "import warnings\n",
    "warnings.filterwarnings(\"ignore\")\n",
    "import sqlite3\n",
    "\n",
    "import numpy as np \n",
    "import matplotlib.pyplot as plt\n",
    "import seaborn as sns\n",
    "import nltk\n",
    "import string\n",
    "from sklearn.feature_extraction.text import TfidfVectorizer\n",
    "from sklearn.feature_extraction.text import CountVectorizer\n",
    "from sklearn.preprocessing import StandardScaler\n",
    "import re\n",
    "from nltk.corpus import stopwords\n",
    "from nltk.stem.porter import PorterStemmer\n",
    "\n",
    "from sklearn import cross_validation\n",
    "from sklearn.cross_validation import train_test_split\n",
    "from sklearn.model_selection import train_test_split\n",
    "from sklearn.neighbors import KNeighborsClassifier\n",
    "from sklearn.metrics import accuracy_score\n",
    "from sklearn.cross_validation import cross_val_score\n",
    "from sklearn.metrics import confusion_matrix\n",
    "from sklearn.metrics import classification_report\n",
    "from tqdm import tqdm\n",
    "import os\n",
    "\n",
    "data=sqlite3.connect(\"database.sqlite\")"
   ]
  },
  {
   "cell_type": "code",
   "execution_count": 4,
   "metadata": {},
   "outputs": [],
   "source": [
    "import pandas as pd\n",
    "filtered_data=pd.read_sql_query(\"\"\"\n",
    "SELECT *\n",
    "FROM Reviews\n",
    "WHERE Score !=3\n",
    "\"\"\",data)\n",
    "def partition(x):\n",
    "    if x<3:\n",
    "        return 'negative'\n",
    "    return 'positive'\n",
    "a_score=filtered_data[\"Score\"]\n",
    "positiveNegative=a_score.map(partition)\n",
    "filtered_data[\"Score\"]=positiveNegative"
   ]
  },
  {
   "cell_type": "code",
   "execution_count": 5,
   "metadata": {},
   "outputs": [
    {
     "name": "stdout",
     "output_type": "stream",
     "text": [
      "(525814, 10)\n"
     ]
    }
   ],
   "source": [
    "print(filtered_data.shape)\n"
   ]
  },
  {
   "cell_type": "code",
   "execution_count": 6,
   "metadata": {},
   "outputs": [
    {
     "data": {
      "text/html": [
       "<div>\n",
       "<style scoped>\n",
       "    .dataframe tbody tr th:only-of-type {\n",
       "        vertical-align: middle;\n",
       "    }\n",
       "\n",
       "    .dataframe tbody tr th {\n",
       "        vertical-align: top;\n",
       "    }\n",
       "\n",
       "    .dataframe thead th {\n",
       "        text-align: right;\n",
       "    }\n",
       "</style>\n",
       "<table border=\"1\" class=\"dataframe\">\n",
       "  <thead>\n",
       "    <tr style=\"text-align: right;\">\n",
       "      <th></th>\n",
       "      <th>Id</th>\n",
       "      <th>ProductId</th>\n",
       "      <th>UserId</th>\n",
       "      <th>ProfileName</th>\n",
       "      <th>HelpfulnessNumerator</th>\n",
       "      <th>HelpfulnessDenominator</th>\n",
       "      <th>Score</th>\n",
       "      <th>Time</th>\n",
       "      <th>Summary</th>\n",
       "      <th>Text</th>\n",
       "    </tr>\n",
       "  </thead>\n",
       "  <tbody>\n",
       "    <tr>\n",
       "      <th>0</th>\n",
       "      <td>1</td>\n",
       "      <td>B001E4KFG0</td>\n",
       "      <td>A3SGXH7AUHU8GW</td>\n",
       "      <td>delmartian</td>\n",
       "      <td>1</td>\n",
       "      <td>1</td>\n",
       "      <td>positive</td>\n",
       "      <td>1303862400</td>\n",
       "      <td>Good Quality Dog Food</td>\n",
       "      <td>I have bought several of the Vitality canned d...</td>\n",
       "    </tr>\n",
       "    <tr>\n",
       "      <th>1</th>\n",
       "      <td>2</td>\n",
       "      <td>B00813GRG4</td>\n",
       "      <td>A1D87F6ZCVE5NK</td>\n",
       "      <td>dll pa</td>\n",
       "      <td>0</td>\n",
       "      <td>0</td>\n",
       "      <td>negative</td>\n",
       "      <td>1346976000</td>\n",
       "      <td>Not as Advertised</td>\n",
       "      <td>Product arrived labeled as Jumbo Salted Peanut...</td>\n",
       "    </tr>\n",
       "    <tr>\n",
       "      <th>2</th>\n",
       "      <td>3</td>\n",
       "      <td>B000LQOCH0</td>\n",
       "      <td>ABXLMWJIXXAIN</td>\n",
       "      <td>Natalia Corres \"Natalia Corres\"</td>\n",
       "      <td>1</td>\n",
       "      <td>1</td>\n",
       "      <td>positive</td>\n",
       "      <td>1219017600</td>\n",
       "      <td>\"Delight\" says it all</td>\n",
       "      <td>This is a confection that has been around a fe...</td>\n",
       "    </tr>\n",
       "    <tr>\n",
       "      <th>3</th>\n",
       "      <td>4</td>\n",
       "      <td>B000UA0QIQ</td>\n",
       "      <td>A395BORC6FGVXV</td>\n",
       "      <td>Karl</td>\n",
       "      <td>3</td>\n",
       "      <td>3</td>\n",
       "      <td>negative</td>\n",
       "      <td>1307923200</td>\n",
       "      <td>Cough Medicine</td>\n",
       "      <td>If you are looking for the secret ingredient i...</td>\n",
       "    </tr>\n",
       "    <tr>\n",
       "      <th>4</th>\n",
       "      <td>5</td>\n",
       "      <td>B006K2ZZ7K</td>\n",
       "      <td>A1UQRSCLF8GW1T</td>\n",
       "      <td>Michael D. Bigham \"M. Wassir\"</td>\n",
       "      <td>0</td>\n",
       "      <td>0</td>\n",
       "      <td>positive</td>\n",
       "      <td>1350777600</td>\n",
       "      <td>Great taffy</td>\n",
       "      <td>Great taffy at a great price.  There was a wid...</td>\n",
       "    </tr>\n",
       "  </tbody>\n",
       "</table>\n",
       "</div>"
      ],
      "text/plain": [
       "   Id   ProductId          UserId                      ProfileName  \\\n",
       "0   1  B001E4KFG0  A3SGXH7AUHU8GW                       delmartian   \n",
       "1   2  B00813GRG4  A1D87F6ZCVE5NK                           dll pa   \n",
       "2   3  B000LQOCH0   ABXLMWJIXXAIN  Natalia Corres \"Natalia Corres\"   \n",
       "3   4  B000UA0QIQ  A395BORC6FGVXV                             Karl   \n",
       "4   5  B006K2ZZ7K  A1UQRSCLF8GW1T    Michael D. Bigham \"M. Wassir\"   \n",
       "\n",
       "   HelpfulnessNumerator  HelpfulnessDenominator     Score        Time  \\\n",
       "0                     1                       1  positive  1303862400   \n",
       "1                     0                       0  negative  1346976000   \n",
       "2                     1                       1  positive  1219017600   \n",
       "3                     3                       3  negative  1307923200   \n",
       "4                     0                       0  positive  1350777600   \n",
       "\n",
       "                 Summary                                               Text  \n",
       "0  Good Quality Dog Food  I have bought several of the Vitality canned d...  \n",
       "1      Not as Advertised  Product arrived labeled as Jumbo Salted Peanut...  \n",
       "2  \"Delight\" says it all  This is a confection that has been around a fe...  \n",
       "3         Cough Medicine  If you are looking for the secret ingredient i...  \n",
       "4            Great taffy  Great taffy at a great price.  There was a wid...  "
      ]
     },
     "execution_count": 6,
     "metadata": {},
     "output_type": "execute_result"
    }
   ],
   "source": [
    "filtered_data.head()"
   ]
  },
  {
   "cell_type": "markdown",
   "metadata": {},
   "source": [
    "\n",
    "1.Data cleaning-Deduplication....means removing duplicate rows, It is necessary to remove duplicates in order to get unbaised results. Checking duplicates based on UserId, ProfileName, Time, Text. If all these values are equal then we will remove those records. (No user can type a review on same exact time for different products\n"
   ]
  },
  {
   "cell_type": "code",
   "execution_count": 7,
   "metadata": {},
   "outputs": [
    {
     "data": {
      "text/plain": [
       "(364173, 10)"
      ]
     },
     "execution_count": 7,
     "metadata": {},
     "output_type": "execute_result"
    }
   ],
   "source": [
    "sorted_data=filtered_data.sort_values('ProductId',ascending=True,inplace=False,kind='quickSort',na_position='last')\n",
    "#de duplication of entries\n",
    "final=sorted_data.drop_duplicates(subset={'UserId','ProfileName','Time','Text'},keep='first',inplace=False)\n",
    "final.shape"
   ]
  },
  {
   "cell_type": "code",
   "execution_count": 8,
   "metadata": {},
   "outputs": [
    {
     "name": "stdout",
     "output_type": "stream",
     "text": [
      "(364171, 10)\n"
     ]
    },
    {
     "data": {
      "text/plain": [
       "positive    307061\n",
       "negative     57110\n",
       "Name: Score, dtype: int64"
      ]
     },
     "execution_count": 8,
     "metadata": {},
     "output_type": "execute_result"
    }
   ],
   "source": [
    "final=final[final.HelpfulnessNumerator <= final.HelpfulnessDenominator]\n",
    "print(final.shape)\n",
    "#How many positive and negative reviews are present in our dataset?\n",
    "final['Score'].value_counts()"
   ]
  },
  {
   "cell_type": "markdown",
   "metadata": {},
   "source": [
    "#2.Text Preprocessing- 1.Begin by removing the html tags 2.Remove any punctuations or limited set of special characters like , or . or # etc. 3.Check if the word is made up of english letters and is not alpha-numeric 4.Check to see if the length of the word is greater than 2 (as it was researched that there is no adjective in 2-letters) 5.Convert the word to lowercase 6.Remove Stopwords 7.Finally Snowball Stemming the word (it was obsereved to be better than Porter Stemming) After which we collect the words used to describe positive and negative reviews\n"
   ]
  },
  {
   "cell_type": "code",
   "execution_count": 9,
   "metadata": {},
   "outputs": [
    {
     "name": "stdout",
     "output_type": "stream",
     "text": [
      "{'own', 'll', \"wasn't\", 'don', 'most', 'through', 'couldn', 'when', 'am', 'only', 'any', 'were', 'as', 'had', 'will', 'into', 'its', 'on', \"mustn't\", 'during', \"couldn't\", 'at', \"you'll\", 'your', 'her', 'while', 'y', \"isn't\", 'didn', 'how', 'been', 'this', \"hadn't\", 'those', 'below', 'my', 'mightn', 'we', \"doesn't\", 'do', 'd', 'until', 'which', 'or', 'too', 'against', 'have', 'has', 'that', 're', 'why', 'haven', 'mustn', \"should've\", 'if', \"needn't\", 'very', 'over', 've', 'myself', \"didn't\", 'wouldn', 'having', 'ours', 'is', 'more', 'are', \"hasn't\", 'does', 'to', 'hers', 'needn', 'themselves', 'no', 'aren', 'up', 'further', 'was', 'under', \"weren't\", 'an', 'ain', 'yours', 's', 'above', \"aren't\", 'itself', 'and', 'now', \"you've\", 'what', 'then', \"it's\", 'shouldn', 'he', 'their', \"don't\", 'you', 'about', 'by', 'me', 'between', 'doing', 'before', 'other', \"you're\", 'so', 'once', 'for', 'out', 'such', 'few', 'whom', 'with', \"shouldn't\", 'because', 'who', 'herself', 'shan', 'in', 'our', 'him', 'these', 'both', 'again', 'but', 'o', 'of', 'weren', 'a', 'after', 'they', 'theirs', 'each', 'doesn', \"she's\", 'it', 'them', 'ma', 'hasn', \"you'd\", 'all', 'than', 'yourself', 'there', \"wouldn't\", 'some', 'did', 'not', 'from', 'same', 'won', 't', \"that'll\", \"mightn't\", 'she', \"haven't\", 'being', 'himself', 'should', 'his', 'wasn', 'off', 'the', 'where', \"won't\", 'i', 'hadn', 'can', 'nor', 'yourselves', 'm', \"shan't\", 'here', 'be', 'ourselves', 'down', 'just', 'isn'}\n",
      "tasti\n",
      "CPU times: user 3.1 ms, sys: 0 ns, total: 3.1 ms\n",
      "Wall time: 71.5 ms\n"
     ]
    }
   ],
   "source": [
    "%%time\n",
    "import re\n",
    "import string\n",
    "from nltk.corpus import stopwords\n",
    "from nltk.stem.porter import PorterStemmer\n",
    "from nltk.stem.wordnet import WordNetLemmatizer\n",
    "stop=set(stopwords.words('english'))\n",
    "print(stop)\n",
    "sno=nltk.stem.SnowballStemmer('english')\n",
    "print(sno.stem('tasty'))\n",
    "\n",
    "def cleanhtml(sentence):#function to clean the word of any html-tags\n",
    "    cleanr=re.compile('<.*?>')\n",
    "    cleantext=re.sub(cleanr,'',sentence)\n",
    "    return cleantext\n",
    "def cleanpunc(sentence):#function to clean the word of any punctuation or special characters\n",
    "    cleaned=re.sub(r'[!|?|<|,|/|.]',r'',sentence)\n",
    "    cleaned=re.sub(r'[;|\"|\\|)]',r'',cleaned)\n",
    "    return cleaned\n"
   ]
  },
  {
   "cell_type": "code",
   "execution_count": 10,
   "metadata": {},
   "outputs": [
    {
     "name": "stdout",
     "output_type": "stream",
     "text": [
      "CPU times: user 6min, sys: 763 ms, total: 6min\n",
      "Wall time: 6min\n"
     ]
    }
   ],
   "source": [
    "%%time\n",
    "\n",
    "#Code for implementing step-by-step the checks mentioned in the pre-processing phase\n",
    "j=0\n",
    "str1=''\n",
    "sn=''\n",
    "final_string=[]\n",
    "positive_R=[]\n",
    "negative_R=[]\n",
    "for sent in final['Text'].values:\n",
    "    filtered_sentence=[]\n",
    "    #print(sent)\n",
    "    sent=cleanhtml(sent)#remove html tags\n",
    "    for w in sent.split():\n",
    "        for cleaned_words in cleanpunc(w).split():\n",
    "            if(cleaned_words.isalpha())& (len(cleaned_words)>2):\n",
    "                if(cleaned_words.lower() not in stop):\n",
    "                    sn=(sno.stem(cleaned_words.lower())).encode('utf8')\n",
    "                    filtered_sentence.append(sn)\n",
    "                    if(final['Score'].values)[j]=='positive':\n",
    "                        positive_R.append(sn)\n",
    "                    if(final['Score'].values)[j]=='negative':\n",
    "                        negative_R.append(sn)\n",
    "                        \n",
    "                else:\n",
    "                    continue\n",
    "            else:\n",
    "                continue\n",
    "       #print(filtered_sentance)\n",
    "    str1=b\" \".join(filtered_sentence) #final string of clean_words\n",
    "    #print(\"@@@@@@@@@@@@@@@@@@@@@@@@@@@@@@@@@@@@@@@@@@@@@@@@@@@@@@@@@@@@@@@@@@@@@@@@@@@@\")\n",
    "    final_string.append(str1)\n",
    "    j+=1\n"
   ]
  },
  {
   "cell_type": "code",
   "execution_count": 11,
   "metadata": {},
   "outputs": [
    {
     "name": "stdout",
     "output_type": "stream",
     "text": [
      "            Id   ProductId          UserId            ProfileName  \\\n",
      "138706  150524  0006641040   ACITT7DI6IDDL        shari zychinski   \n",
      "138688  150506  0006641040  A2IW4PEEKO2R0U                  Tracy   \n",
      "138689  150507  0006641040  A1S4A3IQ2MU7V4  sally sue \"sally sue\"   \n",
      "\n",
      "        HelpfulnessNumerator  HelpfulnessDenominator     Score        Time  \\\n",
      "138706                     0                       0  positive   939340800   \n",
      "138688                     1                       1  positive  1194739200   \n",
      "138689                     1                       1  positive  1191456000   \n",
      "\n",
      "                                           Summary  \\\n",
      "138706                   EVERY book is educational   \n",
      "138688  Love the book, miss the hard cover version   \n",
      "138689               chicken soup with rice months   \n",
      "\n",
      "                                                     Text  \\\n",
      "138706  this witty little book makes my son laugh at l...   \n",
      "138688  I grew up reading these Sendak books, and watc...   \n",
      "138689  This is a fun way for children to learn their ...   \n",
      "\n",
      "                                             cleaned_Text  \n",
      "138706  witti littl book make son laugh loud recit car...  \n",
      "138688  grew read sendak book watch realli rosi movi i...  \n",
      "138689  fun way children learn month year learn poem t...  \n",
      "Index(['Id', 'ProductId', 'UserId', 'ProfileName', 'HelpfulnessNumerator',\n",
      "       'HelpfulnessDenominator', 'Score', 'Time', 'Summary', 'Text',\n",
      "       'cleaned_Text'],\n",
      "      dtype='object')\n",
      "CPU times: user 636 ms, sys: 60 ms, total: 696 ms\n",
      "Wall time: 694 ms\n"
     ]
    }
   ],
   "source": [
    "%%time\n",
    "\n",
    "final['cleaned_Text']=final_string #adding a column of CleanedText which displays the data after pre-processing of the review\n",
    "final['cleaned_Text']=final['cleaned_Text'].str.decode('utf-8')\n",
    "print(final.head(3))\n",
    "\n",
    "\n",
    "print(final.columns)"
   ]
  },
  {
   "cell_type": "markdown",
   "metadata": {},
   "source": [
    "3.Techniques for Encoding\n",
    "\n",
    "1.BAG OF WORDS-In BoW we construct a dictionary that contains set of all unique words from our text review dataset.The frequency of the word is counted here. if there are d unique words in our dictionary then for every sentence or review the vector will be of length d and count of word from review is stored at its particular location in vector. The vector will be highly sparse in such case.\n"
   ]
  },
  {
   "cell_type": "code",
   "execution_count": 12,
   "metadata": {},
   "outputs": [
    {
     "name": "stdout",
     "output_type": "stream",
     "text": [
      "CPU times: user 2.48 s, sys: 188 ms, total: 2.66 s\n",
      "Wall time: 958 ms\n"
     ]
    }
   ],
   "source": [
    "%%time\n",
    "from datetime import timedelta\n",
    "#sorting based on time\n",
    "#final['Time']=pd.to_datetime(final['Time'])\n",
    "final['Time']=pd.to_datetime(final.Time)\n",
    "\n",
    "final=final.sort_values('Time',ascending=True,inplace=False,kind='quickSort',na_position='last')\n"
   ]
  },
  {
   "cell_type": "code",
   "execution_count": 13,
   "metadata": {},
   "outputs": [
    {
     "data": {
      "text/html": [
       "<div>\n",
       "<style scoped>\n",
       "    .dataframe tbody tr th:only-of-type {\n",
       "        vertical-align: middle;\n",
       "    }\n",
       "\n",
       "    .dataframe tbody tr th {\n",
       "        vertical-align: top;\n",
       "    }\n",
       "\n",
       "    .dataframe thead th {\n",
       "        text-align: right;\n",
       "    }\n",
       "</style>\n",
       "<table border=\"1\" class=\"dataframe\">\n",
       "  <thead>\n",
       "    <tr style=\"text-align: right;\">\n",
       "      <th></th>\n",
       "      <th>Id</th>\n",
       "      <th>ProductId</th>\n",
       "      <th>UserId</th>\n",
       "      <th>ProfileName</th>\n",
       "      <th>HelpfulnessNumerator</th>\n",
       "      <th>HelpfulnessDenominator</th>\n",
       "      <th>Score</th>\n",
       "      <th>Time</th>\n",
       "      <th>Summary</th>\n",
       "      <th>Text</th>\n",
       "      <th>cleaned_Text</th>\n",
       "    </tr>\n",
       "  </thead>\n",
       "  <tbody>\n",
       "    <tr>\n",
       "      <th>138706</th>\n",
       "      <td>150524</td>\n",
       "      <td>0006641040</td>\n",
       "      <td>ACITT7DI6IDDL</td>\n",
       "      <td>shari zychinski</td>\n",
       "      <td>0</td>\n",
       "      <td>0</td>\n",
       "      <td>positive</td>\n",
       "      <td>1970-01-01 00:00:00.939340800</td>\n",
       "      <td>EVERY book is educational</td>\n",
       "      <td>this witty little book makes my son laugh at l...</td>\n",
       "      <td>witti littl book make son laugh loud recit car...</td>\n",
       "    </tr>\n",
       "    <tr>\n",
       "      <th>138683</th>\n",
       "      <td>150501</td>\n",
       "      <td>0006641040</td>\n",
       "      <td>AJ46FKXOVC7NR</td>\n",
       "      <td>Nicholas A Mesiano</td>\n",
       "      <td>2</td>\n",
       "      <td>2</td>\n",
       "      <td>positive</td>\n",
       "      <td>1970-01-01 00:00:00.940809600</td>\n",
       "      <td>This whole series is great way to spend time w...</td>\n",
       "      <td>I can remember seeing the show when it aired o...</td>\n",
       "      <td>rememb see show air televis year ago child sis...</td>\n",
       "    </tr>\n",
       "  </tbody>\n",
       "</table>\n",
       "</div>"
      ],
      "text/plain": [
       "            Id   ProductId         UserId         ProfileName  \\\n",
       "138706  150524  0006641040  ACITT7DI6IDDL     shari zychinski   \n",
       "138683  150501  0006641040  AJ46FKXOVC7NR  Nicholas A Mesiano   \n",
       "\n",
       "        HelpfulnessNumerator  HelpfulnessDenominator     Score  \\\n",
       "138706                     0                       0  positive   \n",
       "138683                     2                       2  positive   \n",
       "\n",
       "                                Time  \\\n",
       "138706 1970-01-01 00:00:00.939340800   \n",
       "138683 1970-01-01 00:00:00.940809600   \n",
       "\n",
       "                                                  Summary  \\\n",
       "138706                          EVERY book is educational   \n",
       "138683  This whole series is great way to spend time w...   \n",
       "\n",
       "                                                     Text  \\\n",
       "138706  this witty little book makes my son laugh at l...   \n",
       "138683  I can remember seeing the show when it aired o...   \n",
       "\n",
       "                                             cleaned_Text  \n",
       "138706  witti littl book make son laugh loud recit car...  \n",
       "138683  rememb see show air televis year ago child sis...  "
      ]
     },
     "execution_count": 13,
     "metadata": {},
     "output_type": "execute_result"
    }
   ],
   "source": [
    "final.head(2)"
   ]
  },
  {
   "cell_type": "markdown",
   "metadata": {},
   "source": [
    "** Spliting the top 10,0000 data into three parts-train,cv,test\n"
   ]
  },
  {
   "cell_type": "code",
   "execution_count": 14,
   "metadata": {},
   "outputs": [],
   "source": [
    "X_train, y_train = final['cleaned_Text'].iloc[0:60000], final['Score'].iloc[0:60000]\n",
    "X_cv, y_cv = final['cleaned_Text'].iloc[60000:80000], final['Score'].iloc[60000:80000]\n",
    "X_test, y_test = final['cleaned_Text'].iloc[80000:100000], final['Score'].iloc[80000:100000]\n"
   ]
  },
  {
   "cell_type": "code",
   "execution_count": 15,
   "metadata": {},
   "outputs": [
    {
     "data": {
      "text/plain": [
       "((60000,), (60000,), (20000,), (20000,), (20000,), (20000,))"
      ]
     },
     "execution_count": 15,
     "metadata": {},
     "output_type": "execute_result"
    }
   ],
   "source": [
    "X_train.shape, y_train.shape, X_cv.shape, y_cv.shape, X_test.shape, y_test.shape"
   ]
  },
  {
   "cell_type": "code",
   "execution_count": null,
   "metadata": {},
   "outputs": [],
   "source": []
  },
  {
   "cell_type": "markdown",
   "metadata": {},
   "source": [
    "1.BoW-"
   ]
  },
  {
   "cell_type": "code",
   "execution_count": 15,
   "metadata": {},
   "outputs": [
    {
     "name": "stdout",
     "output_type": "stream",
     "text": [
      "(20000, 55097) (60000, 55097)\n"
     ]
    }
   ],
   "source": [
    "#BoW\n",
    "count_vect = CountVectorizer(ngram_range=(1, 1))\n",
    "count_vect.fit(X_train)\n",
    "X_train=count_vect.transform(X_train)\n",
    "X_cv=count_vect.transform(X_cv)\n",
    "X_test=count_vect.transform(X_test)\n",
    "print(X_cv.shape,X_train.shape)\n"
   ]
  },
  {
   "cell_type": "code",
   "execution_count": null,
   "metadata": {},
   "outputs": [],
   "source": []
  },
  {
   "cell_type": "markdown",
   "metadata": {},
   "source": [
    "\n",
    " 1.1 Brute force-BOW"
   ]
  },
  {
   "cell_type": "code",
   "execution_count": null,
   "metadata": {},
   "outputs": [],
   "source": []
  },
  {
   "cell_type": "code",
   "execution_count": 17,
   "metadata": {},
   "outputs": [
    {
     "name": "stdout",
     "output_type": "stream",
     "text": [
      "\n",
      " cv f_score for k=1 is 0.811\n",
      "\n",
      " cv f_score for k=3 is 0.857\n",
      "\n",
      " cv f_score for k=5 is 0.864\n",
      "\n",
      " cv f_score for k=7 is 0.865\n",
      "\n",
      " cv f_score for k=9 is 0.865\n",
      "\n",
      " cv f_score for k=11 is 0.865\n",
      "CPU times: user 5min 3s, sys: 1min 54s, total: 6min 57s\n",
      "Wall time: 6min 24s\n"
     ]
    }
   ],
   "source": [
    "%%time\n",
    "#brute force algorithm for BoW\n",
    "from sklearn.metrics import f1_score\n",
    "f_score=[]\n",
    "for i in range(1,13,2):\n",
    "    #instantiate learning model (k=13)\n",
    "    knn=KNeighborsClassifier(n_neighbors=i,algorithm ='brute')\n",
    "    knn.fit(X_train,y_train)#fitting the model on train\n",
    "    pred=knn.predict(X_cv)#predict the response on the cv \n",
    "    #evaluate cv accuracy\n",
    "    #label=labels['positive','negative']\n",
    "    #class_label=['negative','positive']\n",
    "    f=f1_score(y_cv,pred,average='micro')\n",
    "    \n",
    "    #acc=accuracy_score(y_cv,pred,normalize=True)*float(100)\n",
    "    f_score.append(f)\n",
    "    #print('\\n cv accuracy for k=%d is %d%%' %(i,acc))\n",
    "    print('\\n cv f_score for k=%d is %0.3f' %(i,f))"
   ]
  },
  {
   "cell_type": "code",
   "execution_count": 18,
   "metadata": {},
   "outputs": [
    {
     "name": "stdout",
     "output_type": "stream",
     "text": [
      "[0.8113, 0.8571000000000001, 0.86385, 0.8654500000000002, 0.86525, 0.8653]\n"
     ]
    }
   ],
   "source": [
    "print(f_score)"
   ]
  },
  {
   "cell_type": "code",
   "execution_count": 19,
   "metadata": {},
   "outputs": [
    {
     "data": {
      "image/png": "[encoded data removed]",
      "text/plain": [
       "<Figure size 432x288 with 1 Axes>"
      ]
     },
     "metadata": {},
     "output_type": "display_data"
    }
   ],
   "source": [
    "import matplotlib.pyplot as plt\n",
    "k=[i for i in range(1,13,2)]\n",
    "\n",
    "plt.plot(k,f_score)\n",
    "plt.xlabel(\"k\")\n",
    "plt.ylabel(\"cv_f_score\")\n",
    "plt.title(\"BoW brute force cv_f_score\")\n",
    "plt.grid()\n",
    "plt.show()"
   ]
  },
  {
   "cell_type": "code",
   "execution_count": 20,
   "metadata": {},
   "outputs": [
    {
     "name": "stdout",
     "output_type": "stream",
     "text": [
      "\n",
      " ****Test f_score for k=7 is 0.869\n"
     ]
    }
   ],
   "source": [
    "knn=KNeighborsClassifier(7)\n",
    "knn.fit(X_train,y_train)\n",
    "pred=knn.predict(X_test)\n",
    "f=f1_score(y_test,pred,average='micro')\n",
    "#acc=accuracy_score(y_test,pred,normalize=True)*float(100)\n",
    "print('\\n ****Test f_score for k=7 is %0.3f' %(f))"
   ]
  },
  {
   "cell_type": "markdown",
   "metadata": {},
   "source": [
    "* Test accuracy-"
   ]
  },
  {
   "cell_type": "code",
   "execution_count": 21,
   "metadata": {},
   "outputs": [
    {
     "name": "stdout",
     "output_type": "stream",
     "text": [
      "test_error: 0.13115\n",
      "test_accuracy 0.86885\n"
     ]
    }
   ],
   "source": [
    "test_accuracy = accuracy_score(y_test, pred)\n",
    "test_error = 1 - test_accuracy\n",
    "print(\"test_error:\",test_error)\n",
    "print(\"test_accuracy\",test_accuracy)"
   ]
  },
  {
   "cell_type": "code",
   "execution_count": 22,
   "metadata": {},
   "outputs": [
    {
     "name": "stdout",
     "output_type": "stream",
     "text": [
      "             precision    recall  f1-score   support\n",
      "\n",
      "   negative       0.62      0.05      0.10      2678\n",
      "   positive       0.87      0.99      0.93     17322\n",
      "\n",
      "avg / total       0.84      0.87      0.82     20000\n",
      "\n"
     ]
    }
   ],
   "source": [
    "#for brute force-BoW\n",
    "from sklearn.metrics import classification_report\n",
    "print(classification_report(y_test, pred))"
   ]
  },
  {
   "cell_type": "code",
   "execution_count": 23,
   "metadata": {},
   "outputs": [
    {
     "data": {
      "text/plain": [
       "array([[  143,  2535],\n",
       "       [   88, 17234]])"
      ]
     },
     "execution_count": 23,
     "metadata": {},
     "output_type": "execute_result"
    }
   ],
   "source": [
    "#confusion matrix for brute force-BoW\n",
    "#from sklearn.metrics import confusion_matrix\n",
    "from sklearn.metrics import confusion_matrix\n",
    "cm = confusion_matrix(y_test, pred)\n",
    "cm"
   ]
  },
  {
   "cell_type": "code",
   "execution_count": 24,
   "metadata": {},
   "outputs": [
    {
     "data": {
      "image/png": "[encoded data removed]",
      "text/plain": [
       "<Figure size 432x288 with 2 Axes>"
      ]
     },
     "metadata": {},
     "output_type": "display_data"
    }
   ],
   "source": [
    "#plot the confusion matrix to describe the performance\n",
    "import seaborn as sns\n",
    "class_label=['negative','positive']\n",
    "df_cm = pd.DataFrame(cm,index=class_label,columns=class_label)\n",
    "sns.heatmap(df_cm,annot=True,fmt='d')\n",
    "plt.title(\"Confusion matrix\")\n",
    "plt.xlabel(\"pred label\")\n",
    "plt.ylabel(\"True label\")\n",
    "plt.show()"
   ]
  },
  {
   "cell_type": "code",
   "execution_count": null,
   "metadata": {},
   "outputs": [],
   "source": []
  },
  {
   "cell_type": "markdown",
   "metadata": {},
   "source": [
    "1.2 Kd-tree for BoW-"
   ]
  },
  {
   "cell_type": "code",
   "execution_count": 17,
   "metadata": {},
   "outputs": [
    {
     "name": "stdout",
     "output_type": "stream",
     "text": [
      "\n",
      " cv_f_score for k=1 is 0.734\n",
      "\n",
      " cv_f_score for k=3 is 0.801\n",
      "\n",
      " cv_f_score for k=5 is 0.830\n",
      "\n",
      " cv_f_score for k=7 is 0.845\n",
      "\n",
      " cv_f_score for k=9 is 0.852\n",
      "\n",
      " cv_f_score for k=11 is 0.856\n",
      "CPU times: user 1h 44min 58s, sys: 15.9 s, total: 1h 45min 14s\n",
      "Wall time: 1h 43min 39s\n"
     ]
    }
   ],
   "source": [
    "%%time\n",
    "#kd tree for Bow\n",
    "from sklearn.metrics import f1_score\n",
    "from sklearn.decomposition import TruncatedSVD\n",
    "svd=TruncatedSVD(n_components=300)\n",
    "X_train = svd.fit_transform(X_train)\n",
    "X_test = svd.fit_transform(X_test)\n",
    "X_cv = svd.fit_transform(X_cv)\n",
    "\n",
    "f_score=[]\n",
    "for i in range(1,13,2):\n",
    "    #instantiate learning model (k=13)\n",
    "    knn=KNeighborsClassifier(n_neighbors=i,algorithm ='kd_tree')\n",
    "    knn.fit(X_train,y_train)#fitting the model on train\n",
    "    pred=knn.predict(X_cv)#predict the response on the cv \n",
    "    #evaluate cv accuracy\n",
    "    f=f1_score(y_cv,pred,average='micro')\n",
    "    f_score.append(f)\n",
    "    #acc=accuracy_score(y_cv,pred,normalize=True)*float(100)\n",
    "    print('\\n cv_f_score for k=%d is %.03f' %(i,f))"
   ]
  },
  {
   "cell_type": "code",
   "execution_count": 19,
   "metadata": {},
   "outputs": [
    {
     "data": {
      "image/png": "[encoded data removed]",
      "text/plain": [
       "<Figure size 432x288 with 1 Axes>"
      ]
     },
     "metadata": {},
     "output_type": "display_data"
    }
   ],
   "source": [
    "import matplotlib.pyplot as plt\n",
    "k=[i for i in range(1,13,2)]\n",
    "\n",
    "plt.plot(k,f_score)\n",
    "plt.xlabel(\"k\")\n",
    "plt.ylabel(\"cv_f_score\")\n",
    "plt.title(\"BoW kd-tree cv_f_score\")\n",
    "plt.grid()\n",
    "plt.show()"
   ]
  },
  {
   "cell_type": "code",
   "execution_count": 20,
   "metadata": {},
   "outputs": [
    {
     "name": "stdout",
     "output_type": "stream",
     "text": [
      "\n",
      " ****Test f_score for k=11 is 0.857\n"
     ]
    }
   ],
   "source": [
    "#test f_score\n",
    "knn=KNeighborsClassifier(11)\n",
    "knn.fit(X_train,y_train)\n",
    "pred=knn.predict(X_test)\n",
    "f=f1_score(y_test,pred,average='micro')\n",
    "print('\\n ****Test f_score for k=11 is %.03f' %(f))"
   ]
  },
  {
   "cell_type": "code",
   "execution_count": 21,
   "metadata": {},
   "outputs": [
    {
     "name": "stdout",
     "output_type": "stream",
     "text": [
      "test_error: 0.14339999999999997\n",
      "test_accuracy 0.8566\n"
     ]
    }
   ],
   "source": [
    "test_accuracy = accuracy_score(y_test, pred)\n",
    "test_error = 1 - test_accuracy\n",
    "print(\"test_error:\",test_error)\n",
    "print(\"test_accuracy\",test_accuracy)"
   ]
  },
  {
   "cell_type": "code",
   "execution_count": 22,
   "metadata": {},
   "outputs": [
    {
     "name": "stdout",
     "output_type": "stream",
     "text": [
      "             precision    recall  f1-score   support\n",
      "\n",
      "   negative       0.12      0.01      0.02      2678\n",
      "   positive       0.87      0.99      0.92     17322\n",
      "\n",
      "avg / total       0.77      0.86      0.80     20000\n",
      "\n"
     ]
    }
   ],
   "source": [
    "#for kd-tree-BoW\n",
    "from sklearn.metrics import classification_report\n",
    "print(classification_report(y_test, pred))"
   ]
  },
  {
   "cell_type": "code",
   "execution_count": 23,
   "metadata": {},
   "outputs": [
    {
     "data": {
      "text/plain": [
       "array([[   31,  2647],\n",
       "       [  221, 17101]])"
      ]
     },
     "execution_count": 23,
     "metadata": {},
     "output_type": "execute_result"
    }
   ],
   "source": [
    "#confusion matrix for brute force-BoW\n",
    "#from sklearn.metrics import confusion_matrix\n",
    "from sklearn.metrics import confusion_matrix\n",
    "cm = confusion_matrix(y_test, pred)\n",
    "cm"
   ]
  },
  {
   "cell_type": "code",
   "execution_count": 24,
   "metadata": {},
   "outputs": [
    {
     "data": {
      "image/png": "[encoded data removed]",
      "text/plain": [
       "<Figure size 432x288 with 2 Axes>"
      ]
     },
     "metadata": {},
     "output_type": "display_data"
    }
   ],
   "source": [
    "#plot the confusion matrix to describe the performance\n",
    "import seaborn as sns\n",
    "class_label=['negative','positive']\n",
    "df_cm=pd.DataFrame(cm,index=class_label,columns=class_label)\n",
    "sns.heatmap(df_cm,annot=True,fmt='d')\n",
    "plt.title(\"Confusion matrix\")\n",
    "plt.xlabel(\"pred label\")\n",
    "plt.ylabel(\"True label\")\n",
    "plt.show()"
   ]
  },
  {
   "cell_type": "markdown",
   "metadata": {},
   "source": [
    "2.TFIDF -"
   ]
  },
  {
   "cell_type": "code",
   "execution_count": 32,
   "metadata": {},
   "outputs": [
    {
     "data": {
      "text/plain": [
       "((60000, 55097), (60000,))"
      ]
     },
     "execution_count": 32,
     "metadata": {},
     "output_type": "execute_result"
    }
   ],
   "source": [
    "X_train, y_train = final['cleaned_Text'].iloc[0:60000], final['Score'].iloc[0:60000]\n",
    "X_cv, y_cv = final['cleaned_Text'].iloc[60000:80000], final['Score'].iloc[60000:80000]\n",
    "X_test, y_test = final['cleaned_Text'].iloc[80000:100000], final['Score'].iloc[80000:100000]\n",
    "\n",
    "# Initializing tfidf vectorizer\n",
    "tfidf_vect = TfidfVectorizer(ngram_range=(1, 1))\n",
    "\n",
    "# Fitting for tfidf vectorization\n",
    "tfidf_vect.fit(X_train)\n",
    "X_train= tfidf_vect.transform(X_train)\n",
    "X_test = tfidf_vect.transform(X_test)\n",
    "X_cv = tfidf_vect.transform(X_cv)\n",
    "X_train.shape,y_train.shape"
   ]
  },
  {
   "cell_type": "markdown",
   "metadata": {},
   "source": [
    "2.1 Brute force algorithm for TFIDF-"
   ]
  },
  {
   "cell_type": "code",
   "execution_count": 33,
   "metadata": {},
   "outputs": [
    {
     "name": "stdout",
     "output_type": "stream",
     "text": [
      "\n",
      " cv_f_score for k=1 is 0.836\n",
      "\n",
      " cv_f_score for k=3 is 0.866\n",
      "\n",
      " cv_f_score for k=5 is 0.872\n",
      "\n",
      " cv_f_score for k=7 is 0.873\n",
      "\n",
      " cv_f_score for k=9 is 0.874\n",
      "\n",
      " cv_f_score for k=11 is 0.873\n"
     ]
    }
   ],
   "source": [
    "#brute force algorithm for TFIDF \n",
    "f_score=[]\n",
    "for i in range(1,13,2):\n",
    "    #instantiate learning model (k=13)\n",
    "    knn=KNeighborsClassifier(n_neighbors=i,algorithm ='brute')\n",
    "    knn.fit(X_train,y_train)#fitting the model on train\n",
    "    pred=knn.predict(X_cv)#predict the response on the cv \n",
    "    #evaluate cv accuracy\n",
    "    f=f1_score(y_cv,pred,average='micro')\n",
    "    f_score.append(f)\n",
    "    #acc=accuracy_score(y_cv,pred,normalize=True)*float(100)\n",
    "    print('\\n cv_f_score for k=%d is %.03f' %(i,f))\n",
    "    \n",
    "   "
   ]
  },
  {
   "cell_type": "code",
   "execution_count": 34,
   "metadata": {},
   "outputs": [
    {
     "data": {
      "image/png": "[encoded data removed]",
      "text/plain": [
       "<Figure size 432x288 with 1 Axes>"
      ]
     },
     "metadata": {},
     "output_type": "display_data"
    }
   ],
   "source": [
    "import matplotlib.pyplot as plt\n",
    "k=[i for i in range(1,13,2)]\n",
    "\n",
    "plt.plot(k,f_score)\n",
    "plt.xlabel(\"k\")\n",
    "plt.ylabel(\"cv_f_score\")\n",
    "plt.title(\"tfidf brute force cv_f_score\")\n",
    "plt.grid()\n",
    "plt.show()"
   ]
  },
  {
   "cell_type": "code",
   "execution_count": null,
   "metadata": {},
   "outputs": [],
   "source": []
  },
  {
   "cell_type": "code",
   "execution_count": 35,
   "metadata": {},
   "outputs": [
    {
     "name": "stdout",
     "output_type": "stream",
     "text": [
      "\n",
      " ****Test f_score for k=9 is 0.873\n"
     ]
    }
   ],
   "source": [
    "knn=KNeighborsClassifier(9)\n",
    "knn.fit(X_train,y_train)\n",
    "pred=knn.predict(X_test)\n",
    "f=f1_score(y_test,pred,average='micro')\n",
    "print('\\n ****Test f_score for k=9 is %.03f' %(f))"
   ]
  },
  {
   "cell_type": "code",
   "execution_count": 36,
   "metadata": {},
   "outputs": [
    {
     "name": "stdout",
     "output_type": "stream",
     "text": [
      "test_error: 0.12665000000000004\n",
      "test_accuracy 0.87335\n"
     ]
    }
   ],
   "source": [
    "test_accuracy = accuracy_score(y_test, pred)\n",
    "test_error = 1 - test_accuracy\n",
    "print(\"test_error:\",test_error)\n",
    "print(\"test_accuracy\",test_accuracy)"
   ]
  },
  {
   "cell_type": "markdown",
   "metadata": {},
   "source": [
    "Classification report-"
   ]
  },
  {
   "cell_type": "code",
   "execution_count": 37,
   "metadata": {},
   "outputs": [
    {
     "name": "stdout",
     "output_type": "stream",
     "text": [
      "             precision    recall  f1-score   support\n",
      "\n",
      "   negative       0.70      0.10      0.17      2678\n",
      "   positive       0.88      0.99      0.93     17322\n",
      "\n",
      "avg / total       0.85      0.87      0.83     20000\n",
      "\n"
     ]
    }
   ],
   "source": [
    "from sklearn.metrics import classification_report\n",
    "print(classification_report(y_test,pred))"
   ]
  },
  {
   "cell_type": "markdown",
   "metadata": {},
   "source": [
    "confusion matrix-"
   ]
  },
  {
   "cell_type": "code",
   "execution_count": 38,
   "metadata": {},
   "outputs": [
    {
     "data": {
      "text/plain": [
       "array([[  255,  2423],\n",
       "       [  110, 17212]])"
      ]
     },
     "execution_count": 38,
     "metadata": {},
     "output_type": "execute_result"
    }
   ],
   "source": [
    "from sklearn.metrics import confusion_matrix\n",
    "cm=confusion_matrix(y_test,pred)\n",
    "cm"
   ]
  },
  {
   "cell_type": "code",
   "execution_count": 39,
   "metadata": {},
   "outputs": [
    {
     "data": {
      "image/png": "[encoded data removed]",
      "text/plain": [
       "<Figure size 432x288 with 2 Axes>"
      ]
     },
     "metadata": {},
     "output_type": "display_data"
    }
   ],
   "source": [
    "#plot the confusion matrix to describe the performance\n",
    "import seaborn as sns\n",
    "class_label=['negative','positive']\n",
    "df_cm=pd.DataFrame(cm,index=class_label,columns=class_label)\n",
    "sns.heatmap(df_cm,annot=True,fmt='d')\n",
    "plt.title(\"Confusion matrix\")\n",
    "plt.xlabel(\"pred label\")\n",
    "plt.ylabel(\"True label\")\n",
    "plt.show()"
   ]
  },
  {
   "cell_type": "code",
   "execution_count": null,
   "metadata": {},
   "outputs": [],
   "source": []
  },
  {
   "cell_type": "markdown",
   "metadata": {},
   "source": [
    "2.2 kd-tree for tfidf-"
   ]
  },
  {
   "cell_type": "code",
   "execution_count": 40,
   "metadata": {},
   "outputs": [
    {
     "name": "stdout",
     "output_type": "stream",
     "text": [
      "\n",
      " cv f_score for k=1 is 0.786\n",
      "\n",
      " cv f_score for k=3 is 0.831\n",
      "\n",
      " cv f_score for k=5 is 0.844\n",
      "\n",
      " cv f_score for k=7 is 0.851\n",
      "\n",
      " cv f_score for k=9 is 0.854\n"
     ]
    }
   ],
   "source": [
    "#Kd tree for TFIDF\n",
    "\n",
    "\n",
    "from sklearn.decomposition import TruncatedSVD\n",
    "svd=TruncatedSVD(n_components=300)\n",
    "X_train = svd.fit_transform(X_train)\n",
    "X_test = svd.fit_transform(X_test)\n",
    "X_cv = svd.fit_transform(X_cv)\n",
    "f_score=[]\n",
    "for i in range(1,10,2):\n",
    "    #instantiate learning model (k=10)\n",
    "    knn=KNeighborsClassifier(n_neighbors=i,algorithm ='kd_tree')\n",
    "    knn.fit(X_train,y_train)#fitting the model on train\n",
    "    pred=knn.predict(X_cv)#predict the response on the cv \n",
    "    #evaluate cv accuracy\n",
    "    f=f1_score(y_cv,pred,average='micro')\n",
    "    f_score.append(f)\n",
    "    print('\\n cv f_score for k=%d is %0.3f' %(i,f))\n"
   ]
  },
  {
   "cell_type": "code",
   "execution_count": 41,
   "metadata": {},
   "outputs": [
    {
     "data": {
      "image/png": "[encoded data removed]",
      "text/plain": [
       "<Figure size 432x288 with 1 Axes>"
      ]
     },
     "metadata": {},
     "output_type": "display_data"
    }
   ],
   "source": [
    "import matplotlib.pyplot as plt\n",
    "k=[i for i in range(1,10,2)]\n",
    "\n",
    "plt.plot(k,f_score)\n",
    "plt.xlabel(\"k\")\n",
    "plt.ylabel(\"cv_f_score\")\n",
    "plt.title(\"tfidf kd-tree cv_f_score\")\n",
    "plt.grid()\n",
    "plt.show()"
   ]
  },
  {
   "cell_type": "code",
   "execution_count": 42,
   "metadata": {},
   "outputs": [
    {
     "name": "stdout",
     "output_type": "stream",
     "text": [
      "\n",
      " ****Test f_score for k=9 is 0.862\n"
     ]
    }
   ],
   "source": [
    "knn=KNeighborsClassifier(9)\n",
    "knn.fit(X_train,y_train)\n",
    "pred=knn.predict(X_test)\n",
    "f=f1_score(y_test,pred,average='micro')\n",
    "print('\\n ****Test f_score for k=9 is %.03f' %(f))"
   ]
  },
  {
   "cell_type": "code",
   "execution_count": 43,
   "metadata": {},
   "outputs": [
    {
     "name": "stdout",
     "output_type": "stream",
     "text": [
      "test_error: 0.13815\n",
      "test_accuracy 0.86185\n"
     ]
    }
   ],
   "source": [
    "test_accuracy = accuracy_score(y_test, pred)\n",
    "test_error = 1 - test_accuracy\n",
    "print(\"test_error:\",test_error)\n",
    "print(\"test_accuracy\",test_accuracy)"
   ]
  },
  {
   "cell_type": "markdown",
   "metadata": {},
   "source": [
    "Classification report-"
   ]
  },
  {
   "cell_type": "code",
   "execution_count": 44,
   "metadata": {},
   "outputs": [
    {
     "name": "stdout",
     "output_type": "stream",
     "text": [
      "             precision    recall  f1-score   support\n",
      "\n",
      "   negative       0.38      0.05      0.09      2678\n",
      "   positive       0.87      0.99      0.93     17322\n",
      "\n",
      "avg / total       0.80      0.86      0.81     20000\n",
      "\n"
     ]
    }
   ],
   "source": [
    "#classification report\n",
    "from sklearn.metrics import classification_report\n",
    "print(classification_report(y_test,pred))"
   ]
  },
  {
   "cell_type": "markdown",
   "metadata": {},
   "source": [
    "Confusion matrix-"
   ]
  },
  {
   "cell_type": "code",
   "execution_count": 45,
   "metadata": {},
   "outputs": [
    {
     "data": {
      "text/plain": [
       "array([[  132,  2546],\n",
       "       [  217, 17105]])"
      ]
     },
     "execution_count": 45,
     "metadata": {},
     "output_type": "execute_result"
    }
   ],
   "source": [
    "#confusion matrix\n",
    "from sklearn.metrics import confusion_matrix\n",
    "cm=confusion_matrix(y_test,pred)\n",
    "cm"
   ]
  },
  {
   "cell_type": "code",
   "execution_count": 46,
   "metadata": {},
   "outputs": [
    {
     "data": {
      "image/png": "[encoded data removed]",
      "text/plain": [
       "<Figure size 432x288 with 2 Axes>"
      ]
     },
     "metadata": {},
     "output_type": "display_data"
    }
   ],
   "source": [
    "#plot the confusion matrix to describe the performance\n",
    "import seaborn as sns\n",
    "class_label=['negative','positive']\n",
    "df_cm=pd.DataFrame(cm,index=class_label,columns=class_label)\n",
    "sns.heatmap(df_cm,annot=True,fmt='d')\n",
    "plt.title(\"Confusion matrix\")\n",
    "plt.xlabel(\"pred label\")\n",
    "plt.ylabel(\"True label\")\n",
    "plt.show()"
   ]
  },
  {
   "cell_type": "markdown",
   "metadata": {},
   "source": [
    "3.Word2vec-"
   ]
  },
  {
   "cell_type": "code",
   "execution_count": 16,
   "metadata": {},
   "outputs": [],
   "source": [
    "import re\n",
    "\n",
    "def cleanhtml(sentence): #function to clean the word of any html-tags\n",
    "    cleanr = re.compile('<.*?>')\n",
    "    cleantext = re.sub(cleanr, ' ', sentence)\n",
    "    return cleantext\n",
    "def cleanpunc(sentence): #function to clean the word of any punctuation or special characters\n",
    "    cleaned = re.sub(r'[?|!|\\'|\"|#]',r'',sentence)\n",
    "    cleaned = re.sub(r'[.|,|)|(|\\|/]',r' ',cleaned)\n",
    "    return  cleaned"
   ]
  },
  {
   "cell_type": "code",
   "execution_count": 17,
   "metadata": {},
   "outputs": [
    {
     "name": "stdout",
     "output_type": "stream",
     "text": [
      "(60000,) (60000,) (20000,) (20000,) (20000,) (20000,)\n"
     ]
    }
   ],
   "source": [
    "#Train your own Word2Vec model using your own train text corpus\n",
    "#spliting the data\n",
    "X_train, y_train = final['cleaned_Text'].iloc[0:60000],final['Score'].iloc[0:60000]\n",
    "X_cv, y_cv = final['cleaned_Text'].iloc[60000:80000],final['Score'].iloc[60000:80000]\n",
    "X_test, y_test = final['cleaned_Text'].iloc[80000:100000],final['Score'].iloc[80000:100000]\n",
    "print(X_train.shape,y_train.shape,X_cv.shape,y_cv.shape,X_test.shape,y_test.shape)\n",
    "    "
   ]
  },
  {
   "cell_type": "code",
   "execution_count": 18,
   "metadata": {},
   "outputs": [
    {
     "name": "stdout",
     "output_type": "stream",
     "text": [
      "60000\n"
     ]
    }
   ],
   "source": [
    "import gensim\n",
    "from gensim import utils\n",
    "from gensim.models import Word2Vec\n",
    "from gensim.models import KeyedVectors\n",
    "import pickle\n",
    "from gensim import parsing, corpora, matutils, interfaces, models, similarities, summarization, utils\n",
    "\n",
    "\n",
    "train_sent=[]\n",
    "\n",
    "for sent in X_train:\n",
    "    filtered_sentence=[]\n",
    "    sent=cleanhtml(sent)\n",
    "    for w in sent.split():\n",
    "        for cleaned_words in cleanpunc(w).split():\n",
    "            if(cleaned_words.isalpha()):    \n",
    "                filtered_sentence.append(cleaned_words.lower())\n",
    "            else:\n",
    "                continue \n",
    "    train_sent.append(filtered_sentence)\n",
    "print(len(train_sent))"
   ]
  },
  {
   "cell_type": "code",
   "execution_count": null,
   "metadata": {},
   "outputs": [],
   "source": [
    "    \n"
   ]
  },
  {
   "cell_type": "code",
   "execution_count": 19,
   "metadata": {},
   "outputs": [
    {
     "name": "stdout",
     "output_type": "stream",
     "text": [
      "20000\n"
     ]
    }
   ],
   "source": [
    "cv_sent=[]\n",
    "\n",
    "for sent in X_cv:\n",
    "    filtered_sentence=[]\n",
    "    sent=cleanhtml(sent)\n",
    "    for w in sent.split():\n",
    "        for cleaned_words in cleanpunc(w).split():\n",
    "            if(cleaned_words.isalpha()):    \n",
    "                filtered_sentence.append(cleaned_words.lower())\n",
    "            else:\n",
    "                continue \n",
    "    cv_sent.append(filtered_sentence)\n",
    "print(len(cv_sent))"
   ]
  },
  {
   "cell_type": "code",
   "execution_count": 20,
   "metadata": {},
   "outputs": [
    {
     "name": "stdout",
     "output_type": "stream",
     "text": [
      "20000\n"
     ]
    }
   ],
   "source": [
    "test_sent=[]\n",
    "\n",
    "for sent in X_test:\n",
    "    filtered_sentence=[]\n",
    "    sent=cleanhtml(sent)\n",
    "    for w in sent.split():\n",
    "        for cleaned_words in cleanpunc(w).split():\n",
    "            if(cleaned_words.isalpha()):    \n",
    "                filtered_sentence.append(cleaned_words.lower())\n",
    "            else:\n",
    "                continue \n",
    "    test_sent.append(filtered_sentence)\n",
    "print(len(test_sent))"
   ]
  },
  {
   "cell_type": "code",
   "execution_count": null,
   "metadata": {},
   "outputs": [],
   "source": []
  },
  {
   "cell_type": "code",
   "execution_count": 21,
   "metadata": {},
   "outputs": [
    {
     "name": "stdout",
     "output_type": "stream",
     "text": [
      "10239\n"
     ]
    }
   ],
   "source": [
    "train_w2v_model = gensim.models.Word2Vec(train_sent,min_count=5,size=50,workers=4)\n",
    "train_words = list(train_w2v_model.wv.vocab)\n",
    "print(len(train_words))"
   ]
  },
  {
   "cell_type": "code",
   "execution_count": null,
   "metadata": {},
   "outputs": [],
   "source": []
  },
  {
   "cell_type": "markdown",
   "metadata": {},
   "source": [
    "3.1Avg W2V-"
   ]
  },
  {
   "cell_type": "code",
   "execution_count": 35,
   "metadata": {},
   "outputs": [
    {
     "name": "stderr",
     "output_type": "stream",
     "text": [
      "100%|██████████| 60000/60000 [00:07<00:00, 7986.97it/s]"
     ]
    },
    {
     "name": "stdout",
     "output_type": "stream",
     "text": [
      "60000\n",
      "50\n"
     ]
    },
    {
     "name": "stderr",
     "output_type": "stream",
     "text": [
      "\n"
     ]
    }
   ],
   "source": [
    "#avg w2v\n",
    "#Avg-w2v for train data\n",
    "\n",
    "train_vectors = []\n",
    "for sent in tqdm(train_sent):\n",
    "    train_vec = np.zeros(50)\n",
    "    cnt_words = 0\n",
    "    for word in sent:\n",
    "        try:\n",
    "            vec=train_w2v_model.wv[word]\n",
    "            train_vec+=vec\n",
    "            cnt_words+=1\n",
    "        except:\n",
    "            pass\n",
    "    train_vec/=cnt_words\n",
    "    train_vectors.append(train_vec)\n",
    "print(len(train_vectors))\n",
    "print(len(train_vectors[0]))\n"
   ]
  },
  {
   "cell_type": "code",
   "execution_count": 36,
   "metadata": {},
   "outputs": [
    {
     "name": "stderr",
     "output_type": "stream",
     "text": [
      "100%|██████████| 20000/20000 [00:02<00:00, 7562.36it/s]"
     ]
    },
    {
     "name": "stdout",
     "output_type": "stream",
     "text": [
      "20000\n",
      "50\n",
      "CPU times: user 2.65 s, sys: 28.1 ms, total: 2.67 s\n",
      "Wall time: 2.66 s\n"
     ]
    },
    {
     "name": "stderr",
     "output_type": "stream",
     "text": [
      "\n"
     ]
    }
   ],
   "source": [
    "%%time\n",
    "#Avg-w2v for cv data\n",
    "cv_vectors = []\n",
    "for sent in tqdm(cv_sent):\n",
    "    cv_vec = np.zeros(50)\n",
    "    cnt_words = 0\n",
    "    for word in sent:\n",
    "        try:\n",
    "            vec=train_w2v_model.wv[word]\n",
    "            cv_vec+=vec\n",
    "            cnt_words+=1\n",
    "        except:\n",
    "            pass\n",
    "    cv_vec/=cnt_words\n",
    "    cv_vectors.append(cv_vec)\n",
    "print(len(cv_vectors))\n",
    "print(len(cv_vectors[0]))\n"
   ]
  },
  {
   "cell_type": "code",
   "execution_count": 37,
   "metadata": {},
   "outputs": [
    {
     "name": "stderr",
     "output_type": "stream",
     "text": [
      "100%|██████████| 20000/20000 [00:02<00:00, 7677.42it/s]"
     ]
    },
    {
     "name": "stdout",
     "output_type": "stream",
     "text": [
      "20000\n",
      "50\n",
      "CPU times: user 2.63 s, sys: 4.11 ms, total: 2.64 s\n",
      "Wall time: 2.62 s\n"
     ]
    },
    {
     "name": "stderr",
     "output_type": "stream",
     "text": [
      "\n"
     ]
    }
   ],
   "source": [
    "%%time\n",
    "#Avg-w2v for test data\n",
    "test_vectors = []\n",
    "for sent in tqdm(test_sent):\n",
    "    test_vec = np.zeros(50)\n",
    "    cnt_words = 0\n",
    "    for word in sent:\n",
    "        try:\n",
    "            vec=train_w2v_model.wv[word]\n",
    "            test_vec+=vec\n",
    "            cnt_words+=1\n",
    "        except:\n",
    "            pass\n",
    "    test_vec/=cnt_words\n",
    "    test_vectors.append(test_vec)\n",
    "print(len(test_vectors))\n",
    "print(len(test_vectors[0]))\n"
   ]
  },
  {
   "cell_type": "code",
   "execution_count": 38,
   "metadata": {},
   "outputs": [
    {
     "name": "stdout",
     "output_type": "stream",
     "text": [
      "60000 20000 20000\n"
     ]
    }
   ],
   "source": [
    "X_train = train_vectors\n",
    "X_cv = cv_vectors\n",
    "X_test = test_vectors\n",
    "print(len(X_train),len(X_test),len(X_cv))"
   ]
  },
  {
   "cell_type": "markdown",
   "metadata": {},
   "source": [
    "3.11 Brute force-avg w2v"
   ]
  },
  {
   "cell_type": "code",
   "execution_count": 57,
   "metadata": {},
   "outputs": [
    {
     "name": "stdout",
     "output_type": "stream",
     "text": [
      "\n",
      " cv_f_score for k=1 is 0.845\n",
      "\n",
      " cv_f_score for k=3 is 0.872\n",
      "\n",
      " cv_f_score for k=5 is 0.878\n",
      "\n",
      " cv_f_score for k=7 is 0.880\n",
      "\n",
      " cv_f_score for k=9 is 0.881\n",
      "\n",
      " cv_f_score for k=11 is 0.880\n",
      "\n",
      " cv_f_score for k=13 is 0.880\n",
      "CPU times: user 3min 2s, sys: 1min 12s, total: 4min 14s\n",
      "Wall time: 3min 39s\n"
     ]
    }
   ],
   "source": [
    "%%time\n",
    "# brute force algorithm for avg-w2v\n",
    "f_score=[]\n",
    "for i in range(1,15,2):\n",
    "    #instantiate learning model (k=30)\n",
    "    knn=KNeighborsClassifier(n_neighbors=i,algorithm ='brute')\n",
    "    knn.fit(X_train,y_train)#fitting the model on train\n",
    "    pred=knn.predict(X_cv)#predict the response on the cv \n",
    "    #evaluate cv accuracy\n",
    "    \n",
    "    f=f1_score(y_cv,pred,average='micro')\n",
    "    f_score.append(f)\n",
    "    print('\\n cv_f_score for k=%d is %.03f' %(i,f))\n",
    "   \n",
    "\n"
   ]
  },
  {
   "cell_type": "code",
   "execution_count": 58,
   "metadata": {},
   "outputs": [
    {
     "data": {
      "image/png": "[encoded data removed]",
      "text/plain": [
       "<Figure size 432x288 with 1 Axes>"
      ]
     },
     "metadata": {},
     "output_type": "display_data"
    }
   ],
   "source": [
    "\n",
    "import matplotlib.pyplot as plt\n",
    "k=[i for i in range(1,15,2)]\n",
    "\n",
    "plt.plot(k,f_score)\n",
    "plt.xlabel(\"k\")\n",
    "plt.ylabel(\"cv_f_score\")\n",
    "plt.title(\"tfidf brute force cv_f_score\")\n",
    "plt.grid()\n",
    "plt.show()"
   ]
  },
  {
   "cell_type": "code",
   "execution_count": null,
   "metadata": {},
   "outputs": [],
   "source": []
  },
  {
   "cell_type": "code",
   "execution_count": 59,
   "metadata": {},
   "outputs": [
    {
     "name": "stdout",
     "output_type": "stream",
     "text": [
      "\n",
      " ****Test f_score for k=11 is 0.880\n",
      "CPU times: user 2min 58s, sys: 0 ns, total: 2min 58s\n",
      "Wall time: 2min 58s\n"
     ]
    }
   ],
   "source": [
    "%%time\n",
    "# brute force algorithm for avg-w2v-test accuracy\n",
    "knn=KNeighborsClassifier(11)\n",
    "knn.fit(X_train,y_train)\n",
    "pred=knn.predict(X_test)\n",
    "f=f1_score(y_test,pred,average='micro')\n",
    "print('\\n ****Test f_score for k=11 is %.03f' %(f))\n"
   ]
  },
  {
   "cell_type": "code",
   "execution_count": null,
   "metadata": {},
   "outputs": [],
   "source": []
  },
  {
   "cell_type": "code",
   "execution_count": 60,
   "metadata": {},
   "outputs": [
    {
     "name": "stdout",
     "output_type": "stream",
     "text": [
      "test_error: 0.11975000000000002\n",
      "test_accuracy 0.88025\n"
     ]
    }
   ],
   "source": [
    "test_accuracy = accuracy_score(y_test, pred)\n",
    "test_error = 1 - test_accuracy\n",
    "print(\"test_error:\",test_error)\n",
    "print(\"test_accuracy\",test_accuracy)"
   ]
  },
  {
   "cell_type": "code",
   "execution_count": 61,
   "metadata": {},
   "outputs": [
    {
     "name": "stdout",
     "output_type": "stream",
     "text": [
      "             precision    recall  f1-score   support\n",
      "\n",
      "   negative       0.68      0.20      0.31      2678\n",
      "   positive       0.89      0.99      0.93     17322\n",
      "\n",
      "avg / total       0.86      0.88      0.85     20000\n",
      "\n"
     ]
    }
   ],
   "source": [
    "#classification report\n",
    "from sklearn.metrics import classification_report\n",
    "print(classification_report(y_test,pred))"
   ]
  },
  {
   "cell_type": "code",
   "execution_count": 62,
   "metadata": {},
   "outputs": [
    {
     "data": {
      "text/plain": [
       "array([[  527,  2151],\n",
       "       [  244, 17078]])"
      ]
     },
     "execution_count": 62,
     "metadata": {},
     "output_type": "execute_result"
    }
   ],
   "source": [
    "#confusion matrix\n",
    "from sklearn.metrics import confusion_matrix\n",
    "cm=confusion_matrix(y_test,pred)\n",
    "cm"
   ]
  },
  {
   "cell_type": "code",
   "execution_count": 63,
   "metadata": {},
   "outputs": [
    {
     "data": {
      "image/png": "[encoded data removed]",
      "text/plain": [
       "<Figure size 432x288 with 2 Axes>"
      ]
     },
     "metadata": {},
     "output_type": "display_data"
    }
   ],
   "source": [
    "#plot the confusion matrix to describe the performance\n",
    "import seaborn as sns\n",
    "class_label=['negative','positive']\n",
    "df_cm=pd.DataFrame(cm,index=class_label,columns=class_label)\n",
    "sns.heatmap(df_cm,annot=True,fmt='d')\n",
    "plt.title(\"Confusion matrix\")\n",
    "plt.xlabel(\"pred label\")\n",
    "plt.ylabel(\"True label\")\n",
    "plt.show()"
   ]
  },
  {
   "cell_type": "markdown",
   "metadata": {},
   "source": []
  },
  {
   "cell_type": "markdown",
   "metadata": {},
   "source": [
    "3.12- Kd tree for avg w2v-"
   ]
  },
  {
   "cell_type": "code",
   "execution_count": 40,
   "metadata": {},
   "outputs": [
    {
     "name": "stdout",
     "output_type": "stream",
     "text": [
      "\n",
      " cv_f_score for k=1 is 0.833\n",
      "\n",
      " cv_f_score for k=3 is 0.861\n",
      "\n",
      " cv_f_score for k=5 is 0.868\n",
      "\n",
      " cv_f_score for k=7 is 0.870\n",
      "\n",
      " cv_f_score for k=9 is 0.870\n",
      "\n",
      " cv_f_score for k=11 is 0.871\n"
     ]
    }
   ],
   "source": [
    "\n",
    "# kd-tree algorithm for avg-w2v\n",
    "from sklearn.metrics import f1_score\n",
    "from sklearn.decomposition import TruncatedSVD\n",
    "svd=TruncatedSVD(n_components=300)\n",
    "X_train = svd.fit_transform(X_train)\n",
    "X_test = svd.fit_transform(X_test)\n",
    "X_cv = svd.fit_transform(X_cv)\n",
    "f_score=[]\n",
    "for i in range(1,13,2):\n",
    "    #instantiate learning model (k=13)\n",
    "    knn=KNeighborsClassifier(n_neighbors=i,algorithm ='kd_tree')\n",
    "    knn.fit(X_train,y_train)#fitting the model on train\n",
    "    pred=knn.predict(X_cv)#predict the response on the cv \n",
    "    #evaluate cv accuracy\n",
    "    f=f1_score(y_cv,pred,average='micro')\n",
    "    f_score.append(f)\n",
    "    print('\\n cv_f_score for k=%d is %.03f' %(i,f))\n",
    "   \n",
    "    "
   ]
  },
  {
   "cell_type": "code",
   "execution_count": 41,
   "metadata": {},
   "outputs": [
    {
     "data": {
      "image/png": "[encoded data removed]",
      "text/plain": [
       "<Figure size 432x288 with 1 Axes>"
      ]
     },
     "metadata": {},
     "output_type": "display_data"
    }
   ],
   "source": [
    "import matplotlib.pyplot as plt\n",
    "k=[i for i in range(1,13,2)]\n",
    "\n",
    "plt.plot(k,f_score)\n",
    "plt.xlabel(\"k\")\n",
    "plt.ylabel(\"cv_f_score\")\n",
    "plt.title(\"tfidf brute force cv_f_score\")\n",
    "plt.grid()\n",
    "plt.show()"
   ]
  },
  {
   "cell_type": "code",
   "execution_count": null,
   "metadata": {},
   "outputs": [],
   "source": []
  },
  {
   "cell_type": "code",
   "execution_count": 42,
   "metadata": {},
   "outputs": [
    {
     "name": "stdout",
     "output_type": "stream",
     "text": [
      "\n",
      " ****Test f_score for k=11 is 0.853\n"
     ]
    }
   ],
   "source": [
    "knn=KNeighborsClassifier(11)\n",
    "knn.fit(X_train,y_train)\n",
    "pred=knn.predict(X_test)\n",
    "f=f1_score(y_test,pred,average='micro')\n",
    "print('\\n ****Test f_score for k=11 is %.03f' %(f))\n",
    "\n"
   ]
  },
  {
   "cell_type": "code",
   "execution_count": 43,
   "metadata": {},
   "outputs": [
    {
     "name": "stdout",
     "output_type": "stream",
     "text": [
      "test_error: 0.14654999999999996\n",
      "test_accuracy 0.85345\n"
     ]
    }
   ],
   "source": [
    "test_accuracy = accuracy_score(y_test, pred)\n",
    "test_error = 1 - test_accuracy\n",
    "print(\"test_error:\",test_error)\n",
    "print(\"test_accuracy\",test_accuracy)\n"
   ]
  },
  {
   "cell_type": "code",
   "execution_count": 44,
   "metadata": {},
   "outputs": [
    {
     "name": "stdout",
     "output_type": "stream",
     "text": [
      "             precision    recall  f1-score   support\n",
      "\n",
      "   negative       0.09      0.01      0.02      2678\n",
      "   positive       0.87      0.98      0.92     17322\n",
      "\n",
      "avg / total       0.76      0.85      0.80     20000\n",
      "\n"
     ]
    }
   ],
   "source": [
    "#classification report\n",
    "from sklearn.metrics import classification_report\n",
    "print(classification_report(y_test,pred))"
   ]
  },
  {
   "cell_type": "code",
   "execution_count": 45,
   "metadata": {},
   "outputs": [
    {
     "data": {
      "text/plain": [
       "array([[   28,  2650],\n",
       "       [  281, 17041]])"
      ]
     },
     "execution_count": 45,
     "metadata": {},
     "output_type": "execute_result"
    }
   ],
   "source": [
    "#confusion matrix\n",
    "from sklearn.metrics import confusion_matrix\n",
    "cm=confusion_matrix(y_test,pred)\n",
    "cm"
   ]
  },
  {
   "cell_type": "code",
   "execution_count": 46,
   "metadata": {},
   "outputs": [
    {
     "data": {
      "image/png": "[encoded data removed]",
      "text/plain": [
       "<Figure size 432x288 with 2 Axes>"
      ]
     },
     "metadata": {},
     "output_type": "display_data"
    }
   ],
   "source": [
    "#plot the confusion matrix to describe the performance\n",
    "import seaborn as sns\n",
    "class_label=['negative','positive']\n",
    "df_cm=pd.DataFrame(cm,index=class_label,columns=class_label)\n",
    "sns.heatmap(df_cm,annot=True,fmt='d')\n",
    "plt.title(\"Confusion matrix\")\n",
    "plt.xlabel(\"pred label\")\n",
    "plt.ylabel(\"True label\")\n",
    "plt.show()"
   ]
  },
  {
   "cell_type": "markdown",
   "metadata": {},
   "source": [
    "3.22-TFIDF_w2v "
   ]
  },
  {
   "cell_type": "code",
   "execution_count": 71,
   "metadata": {},
   "outputs": [
    {
     "name": "stdout",
     "output_type": "stream",
     "text": [
      "(60000, 55097) (60000,)\n"
     ]
    }
   ],
   "source": [
    "#TFIDF-W2V\n",
    "\n",
    "\n",
    "X_train, y_train = final['cleaned_Text'].iloc[0:60000], final['Score'].iloc[0:60000]\n",
    "X_cv, y_cv = final['cleaned_Text'].iloc[60000:80000], final['Score'].iloc[60000:80000]\n",
    "X_test, y_test = final['cleaned_Text'].iloc[80000:100000], final['Score'].iloc[80000:100000]\n",
    "\n",
    "# Initializing tfidf vectorizer\n",
    "tfidf_vect = TfidfVectorizer(ngram_range=(1, 1))\n",
    "\n",
    "# Fitting for tfidf vectorization\n",
    "tfidf_vect.fit(X_train)\n",
    "X_train = tfidf_vect.transform(X_train)\n",
    "X_test = tfidf_vect.transform(X_test)\n",
    "X_cv = tfidf_vect.transform(X_cv)\n",
    "#we are converting dictionary with word as key and idf as value\n",
    "dictionary = dict(zip(tfidf_vect.get_feature_names(),list(tfidf_vect.idf_)))\n",
    "print(X_train.shape,y_train.shape)\n",
    "\n",
    "\n",
    "#tfidf_feat=tfidf_vect.get_feature_names()# tfidf word/col names"
   ]
  },
  {
   "cell_type": "code",
   "execution_count": 72,
   "metadata": {},
   "outputs": [
    {
     "name": "stderr",
     "output_type": "stream",
     "text": [
      "100%|██████████| 60000/60000 [00:17<00:00, 3335.19it/s]"
     ]
    },
    {
     "name": "stdout",
     "output_type": "stream",
     "text": [
      "CPU times: user 18.5 s, sys: 2.77 s, total: 21.3 s\n",
      "Wall time: 18 s\n"
     ]
    },
    {
     "name": "stderr",
     "output_type": "stream",
     "text": [
      "\n"
     ]
    }
   ],
   "source": [
    "%%time\n",
    "tfidf_feat = tfidf_vect.get_feature_names()\n",
    "tfidf_train_vectors = []\n",
    "row = 0\n",
    "for sent in tqdm(train_sent):\n",
    "    sent_vec = np.zeros(50)\n",
    "    weight_sum = 0\n",
    "    for word in sent:\n",
    "        try:\n",
    "            vec = train_w2v_model.wv[word]\n",
    "            #tf_idf = X_train[row, tfidf_feat.index(word)](prev.............)\n",
    "            # to reduce the computation we are \n",
    "            # dictionary[word] = idf value of word in whole courpus\n",
    "            # sent.count(word) = tf valeus of word in this review\n",
    "            tf_idf = dictionary[word]*(sent.count(word)/len(sent))\n",
    "            sent_vec += (vec * tf_idf)\n",
    "            weight_sum += tf_idf\n",
    "        except:\n",
    "            pass\n",
    "    if weight_sum != 0:\n",
    "        sent_vec /= weight_sum\n",
    "    tfidf_train_vectors.append(sent_vec)\n",
    "    row += 1\n",
    "    "
   ]
  },
  {
   "cell_type": "code",
   "execution_count": 73,
   "metadata": {},
   "outputs": [
    {
     "data": {
      "text/plain": [
       "60000"
      ]
     },
     "execution_count": 73,
     "metadata": {},
     "output_type": "execute_result"
    }
   ],
   "source": [
    "len(tfidf_train_vectors)"
   ]
  },
  {
   "cell_type": "code",
   "execution_count": 74,
   "metadata": {},
   "outputs": [
    {
     "name": "stdout",
     "output_type": "stream",
     "text": [
      "CPU times: user 5.6 s, sys: 37.7 ms, total: 5.64 s\n",
      "Wall time: 5.6 s\n"
     ]
    }
   ],
   "source": [
    "%%time\n",
    "#tfidf w2v for cv data\n",
    "tfidf_feat = tfidf_vect.get_feature_names()\n",
    "tfidf_cv_vectors = []; # the tfidf-w2v for each sentence/review is stored in this list\n",
    "row=0;\n",
    "for sent in cv_sent: # for each review/sentence\n",
    "    cv_vec = np.zeros(50) # as word vectors are of zero length\n",
    "    weight_sum =0; # num of words with a valid vector in the sentence/review\n",
    "    for word in sent: # for each word in a review/sentence\n",
    "        try:\n",
    "            vec = train_w2v_model.wv[word]\n",
    "            # obtain the tf_idf of a word in a sentence/review\n",
    "            #tf_idf = X_cv[row, tfidf_feat.index(word)]\n",
    "            tf_idf = dictionary[word]*(sent.count(word)/len(sent))\n",
    "            cv_vec += (vec * tf_idf)\n",
    "            weight_sum += tf_idf\n",
    "        except:\n",
    "            pass\n",
    "    cv_vec /= weight_sum\n",
    "    tfidf_cv_vectors.append(cv_vec)\n",
    "    row += 1\n",
    "len(tfidf_cv_vectors)"
   ]
  },
  {
   "cell_type": "code",
   "execution_count": 75,
   "metadata": {},
   "outputs": [
    {
     "data": {
      "text/plain": [
       "20000"
      ]
     },
     "execution_count": 75,
     "metadata": {},
     "output_type": "execute_result"
    }
   ],
   "source": [
    "#tfidf w2v for test data\n",
    "\n",
    "tfidf_test_vectors = []; # the tfidf-w2v for each sentence/review is stored in this list\n",
    "row=0;\n",
    "for sent in test_sent: # for each review/sentence\n",
    "    test_vec = np.zeros(50) # as word vectors are of zero length\n",
    "    weight_sum =0; # num of words with a valid vector in the sentence/review\n",
    "    for word in sent: # for each word in a review/sentence\n",
    "        try:\n",
    "            vec = train_w2v_model.wv[word]\n",
    "            # obtain the tf_idf of a word in a sentence/review\n",
    "            #tf_idf = X_test[row, tfidf_feat.index(word)]\n",
    "            tf_idf = dictionary[word]*(sent.count(word)/len(sent))\n",
    "            test_vec += (vec * tf_idf)\n",
    "            weight_sum += tf_idf\n",
    "        except:\n",
    "            pass\n",
    "    test_vec /= weight_sum\n",
    "    tfidf_test_vectors.append(test_vec)\n",
    "    row += 1\n",
    "len(tfidf_test_vectors)"
   ]
  },
  {
   "cell_type": "code",
   "execution_count": 76,
   "metadata": {},
   "outputs": [
    {
     "name": "stdout",
     "output_type": "stream",
     "text": [
      "20000\n",
      "20000\n"
     ]
    }
   ],
   "source": [
    "X_train = tfidf_train_vectors\n",
    "X_cv = tfidf_cv_vectors\n",
    "X_test = tfidf_test_vectors \n",
    "len(X_train)\n",
    "print(len(X_cv))\n",
    "print(len(y_cv))"
   ]
  },
  {
   "cell_type": "markdown",
   "metadata": {},
   "source": [
    "3.21-Brute force-tfidf-w2v"
   ]
  },
  {
   "cell_type": "code",
   "execution_count": 77,
   "metadata": {},
   "outputs": [
    {
     "name": "stdout",
     "output_type": "stream",
     "text": [
      "\n",
      " cv_f_score for k=1 is 0.831\n",
      "\n",
      " cv_f_score for k=3 is 0.863\n",
      "\n",
      " cv_f_score for k=5 is 0.869\n",
      "\n",
      " cv_f_score for k=7 is 0.873\n",
      "\n",
      " cv_f_score for k=9 is 0.874\n",
      "\n",
      " cv_f_score for k=11 is 0.874\n",
      "\n",
      " cv_f_score for k=13 is 0.874\n"
     ]
    }
   ],
   "source": [
    "#brute force algorithm for tfidf-w2v\n",
    "f_score=[]\n",
    "for i in range(1,15,2):\n",
    "    \n",
    "    #instantiate learning model (k=15)\n",
    "    knn=KNeighborsClassifier(n_neighbors=i,algorithm ='brute')\n",
    "    knn.fit(X_train,y_train)#fitting the model on train\n",
    "    pred=knn.predict(X_cv)#predict the response on the cv \n",
    "    #evaluate cv accuracy\n",
    "    f=f1_score(y_cv,pred,average='micro')\n",
    "    f_score.append(f)\n",
    "    print('\\n cv_f_score for k=%d is %.03f' %(i,f))\n",
    "   \n",
    "    \n"
   ]
  },
  {
   "cell_type": "code",
   "execution_count": null,
   "metadata": {},
   "outputs": [],
   "source": []
  },
  {
   "cell_type": "code",
   "execution_count": 78,
   "metadata": {},
   "outputs": [
    {
     "data": {
      "image/png": "[encoded data removed]",
      "text/plain": [
       "<Figure size 432x288 with 1 Axes>"
      ]
     },
     "metadata": {},
     "output_type": "display_data"
    }
   ],
   "source": [
    "import matplotlib.pyplot as plt\n",
    "k=[i for i in range(1,15,2)]\n",
    "\n",
    "plt.plot(k,f_score)\n",
    "plt.xlabel(\"k\")\n",
    "plt.ylabel(\"cv_f_score\")\n",
    "plt.title(\"tfidf brute force cv_f_score\")\n",
    "plt.grid()\n",
    "plt.show()"
   ]
  },
  {
   "cell_type": "code",
   "execution_count": null,
   "metadata": {},
   "outputs": [],
   "source": []
  },
  {
   "cell_type": "code",
   "execution_count": 79,
   "metadata": {},
   "outputs": [
    {
     "name": "stdout",
     "output_type": "stream",
     "text": [
      "\n",
      " ****Test f_score for k=11 is 0.876\n"
     ]
    }
   ],
   "source": [
    "knn=KNeighborsClassifier(11)\n",
    "knn.fit(X_train,y_train)\n",
    "pred=knn.predict(X_test)\n",
    "f=f1_score(y_test,pred,average='micro')\n",
    "print('\\n ****Test f_score for k=11 is %.03f' %(f))\n",
    "\n"
   ]
  },
  {
   "cell_type": "code",
   "execution_count": null,
   "metadata": {},
   "outputs": [],
   "source": []
  },
  {
   "cell_type": "code",
   "execution_count": 80,
   "metadata": {},
   "outputs": [
    {
     "name": "stdout",
     "output_type": "stream",
     "text": [
      "test_error: 0.12429999999999997\n",
      "test_accuracy 0.8757\n"
     ]
    }
   ],
   "source": [
    "test_accuracy = accuracy_score(y_test, pred)\n",
    "test_error = 1 - test_accuracy\n",
    "print(\"test_error:\",test_error)\n",
    "print(\"test_accuracy\",test_accuracy)"
   ]
  },
  {
   "cell_type": "code",
   "execution_count": 81,
   "metadata": {},
   "outputs": [
    {
     "name": "stdout",
     "output_type": "stream",
     "text": [
      "             precision    recall  f1-score   support\n",
      "\n",
      "   negative       0.64      0.17      0.26      2678\n",
      "   positive       0.88      0.99      0.93     17322\n",
      "\n",
      "avg / total       0.85      0.88      0.84     20000\n",
      "\n"
     ]
    }
   ],
   "source": [
    "#classification report\n",
    "from sklearn.metrics import classification_report\n",
    "print(classification_report(y_test,pred))"
   ]
  },
  {
   "cell_type": "code",
   "execution_count": 82,
   "metadata": {},
   "outputs": [
    {
     "data": {
      "text/plain": [
       "array([[  448,  2230],\n",
       "       [  256, 17066]])"
      ]
     },
     "execution_count": 82,
     "metadata": {},
     "output_type": "execute_result"
    }
   ],
   "source": [
    "from sklearn.metrics import confusion_matrix\n",
    "cm=confusion_matrix(y_test,pred)\n",
    "cm"
   ]
  },
  {
   "cell_type": "code",
   "execution_count": 83,
   "metadata": {},
   "outputs": [
    {
     "data": {
      "image/png": "[encoded data removed]",
      "text/plain": [
       "<Figure size 432x288 with 2 Axes>"
      ]
     },
     "metadata": {},
     "output_type": "display_data"
    }
   ],
   "source": [
    "#plot the confusion matrix to describe the performance\n",
    "import seaborn as sns\n",
    "class_label=['negative','positive']\n",
    "df_cm=pd.DataFrame(cm,index=class_label,columns=class_label)\n",
    "sns.heatmap(df_cm,annot=True,fmt='d')\n",
    "plt.title(\"Confusion matrix\")\n",
    "plt.xlabel(\"pred label\")\n",
    "plt.ylabel(\"True label\")\n",
    "plt.show()"
   ]
  },
  {
   "cell_type": "markdown",
   "metadata": {},
   "source": []
  },
  {
   "cell_type": "markdown",
   "metadata": {},
   "source": [
    "3.22-kd tree tfidf-w2v"
   ]
  },
  {
   "cell_type": "code",
   "execution_count": 84,
   "metadata": {},
   "outputs": [
    {
     "name": "stdout",
     "output_type": "stream",
     "text": [
      "\n",
      " cv accuracy for k=1 is 0.799\n",
      "\n",
      " cv accuracy for k=3 is 0.840\n",
      "\n",
      " cv accuracy for k=5 is 0.853\n",
      "\n",
      " cv accuracy for k=7 is 0.857\n",
      "\n",
      " cv accuracy for k=9 is 0.860\n",
      "\n",
      " cv accuracy for k=11 is 0.860\n",
      "\n",
      " cv accuracy for k=13 is 0.861\n"
     ]
    }
   ],
   "source": [
    "#kd tree for tfidf-w2v\n",
    "from sklearn.decomposition import TruncatedSVD\n",
    "svd=TruncatedSVD(n_components=300)\n",
    "X_train = svd.fit_transform(X_train)\n",
    "X_test = svd.fit_transform(X_test)\n",
    "X_cv = svd.fit_transform(X_cv)\n",
    "f_score=[]\n",
    "for i in range(1,15,2):\n",
    "    #instantiate learning model (k=15)\n",
    "    knn=KNeighborsClassifier(n_neighbors=i,algorithm ='kd_tree')\n",
    "    knn.fit(X_train,y_train)#fitting the model on train\n",
    "    pred=knn.predict(X_cv)#predict the response on the cv \n",
    "    #evaluate cv accuracy\n",
    "    f=f1_score(y_cv,pred,average='micro')\n",
    "    f_score.append(f)\n",
    "   \n",
    "    print('\\n cv accuracy for k=%d is %0.3f' %(i,f))"
   ]
  },
  {
   "cell_type": "code",
   "execution_count": 85,
   "metadata": {},
   "outputs": [
    {
     "data": {
      "image/png": "[encoded data removed]",
      "text/plain": [
       "<Figure size 432x288 with 1 Axes>"
      ]
     },
     "metadata": {},
     "output_type": "display_data"
    }
   ],
   "source": [
    "import matplotlib.pyplot as plt\n",
    "k=[i for i in range(1,15,2)]\n",
    "\n",
    "plt.plot(k,f_score)\n",
    "plt.xlabel(\"k\")\n",
    "plt.ylabel(\"cv_f_score\")\n",
    "plt.title(\"tfidf brute force cv_f_score\")\n",
    "plt.grid()\n",
    "plt.show()"
   ]
  },
  {
   "cell_type": "code",
   "execution_count": 86,
   "metadata": {},
   "outputs": [
    {
     "name": "stdout",
     "output_type": "stream",
     "text": [
      "\n",
      " ****Test f_score for k=11 is 0.858\n"
     ]
    }
   ],
   "source": [
    "knn=KNeighborsClassifier(11)\n",
    "knn.fit(X_train,y_train)\n",
    "pred=knn.predict(X_test)\n",
    "f=f1_score(y_test,pred,average='micro')\n",
    "print('\\n ****Test f_score for k=11 is %.03f' %(f))\n",
    "\n",
    "\n"
   ]
  },
  {
   "cell_type": "code",
   "execution_count": 87,
   "metadata": {},
   "outputs": [
    {
     "name": "stdout",
     "output_type": "stream",
     "text": [
      "test_error: 0.14185000000000003\n",
      "test_accuracy 0.85815\n"
     ]
    }
   ],
   "source": [
    "test_accuracy = accuracy_score(y_test, pred)\n",
    "test_error = 1 - test_accuracy\n",
    "print(\"test_error:\",test_error)\n",
    "print(\"test_accuracy\",test_accuracy)"
   ]
  },
  {
   "cell_type": "code",
   "execution_count": 88,
   "metadata": {},
   "outputs": [
    {
     "name": "stdout",
     "output_type": "stream",
     "text": [
      "             precision    recall  f1-score   support\n",
      "\n",
      "   negative       0.25      0.03      0.05      2678\n",
      "   positive       0.87      0.99      0.92     17322\n",
      "\n",
      "avg / total       0.78      0.86      0.81     20000\n",
      "\n"
     ]
    }
   ],
   "source": [
    "#classification report\n",
    "from sklearn.metrics import classification_report\n",
    "print(classification_report(y_test,pred))"
   ]
  },
  {
   "cell_type": "code",
   "execution_count": 89,
   "metadata": {},
   "outputs": [
    {
     "data": {
      "text/plain": [
       "array([[   77,  2601],\n",
       "       [  236, 17086]])"
      ]
     },
     "execution_count": 89,
     "metadata": {},
     "output_type": "execute_result"
    }
   ],
   "source": [
    "from sklearn.metrics import confusion_matrix\n",
    "cm=confusion_matrix(y_test,pred)\n",
    "cm"
   ]
  },
  {
   "cell_type": "code",
   "execution_count": 90,
   "metadata": {},
   "outputs": [
    {
     "data": {
      "image/png": "[encoded data removed]",
      "text/plain": [
       "<Figure size 432x288 with 2 Axes>"
      ]
     },
     "metadata": {},
     "output_type": "display_data"
    }
   ],
   "source": [
    "#plot the confusion matrix to describe the performance\n",
    "import seaborn as sns\n",
    "class_label=['negative','positive']\n",
    "df_cm=pd.DataFrame(cm,index=class_label,columns=class_label)\n",
    "sns.heatmap(df_cm,annot=True,fmt='d')\n",
    "plt.title(\"Confusion matrix\")\n",
    "plt.xlabel(\"pred label\")\n",
    "plt.ylabel(\"True label\")\n",
    "plt.show()"
   ]
  },
  {
   "cell_type": "markdown",
   "metadata": {},
   "source": [
    "* Conclusion-"
   ]
  },
  {
   "cell_type": "code",
   "execution_count": 91,
   "metadata": {},
   "outputs": [
    {
     "name": "stdout",
     "output_type": "stream",
     "text": [
      "+----------------+-------------+----------+----------------------+-----------+\n",
      "| Type of vector |     algo    | f1_score | accuracy(percentage) | optimal_k |\n",
      "+----------------+-------------+----------+----------------------+-----------+\n",
      "|      BOW       | Brute force |  0.869   |        85.97         |     5     |\n",
      "|     TFIDF      | Brute force |  0.873   |        87.34         |     9     |\n",
      "|    Avg-W2V     | Brute force |   0.88   |        88.11         |     11    |\n",
      "|   Tfidf-W2V    | Brute force |  0.876   |        87.71         |     11    |\n",
      "+----------------+-------------+----------+----------------------+-----------+\n"
     ]
    }
   ],
   "source": [
    "#from prettytable import prettyTable\n",
    "\n",
    "from prettytable import PrettyTable\n",
    "Table1=PrettyTable()\n",
    "Table1.field_names=['Type of vector','algo','f1_score','accuracy(percentage)','optimal_k']\n",
    "Table1.add_row(['BOW',      'Brute force',.869,85.97,5])\n",
    "Table1.add_row(['TFIDF',    'Brute force',.873,87.34,9])\n",
    "Table1.add_row(['Avg-W2V',  'Brute force',.880,88.11,11])\n",
    "Table1.add_row(['Tfidf-W2V','Brute force',.876,87.71,11])\n",
    "print(Table1)\n"
   ]
  },
  {
   "cell_type": "code",
   "execution_count": 47,
   "metadata": {},
   "outputs": [
    {
     "name": "stdout",
     "output_type": "stream",
     "text": [
      "+----------------+---------+----------+-------------+-----------+\n",
      "| Type of vector |   algo  | f1_score | accuracy(%) | optimal_k |\n",
      "+----------------+---------+----------+-------------+-----------+\n",
      "|      BOW       | Kd-tree |  0.857   |    85.66    |     11    |\n",
      "|     TFIDF      | Kd-tree |  0.862   |    85.47    |     9     |\n",
      "|    Avg-W2V     | kd-tree |  0.853   |     85.3    |     11    |\n",
      "|   Tfidf-W2V    | Kd-tree |  0.858   |    85.97    |     11    |\n",
      "+----------------+---------+----------+-------------+-----------+\n"
     ]
    }
   ],
   "source": [
    "#from prettytable import prettyTable\n",
    "from prettytable import PrettyTable\n",
    "Table2=PrettyTable()\n",
    "Table2.field_names=['Type of vector','algo','f1_score','accuracy(%)','optimal_k']\n",
    "Table2.add_row(['BOW',      'Kd-tree',.857,85.66,11])\n",
    "Table2.add_row(['TFIDF',    'Kd-tree',.862,85.47, 9])\n",
    "Table2.add_row(['Avg-W2V',  'kd-tree',.853,85.3,11])\n",
    "Table2.add_row(['Tfidf-W2V','Kd-tree',.858,85.97,11])\n",
    "print(Table2)\n"
   ]
  },
  {
   "cell_type": "markdown",
   "metadata": {},
   "source": [
    "*F1 score combines precision and recall relative to a specific positive class -\n",
    "The F1 score can be interpreted as a weighted  average of the precision and recall, where an F1 score reaches its best value  at 1 and worst at 0."
   ]
  },
  {
   "cell_type": "markdown",
   "metadata": {},
   "source": [
    "\n",
    " "
   ]
  },
  {
   "cell_type": "markdown",
   "metadata": {},
   "source": []
  },
  {
   "cell_type": "markdown",
   "metadata": {},
   "source": [
    "\n",
    "\n",
    "     * KNN model-\n",
    "\n",
    "        * Split the dataset into two pieces: a training set and a testing set.\n",
    "        \n",
    "        * Train the model on the training set.\n",
    "        \n",
    "        * Test the model on the testing set, and evaluate how well we did.\n",
    "\n",
    "\n",
    "     1.Pick a value for K.\n",
    "        \n",
    "     2.Search for the K observations in the training data that are \"nearest\" to the measurements of the unknown Amazone                                  \n",
    "     data\n",
    "     3.Use the most popular response value from the K nearest neighbors as the predicted response value for the unknown     \n",
    "     amazone data.\n",
    "        \n",
    "        \n",
    "        \n",
    "        \n",
    "    \n",
    "        \n",
    "        \n",
    "        \n",
    "    \n",
    "[M]"
   ]
  },
  {
   "cell_type": "markdown",
   "metadata": {},
   "source": [
    "M"
   ]
  },
  {
   "cell_type": "markdown",
   "metadata": {},
   "source": []
  },
  {
   "cell_type": "markdown",
   "metadata": {},
   "source": [
    "M"
   ]
  },
  {
   "cell_type": "markdown",
   "metadata": {},
   "source": [
    "complete"
   ]
  },
  {
   "cell_type": "code",
   "execution_count": null,
   "metadata": {},
   "outputs": [],
   "source": []
  }
 ],
 "metadata": {
  "kernelspec": {
   "display_name": "Python 3",
   "language": "python",
   "name": "python3"
  },
  "language_info": {
   "codemirror_mode": {
    "name": "ipython",
    "version": 3
   },
   "file_extension": ".py",
   "mimetype": "text/x-python",
   "name": "python",
   "nbconvert_exporter": "python",
   "pygments_lexer": "ipython3",
   "version": "3.6.5"
  }
 },
 "nbformat": 4,
 "nbformat_minor": 2
}
